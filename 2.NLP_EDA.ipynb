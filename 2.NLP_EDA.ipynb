{
 "cells": [
  {
   "cell_type": "code",
   "execution_count": 1,
   "id": "6f615f20",
   "metadata": {},
   "outputs": [],
   "source": [
    "import pandas as pd\n",
    "import numpy as np\n",
    "import matplotlib.pyplot as plt\n",
    "import seaborn as sns\n",
    "%matplotlib inline\n",
    "pd.set_option('display.max_colwidth', None)"
   ]
  },
  {
   "cell_type": "code",
   "execution_count": 2,
   "id": "ae50e4d6",
   "metadata": {},
   "outputs": [],
   "source": [
    "data = pd.read_csv('Dataset - NLP Assignment.csv')\n"
   ]
  },
  {
   "cell_type": "code",
   "execution_count": 3,
   "id": "c5ed3431",
   "metadata": {},
   "outputs": [
    {
     "data": {
      "text/html": [
       "<div>\n",
       "<style scoped>\n",
       "    .dataframe tbody tr th:only-of-type {\n",
       "        vertical-align: middle;\n",
       "    }\n",
       "\n",
       "    .dataframe tbody tr th {\n",
       "        vertical-align: top;\n",
       "    }\n",
       "\n",
       "    .dataframe thead th {\n",
       "        text-align: right;\n",
       "    }\n",
       "</style>\n",
       "<table border=\"1\" class=\"dataframe\">\n",
       "  <thead>\n",
       "    <tr style=\"text-align: right;\">\n",
       "      <th></th>\n",
       "      <th>ID</th>\n",
       "      <th>MEMBER_ID</th>\n",
       "      <th>REASONNPSSCORE__C</th>\n",
       "    </tr>\n",
       "  </thead>\n",
       "  <tbody>\n",
       "    <tr>\n",
       "      <th>0</th>\n",
       "      <td>a2p1U000000RowfQAC</td>\n",
       "      <td>0011U00000rjFKdQAM</td>\n",
       "      <td>I showed up for my appointment, but they had me double booked, so we didn't get to meet with the doctor for very long, and had an expedited visit. The doctor and staff were extremely friendly and apologized, and the office environment was very nice!</td>\n",
       "    </tr>\n",
       "    <tr>\n",
       "      <th>1</th>\n",
       "      <td>a2p1U000000RqQqQAK</td>\n",
       "      <td>0011U00000riCSHQA2</td>\n",
       "      <td>Staff was polite, courteous, and on time</td>\n",
       "    </tr>\n",
       "    <tr>\n",
       "      <th>2</th>\n",
       "      <td>a2p1U000000RqXyQAK</td>\n",
       "      <td>0011U00000riTw7QAE</td>\n",
       "      <td>Overall care is great!  It's wonderful to be able to spend 45-60 minutes with the actual Dr.</td>\n",
       "    </tr>\n",
       "    <tr>\n",
       "      <th>3</th>\n",
       "      <td>a2p1U000000Rq1LQAS</td>\n",
       "      <td>0011U00000rhu8eQAA</td>\n",
       "      <td>Like the doctor and staff at this location. Easy to get any appointment.</td>\n",
       "    </tr>\n",
       "    <tr>\n",
       "      <th>4</th>\n",
       "      <td>a2p1U000000RpiuQAC</td>\n",
       "      <td>0011U00000rk4SHQAY</td>\n",
       "      <td>The convenience and the doctors</td>\n",
       "    </tr>\n",
       "  </tbody>\n",
       "</table>\n",
       "</div>"
      ],
      "text/plain": [
       "                   ID           MEMBER_ID  \\\n",
       "0  a2p1U000000RowfQAC  0011U00000rjFKdQAM   \n",
       "1  a2p1U000000RqQqQAK  0011U00000riCSHQA2   \n",
       "2  a2p1U000000RqXyQAK  0011U00000riTw7QAE   \n",
       "3  a2p1U000000Rq1LQAS  0011U00000rhu8eQAA   \n",
       "4  a2p1U000000RpiuQAC  0011U00000rk4SHQAY   \n",
       "\n",
       "                                                                                                                                                                                                                                           REASONNPSSCORE__C  \n",
       "0  I showed up for my appointment, but they had me double booked, so we didn't get to meet with the doctor for very long, and had an expedited visit. The doctor and staff were extremely friendly and apologized, and the office environment was very nice!  \n",
       "1                                                                                                                                                                                                                   Staff was polite, courteous, and on time  \n",
       "2                                                                                                                                                               Overall care is great!  It's wonderful to be able to spend 45-60 minutes with the actual Dr.  \n",
       "3                                                                                                                                                                                   Like the doctor and staff at this location. Easy to get any appointment.  \n",
       "4                                                                                                                                                                                                                            The convenience and the doctors  "
      ]
     },
     "execution_count": 3,
     "metadata": {},
     "output_type": "execute_result"
    }
   ],
   "source": [
    "data.head()"
   ]
  },
  {
   "cell_type": "code",
   "execution_count": 4,
   "id": "335c869d",
   "metadata": {},
   "outputs": [
    {
     "data": {
      "text/plain": [
       "ID                   0\n",
       "MEMBER_ID            0\n",
       "REASONNPSSCORE__C    0\n",
       "dtype: int64"
      ]
     },
     "execution_count": 4,
     "metadata": {},
     "output_type": "execute_result"
    }
   ],
   "source": [
    "# checking null values\n",
    "data.isnull().sum()"
   ]
  },
  {
   "cell_type": "code",
   "execution_count": 5,
   "id": "f825f61c",
   "metadata": {},
   "outputs": [
    {
     "name": "stdout",
     "output_type": "stream",
     "text": [
      "<class 'pandas.core.frame.DataFrame'>\n",
      "RangeIndex: 3812 entries, 0 to 3811\n",
      "Data columns (total 3 columns):\n",
      " #   Column             Non-Null Count  Dtype \n",
      "---  ------             --------------  ----- \n",
      " 0   ID                 3812 non-null   object\n",
      " 1   MEMBER_ID          3812 non-null   object\n",
      " 2   REASONNPSSCORE__C  3812 non-null   object\n",
      "dtypes: object(3)\n",
      "memory usage: 89.5+ KB\n"
     ]
    }
   ],
   "source": [
    "# information\n",
    "data.info()\n"
   ]
  },
  {
   "cell_type": "code",
   "execution_count": 6,
   "id": "d97c8823",
   "metadata": {},
   "outputs": [],
   "source": [
    "data.drop(columns=['ID','MEMBER_ID'],inplace=True)"
   ]
  },
  {
   "cell_type": "code",
   "execution_count": 7,
   "id": "3997c6dd",
   "metadata": {},
   "outputs": [
    {
     "data": {
      "text/html": [
       "<div>\n",
       "<style scoped>\n",
       "    .dataframe tbody tr th:only-of-type {\n",
       "        vertical-align: middle;\n",
       "    }\n",
       "\n",
       "    .dataframe tbody tr th {\n",
       "        vertical-align: top;\n",
       "    }\n",
       "\n",
       "    .dataframe thead th {\n",
       "        text-align: right;\n",
       "    }\n",
       "</style>\n",
       "<table border=\"1\" class=\"dataframe\">\n",
       "  <thead>\n",
       "    <tr style=\"text-align: right;\">\n",
       "      <th></th>\n",
       "      <th>REASONNPSSCORE__C</th>\n",
       "    </tr>\n",
       "  </thead>\n",
       "  <tbody>\n",
       "    <tr>\n",
       "      <th>0</th>\n",
       "      <td>I showed up for my appointment, but they had me double booked, so we didn't get to meet with the doctor for very long, and had an expedited visit. The doctor and staff were extremely friendly and apologized, and the office environment was very nice!</td>\n",
       "    </tr>\n",
       "    <tr>\n",
       "      <th>1</th>\n",
       "      <td>Staff was polite, courteous, and on time</td>\n",
       "    </tr>\n",
       "    <tr>\n",
       "      <th>2</th>\n",
       "      <td>Overall care is great!  It's wonderful to be able to spend 45-60 minutes with the actual Dr.</td>\n",
       "    </tr>\n",
       "    <tr>\n",
       "      <th>3</th>\n",
       "      <td>Like the doctor and staff at this location. Easy to get any appointment.</td>\n",
       "    </tr>\n",
       "    <tr>\n",
       "      <th>4</th>\n",
       "      <td>The convenience and the doctors</td>\n",
       "    </tr>\n",
       "    <tr>\n",
       "      <th>...</th>\n",
       "      <td>...</td>\n",
       "    </tr>\n",
       "    <tr>\n",
       "      <th>3807</th>\n",
       "      <td>yes</td>\n",
       "    </tr>\n",
       "    <tr>\n",
       "      <th>3808</th>\n",
       "      <td>Very skeptical that you will soon be without a Dr. and possibly for how long? When I call, nobody ever answers the phone!</td>\n",
       "    </tr>\n",
       "    <tr>\n",
       "      <th>3809</th>\n",
       "      <td>Doctor Malfese is easily accessible, staff is friendly and helpful. There are two locations nearby.</td>\n",
       "    </tr>\n",
       "    <tr>\n",
       "      <th>3810</th>\n",
       "      <td>Friendly Staff that can be reached at any time</td>\n",
       "    </tr>\n",
       "    <tr>\n",
       "      <th>3811</th>\n",
       "      <td>This was without a doubt the worst example of patient service that I have ever experienced. I agree to be a part of this because I wanted to suppport my husband and his decision. However I will not be a patient of XYZ Health.</td>\n",
       "    </tr>\n",
       "  </tbody>\n",
       "</table>\n",
       "<p>3812 rows × 1 columns</p>\n",
       "</div>"
      ],
      "text/plain": [
       "                                                                                                                                                                                                                                              REASONNPSSCORE__C\n",
       "0     I showed up for my appointment, but they had me double booked, so we didn't get to meet with the doctor for very long, and had an expedited visit. The doctor and staff were extremely friendly and apologized, and the office environment was very nice!\n",
       "1                                                                                                                                                                                                                      Staff was polite, courteous, and on time\n",
       "2                                                                                                                                                                  Overall care is great!  It's wonderful to be able to spend 45-60 minutes with the actual Dr.\n",
       "3                                                                                                                                                                                      Like the doctor and staff at this location. Easy to get any appointment.\n",
       "4                                                                                                                                                                                                                               The convenience and the doctors\n",
       "...                                                                                                                                                                                                                                                         ...\n",
       "3807                                                                                                                                                                                                                                                        yes\n",
       "3808                                                                                                                                  Very skeptical that you will soon be without a Dr. and possibly for how long? When I call, nobody ever answers the phone!\n",
       "3809                                                                                                                                                        Doctor Malfese is easily accessible, staff is friendly and helpful. There are two locations nearby.\n",
       "3810                                                                                                                                                                                                             Friendly Staff that can be reached at any time\n",
       "3811                          This was without a doubt the worst example of patient service that I have ever experienced. I agree to be a part of this because I wanted to suppport my husband and his decision. However I will not be a patient of XYZ Health.\n",
       "\n",
       "[3812 rows x 1 columns]"
      ]
     },
     "execution_count": 7,
     "metadata": {},
     "output_type": "execute_result"
    }
   ],
   "source": [
    "data"
   ]
  },
  {
   "cell_type": "code",
   "execution_count": 8,
   "id": "eaa99069",
   "metadata": {},
   "outputs": [],
   "source": [
    "data['REASONNPSSCORE__C'] = data['REASONNPSSCORE__C'].astype(str)"
   ]
  },
  {
   "cell_type": "code",
   "execution_count": 9,
   "id": "f94b443b",
   "metadata": {},
   "outputs": [
    {
     "data": {
      "text/html": [
       "<div>\n",
       "<style scoped>\n",
       "    .dataframe tbody tr th:only-of-type {\n",
       "        vertical-align: middle;\n",
       "    }\n",
       "\n",
       "    .dataframe tbody tr th {\n",
       "        vertical-align: top;\n",
       "    }\n",
       "\n",
       "    .dataframe thead th {\n",
       "        text-align: right;\n",
       "    }\n",
       "</style>\n",
       "<table border=\"1\" class=\"dataframe\">\n",
       "  <thead>\n",
       "    <tr style=\"text-align: right;\">\n",
       "      <th></th>\n",
       "      <th>REASONNPSSCORE__C</th>\n",
       "    </tr>\n",
       "  </thead>\n",
       "  <tbody>\n",
       "    <tr>\n",
       "      <th>0</th>\n",
       "      <td>I showed up for my appointment, but they had me double booked, so we didn't get to meet with the doctor for very long, and had an expedited visit. The doctor and staff were extremely friendly and apologized, and the office environment was very nice!</td>\n",
       "    </tr>\n",
       "    <tr>\n",
       "      <th>1</th>\n",
       "      <td>Staff was polite, courteous, and on time</td>\n",
       "    </tr>\n",
       "    <tr>\n",
       "      <th>2</th>\n",
       "      <td>Overall care is great!  It's wonderful to be able to spend 45-60 minutes with the actual Dr.</td>\n",
       "    </tr>\n",
       "    <tr>\n",
       "      <th>3</th>\n",
       "      <td>Like the doctor and staff at this location. Easy to get any appointment.</td>\n",
       "    </tr>\n",
       "    <tr>\n",
       "      <th>4</th>\n",
       "      <td>The convenience and the doctors</td>\n",
       "    </tr>\n",
       "    <tr>\n",
       "      <th>...</th>\n",
       "      <td>...</td>\n",
       "    </tr>\n",
       "    <tr>\n",
       "      <th>3807</th>\n",
       "      <td>yes</td>\n",
       "    </tr>\n",
       "    <tr>\n",
       "      <th>3808</th>\n",
       "      <td>Very skeptical that you will soon be without a Dr. and possibly for how long? When I call, nobody ever answers the phone!</td>\n",
       "    </tr>\n",
       "    <tr>\n",
       "      <th>3809</th>\n",
       "      <td>Doctor Malfese is easily accessible, staff is friendly and helpful. There are two locations nearby.</td>\n",
       "    </tr>\n",
       "    <tr>\n",
       "      <th>3810</th>\n",
       "      <td>Friendly Staff that can be reached at any time</td>\n",
       "    </tr>\n",
       "    <tr>\n",
       "      <th>3811</th>\n",
       "      <td>This was without a doubt the worst example of patient service that I have ever experienced. I agree to be a part of this because I wanted to suppport my husband and his decision. However I will not be a patient of XYZ Health.</td>\n",
       "    </tr>\n",
       "  </tbody>\n",
       "</table>\n",
       "<p>3812 rows × 1 columns</p>\n",
       "</div>"
      ],
      "text/plain": [
       "                                                                                                                                                                                                                                              REASONNPSSCORE__C\n",
       "0     I showed up for my appointment, but they had me double booked, so we didn't get to meet with the doctor for very long, and had an expedited visit. The doctor and staff were extremely friendly and apologized, and the office environment was very nice!\n",
       "1                                                                                                                                                                                                                      Staff was polite, courteous, and on time\n",
       "2                                                                                                                                                                  Overall care is great!  It's wonderful to be able to spend 45-60 minutes with the actual Dr.\n",
       "3                                                                                                                                                                                      Like the doctor and staff at this location. Easy to get any appointment.\n",
       "4                                                                                                                                                                                                                               The convenience and the doctors\n",
       "...                                                                                                                                                                                                                                                         ...\n",
       "3807                                                                                                                                                                                                                                                        yes\n",
       "3808                                                                                                                                  Very skeptical that you will soon be without a Dr. and possibly for how long? When I call, nobody ever answers the phone!\n",
       "3809                                                                                                                                                        Doctor Malfese is easily accessible, staff is friendly and helpful. There are two locations nearby.\n",
       "3810                                                                                                                                                                                                             Friendly Staff that can be reached at any time\n",
       "3811                          This was without a doubt the worst example of patient service that I have ever experienced. I agree to be a part of this because I wanted to suppport my husband and his decision. However I will not be a patient of XYZ Health.\n",
       "\n",
       "[3812 rows x 1 columns]"
      ]
     },
     "execution_count": 9,
     "metadata": {},
     "output_type": "execute_result"
    }
   ],
   "source": [
    "data"
   ]
  },
  {
   "cell_type": "code",
   "execution_count": 10,
   "id": "984ad3d6",
   "metadata": {},
   "outputs": [
    {
     "data": {
      "text/plain": [
       "<AxesSubplot:>"
      ]
     },
     "execution_count": 10,
     "metadata": {},
     "output_type": "execute_result"
    },
    {
     "data": {
      "image/png": "[encoded data removed]",
      "text/plain": [
       "<Figure size 432x288 with 1 Axes>"
      ]
     },
     "metadata": {
      "needs_background": "light"
     },
     "output_type": "display_data"
    }
   ],
   "source": [
    "data.REASONNPSSCORE__C.str.len().hist()"
   ]
  },
  {
   "cell_type": "markdown",
   "id": "f8ce48e8",
   "metadata": {},
   "source": [
    "- ##  Most feedback character of text is in range between 0 to 300 "
   ]
  },
  {
   "cell_type": "code",
   "execution_count": 12,
   "id": "1dd68ea9",
   "metadata": {},
   "outputs": [],
   "source": [
    "# Word Length Histogram\n",
    "\n",
    "import numpy as np\n",
    "\n",
    "def plot_word_length_histogram(text):\n",
    "    text.str.split().\\\n",
    "        apply(lambda x : [len(i) for i in x]). \\\n",
    "        map(lambda x: np.mean(x)).\\\n",
    "        hist()\n"
   ]
  },
  {
   "cell_type": "code",
   "execution_count": 13,
   "id": "8bfcad87",
   "metadata": {},
   "outputs": [
    {
     "data": {
      "image/png": "[encoded data removed]",
      "text/plain": [
       "<Figure size 432x288 with 1 Axes>"
      ]
     },
     "metadata": {
      "needs_background": "light"
     },
     "output_type": "display_data"
    }
   ],
   "source": [
    "plot_word_length_histogram(data['REASONNPSSCORE__C'])"
   ]
  },
  {
   "cell_type": "markdown",
   "id": "64dd9016",
   "metadata": {},
   "source": [
    "* ### Most word length is in between 1 to 25"
   ]
  },
  {
   "cell_type": "code",
   "execution_count": 17,
   "id": "a2ba47a2",
   "metadata": {},
   "outputs": [
    {
     "name": "stderr",
     "output_type": "stream",
     "text": [
      "[nltk_data] Downloading package stopwords to\n",
      "[nltk_data]     C:\\Users\\HP\\AppData\\Roaming\\nltk_data...\n",
      "[nltk_data]   Package stopwords is already up-to-date!\n"
     ]
    },
    {
     "data": {
      "text/plain": [
       "<BarContainer object of 10 artists>"
      ]
     },
     "execution_count": 17,
     "metadata": {},
     "output_type": "execute_result"
    },
    {
     "data": {
      "image/png": "[encoded data removed]",
      "text/plain": [
       "<Figure size 432x288 with 1 Axes>"
      ]
     },
     "metadata": {
      "needs_background": "light"
     },
     "output_type": "display_data"
    }
   ],
   "source": [
    "import nltk\n",
    "from nltk.corpus import stopwords\n",
    "nltk.download('stopwords')\n",
    "stop=set(stopwords.words('english'))\n",
    "\n",
    "corpus=[]\n",
    "new= data['REASONNPSSCORE__C'].str.split()\n",
    "new=new.values.tolist()\n",
    "corpus=[word for i in new for word in i]\n",
    "\n",
    "from collections import defaultdict\n",
    "dic=defaultdict(int)\n",
    "for word in corpus:\n",
    "    if word in stop:\n",
    "        dic[word]+=1\n",
    "        \n",
    "top=sorted(dic.items(), key=lambda x:x[1],reverse=True)[:10] \n",
    "x,y=zip(*top)\n",
    "plt.bar(x,y)\n"
   ]
  },
  {
   "cell_type": "code",
   "execution_count": 19,
   "id": "1124774b",
   "metadata": {},
   "outputs": [],
   "source": [
    "# Code Snippet for Top Non-Stopwords Barchart\n",
    "\n",
    "import seaborn as sns\n",
    "from nltk.corpus import stopwords\n",
    "from collections import  Counter\n",
    "\n",
    "def plot_top_non_stopwords_barchart(text):\n",
    "    stop=set(stopwords.words('english'))\n",
    "    \n",
    "    new= text.str.split()\n",
    "    new=new.values.tolist()\n",
    "    corpus=[word for i in new for word in i]\n",
    "\n",
    "    counter=Counter(corpus)\n",
    "    most=counter.most_common()\n",
    "    x, y=[], []\n",
    "    for word,count in most[:40]:\n",
    "        if (word not in stop):\n",
    "            x.append(word)\n",
    "            y.append(count)\n",
    "            \n",
    "    sns.barplot(x=y,y=x)"
   ]
  },
  {
   "cell_type": "markdown",
   "id": "bd38ad8a",
   "metadata": {},
   "source": [
    "##### doctor word is occuring most of the time as we can in this "
   ]
  },
  {
   "cell_type": "code",
   "execution_count": 20,
   "id": "9d136946",
   "metadata": {},
   "outputs": [
    {
     "data": {
      "image/png": "[encoded data removed]",
      "text/plain": [
       "<Figure size 432x288 with 1 Axes>"
      ]
     },
     "metadata": {
      "needs_background": "light"
     },
     "output_type": "display_data"
    }
   ],
   "source": [
    "plot_top_non_stopwords_barchart(data['REASONNPSSCORE__C'])"
   ]
  },
  {
   "cell_type": "code",
   "execution_count": null,
   "id": "e07e0fb9",
   "metadata": {},
   "outputs": [],
   "source": []
  },
  {
   "cell_type": "code",
   "execution_count": 21,
   "id": "4c8c5391",
   "metadata": {},
   "outputs": [],
   "source": [
    "from nltk.util import ngrams"
   ]
  },
  {
   "cell_type": "code",
   "execution_count": 24,
   "id": "05bce910",
   "metadata": {},
   "outputs": [
    {
     "data": {
      "image/png": "[encoded data removed]",
      "text/plain": [
       "<Figure size 432x288 with 1 Axes>"
      ]
     },
     "metadata": {
      "needs_background": "light"
     },
     "output_type": "display_data"
    }
   ],
   "source": [
    "from sklearn.feature_extraction.text import CountVectorizer\n",
    "from collections import  Counter\n",
    "\n",
    "def plot_top_ngrams_barchart(text, n=2):\n",
    "    stop=set(stopwords.words('english'))\n",
    "\n",
    "    new= text.str.split()\n",
    "    new=new.values.tolist()\n",
    "    corpus=[word for i in new for word in i]\n",
    "\n",
    "    def _get_top_ngram(corpus, n=None):\n",
    "        vec = CountVectorizer(ngram_range=(n, n)).fit(corpus)\n",
    "        bag_of_words = vec.transform(corpus)\n",
    "        sum_words = bag_of_words.sum(axis=0) \n",
    "        words_freq = [(word, sum_words[0, idx]) \n",
    "                      for word, idx in vec.vocabulary_.items()]\n",
    "        words_freq =sorted(words_freq, key = lambda x: x[1], reverse=True)\n",
    "        return words_freq[:10]\n",
    "\n",
    "    top_n_bigrams=_get_top_ngram(text,n)[:10]\n",
    "    x,y=map(list,zip(*top_n_bigrams))\n",
    "    sns.barplot(x=y,y=x)\n",
    "\n",
    "plot_top_ngrams_barchart(data['REASONNPSSCORE__C'],2)\n"
   ]
  },
  {
   "cell_type": "code",
   "execution_count": null,
   "id": "3c9ee334",
   "metadata": {},
   "outputs": [],
   "source": []
  }
 ],
 "metadata": {
  "kernelspec": {
   "display_name": "Python 3",
   "language": "python",
   "name": "python3"
  },
  "language_info": {
   "codemirror_mode": {
    "name": "ipython",
    "version": 3
   },
   "file_extension": ".py",
   "mimetype": "text/x-python",
   "name": "python",
   "nbconvert_exporter": "python",
   "pygments_lexer": "ipython3",
   "version": "3.8.8"
  }
 },
 "nbformat": 4,
 "nbformat_minor": 5
}
