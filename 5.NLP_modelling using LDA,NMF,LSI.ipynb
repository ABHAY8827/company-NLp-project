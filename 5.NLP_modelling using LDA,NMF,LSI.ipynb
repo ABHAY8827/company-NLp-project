{
 "cells": [
  {
   "cell_type": "code",
   "execution_count": 1,
   "id": "0368ea35",
   "metadata": {},
   "outputs": [],
   "source": [
    "import pandas as pd\n",
    "import matplotlib.pyplot as plt\n",
    "import seaborn as sns\n",
    "from wordcloud import WordCloud\n",
    "import re"
   ]
  },
  {
   "cell_type": "code",
   "execution_count": 2,
   "id": "4509c965",
   "metadata": {},
   "outputs": [],
   "source": [
    "import nltk\n",
    "from nltk.corpus import stopwords\n",
    "from nltk.stem import WordNetLemmatizer"
   ]
  },
  {
   "cell_type": "code",
   "execution_count": 3,
   "id": "c4245a9e",
   "metadata": {},
   "outputs": [],
   "source": [
    "from sklearn.feature_extraction.text import CountVectorizer\n",
    "from sklearn.model_selection import GridSearchCV"
   ]
  },
  {
   "cell_type": "code",
   "execution_count": 4,
   "id": "2f87ec55",
   "metadata": {},
   "outputs": [],
   "source": [
    "from sklearn.metrics import accuracy_score,precision_score,recall_score,confusion_matrix,roc_curve,classification_report\n",
    "from scikitplot.metrics import plot_confusion_matrix"
   ]
  },
  {
   "cell_type": "code",
   "execution_count": 5,
   "id": "985c3d20",
   "metadata": {},
   "outputs": [],
   "source": [
    "data = pd.read_csv('Dataset - NLP Assignment.csv')"
   ]
  },
  {
   "cell_type": "code",
   "execution_count": 6,
   "id": "689455bf",
   "metadata": {},
   "outputs": [
    {
     "data": {
      "text/html": [
       "<div>\n",
       "<style scoped>\n",
       "    .dataframe tbody tr th:only-of-type {\n",
       "        vertical-align: middle;\n",
       "    }\n",
       "\n",
       "    .dataframe tbody tr th {\n",
       "        vertical-align: top;\n",
       "    }\n",
       "\n",
       "    .dataframe thead th {\n",
       "        text-align: right;\n",
       "    }\n",
       "</style>\n",
       "<table border=\"1\" class=\"dataframe\">\n",
       "  <thead>\n",
       "    <tr style=\"text-align: right;\">\n",
       "      <th></th>\n",
       "      <th>ID</th>\n",
       "      <th>MEMBER_ID</th>\n",
       "      <th>REASONNPSSCORE__C</th>\n",
       "    </tr>\n",
       "  </thead>\n",
       "  <tbody>\n",
       "    <tr>\n",
       "      <th>0</th>\n",
       "      <td>a2p1U000000RowfQAC</td>\n",
       "      <td>0011U00000rjFKdQAM</td>\n",
       "      <td>I showed up for my appointment, but they had m...</td>\n",
       "    </tr>\n",
       "    <tr>\n",
       "      <th>1</th>\n",
       "      <td>a2p1U000000RqQqQAK</td>\n",
       "      <td>0011U00000riCSHQA2</td>\n",
       "      <td>Staff was polite, courteous, and on time</td>\n",
       "    </tr>\n",
       "    <tr>\n",
       "      <th>2</th>\n",
       "      <td>a2p1U000000RqXyQAK</td>\n",
       "      <td>0011U00000riTw7QAE</td>\n",
       "      <td>Overall care is great!  It's wonderful to be a...</td>\n",
       "    </tr>\n",
       "    <tr>\n",
       "      <th>3</th>\n",
       "      <td>a2p1U000000Rq1LQAS</td>\n",
       "      <td>0011U00000rhu8eQAA</td>\n",
       "      <td>Like the doctor and staff at this location. Ea...</td>\n",
       "    </tr>\n",
       "    <tr>\n",
       "      <th>4</th>\n",
       "      <td>a2p1U000000RpiuQAC</td>\n",
       "      <td>0011U00000rk4SHQAY</td>\n",
       "      <td>The convenience and the doctors</td>\n",
       "    </tr>\n",
       "  </tbody>\n",
       "</table>\n",
       "</div>"
      ],
      "text/plain": [
       "                   ID           MEMBER_ID  \\\n",
       "0  a2p1U000000RowfQAC  0011U00000rjFKdQAM   \n",
       "1  a2p1U000000RqQqQAK  0011U00000riCSHQA2   \n",
       "2  a2p1U000000RqXyQAK  0011U00000riTw7QAE   \n",
       "3  a2p1U000000Rq1LQAS  0011U00000rhu8eQAA   \n",
       "4  a2p1U000000RpiuQAC  0011U00000rk4SHQAY   \n",
       "\n",
       "                                   REASONNPSSCORE__C  \n",
       "0  I showed up for my appointment, but they had m...  \n",
       "1           Staff was polite, courteous, and on time  \n",
       "2  Overall care is great!  It's wonderful to be a...  \n",
       "3  Like the doctor and staff at this location. Ea...  \n",
       "4                    The convenience and the doctors  "
      ]
     },
     "execution_count": 6,
     "metadata": {},
     "output_type": "execute_result"
    }
   ],
   "source": [
    "data.head()"
   ]
  },
  {
   "cell_type": "code",
   "execution_count": 7,
   "id": "88e642af",
   "metadata": {},
   "outputs": [
    {
     "data": {
      "text/plain": [
       "ID                   0\n",
       "MEMBER_ID            0\n",
       "REASONNPSSCORE__C    0\n",
       "dtype: int64"
      ]
     },
     "execution_count": 7,
     "metadata": {},
     "output_type": "execute_result"
    }
   ],
   "source": [
    "# checking null values\n",
    "data.isnull().sum()"
   ]
  },
  {
   "cell_type": "code",
   "execution_count": 8,
   "id": "b2654331",
   "metadata": {},
   "outputs": [
    {
     "name": "stdout",
     "output_type": "stream",
     "text": [
      "<class 'pandas.core.frame.DataFrame'>\n",
      "RangeIndex: 3812 entries, 0 to 3811\n",
      "Data columns (total 3 columns):\n",
      " #   Column             Non-Null Count  Dtype \n",
      "---  ------             --------------  ----- \n",
      " 0   ID                 3812 non-null   object\n",
      " 1   MEMBER_ID          3812 non-null   object\n",
      " 2   REASONNPSSCORE__C  3812 non-null   object\n",
      "dtypes: object(3)\n",
      "memory usage: 89.5+ KB\n"
     ]
    }
   ],
   "source": [
    "# information\n",
    "data.info()\n"
   ]
  },
  {
   "cell_type": "code",
   "execution_count": 9,
   "id": "a8e482fc",
   "metadata": {},
   "outputs": [],
   "source": [
    "data.drop(columns=['ID','MEMBER_ID'],inplace=True)"
   ]
  },
  {
   "cell_type": "code",
   "execution_count": 10,
   "id": "7a54377a",
   "metadata": {},
   "outputs": [
    {
     "data": {
      "text/html": [
       "<div>\n",
       "<style scoped>\n",
       "    .dataframe tbody tr th:only-of-type {\n",
       "        vertical-align: middle;\n",
       "    }\n",
       "\n",
       "    .dataframe tbody tr th {\n",
       "        vertical-align: top;\n",
       "    }\n",
       "\n",
       "    .dataframe thead th {\n",
       "        text-align: right;\n",
       "    }\n",
       "</style>\n",
       "<table border=\"1\" class=\"dataframe\">\n",
       "  <thead>\n",
       "    <tr style=\"text-align: right;\">\n",
       "      <th></th>\n",
       "      <th>REASONNPSSCORE__C</th>\n",
       "    </tr>\n",
       "  </thead>\n",
       "  <tbody>\n",
       "    <tr>\n",
       "      <th>0</th>\n",
       "      <td>I showed up for my appointment, but they had m...</td>\n",
       "    </tr>\n",
       "    <tr>\n",
       "      <th>1</th>\n",
       "      <td>Staff was polite, courteous, and on time</td>\n",
       "    </tr>\n",
       "    <tr>\n",
       "      <th>2</th>\n",
       "      <td>Overall care is great!  It's wonderful to be a...</td>\n",
       "    </tr>\n",
       "    <tr>\n",
       "      <th>3</th>\n",
       "      <td>Like the doctor and staff at this location. Ea...</td>\n",
       "    </tr>\n",
       "    <tr>\n",
       "      <th>4</th>\n",
       "      <td>The convenience and the doctors</td>\n",
       "    </tr>\n",
       "    <tr>\n",
       "      <th>...</th>\n",
       "      <td>...</td>\n",
       "    </tr>\n",
       "    <tr>\n",
       "      <th>3807</th>\n",
       "      <td>yes</td>\n",
       "    </tr>\n",
       "    <tr>\n",
       "      <th>3808</th>\n",
       "      <td>Very skeptical that you will soon be without a...</td>\n",
       "    </tr>\n",
       "    <tr>\n",
       "      <th>3809</th>\n",
       "      <td>Doctor Malfese is easily accessible, staff is ...</td>\n",
       "    </tr>\n",
       "    <tr>\n",
       "      <th>3810</th>\n",
       "      <td>Friendly Staff that can be reached at any time</td>\n",
       "    </tr>\n",
       "    <tr>\n",
       "      <th>3811</th>\n",
       "      <td>This was without a doubt the worst example of ...</td>\n",
       "    </tr>\n",
       "  </tbody>\n",
       "</table>\n",
       "<p>3812 rows × 1 columns</p>\n",
       "</div>"
      ],
      "text/plain": [
       "                                      REASONNPSSCORE__C\n",
       "0     I showed up for my appointment, but they had m...\n",
       "1              Staff was polite, courteous, and on time\n",
       "2     Overall care is great!  It's wonderful to be a...\n",
       "3     Like the doctor and staff at this location. Ea...\n",
       "4                       The convenience and the doctors\n",
       "...                                                 ...\n",
       "3807                                                yes\n",
       "3808  Very skeptical that you will soon be without a...\n",
       "3809  Doctor Malfese is easily accessible, staff is ...\n",
       "3810     Friendly Staff that can be reached at any time\n",
       "3811  This was without a doubt the worst example of ...\n",
       "\n",
       "[3812 rows x 1 columns]"
      ]
     },
     "execution_count": 10,
     "metadata": {},
     "output_type": "execute_result"
    }
   ],
   "source": [
    "data"
   ]
  },
  {
   "cell_type": "code",
   "execution_count": 11,
   "id": "c130ecd9",
   "metadata": {},
   "outputs": [],
   "source": [
    "data['REASONNPSSCORE__C'] = data['REASONNPSSCORE__C'].astype(str)"
   ]
  },
  {
   "cell_type": "code",
   "execution_count": 12,
   "id": "9c99581f",
   "metadata": {},
   "outputs": [
    {
     "data": {
      "text/html": [
       "<div>\n",
       "<style scoped>\n",
       "    .dataframe tbody tr th:only-of-type {\n",
       "        vertical-align: middle;\n",
       "    }\n",
       "\n",
       "    .dataframe tbody tr th {\n",
       "        vertical-align: top;\n",
       "    }\n",
       "\n",
       "    .dataframe thead th {\n",
       "        text-align: right;\n",
       "    }\n",
       "</style>\n",
       "<table border=\"1\" class=\"dataframe\">\n",
       "  <thead>\n",
       "    <tr style=\"text-align: right;\">\n",
       "      <th></th>\n",
       "      <th>REASONNPSSCORE__C</th>\n",
       "    </tr>\n",
       "  </thead>\n",
       "  <tbody>\n",
       "    <tr>\n",
       "      <th>0</th>\n",
       "      <td>I showed up for my appointment, but they had m...</td>\n",
       "    </tr>\n",
       "    <tr>\n",
       "      <th>1</th>\n",
       "      <td>Staff was polite, courteous, and on time</td>\n",
       "    </tr>\n",
       "    <tr>\n",
       "      <th>2</th>\n",
       "      <td>Overall care is great!  It's wonderful to be a...</td>\n",
       "    </tr>\n",
       "    <tr>\n",
       "      <th>3</th>\n",
       "      <td>Like the doctor and staff at this location. Ea...</td>\n",
       "    </tr>\n",
       "    <tr>\n",
       "      <th>4</th>\n",
       "      <td>The convenience and the doctors</td>\n",
       "    </tr>\n",
       "    <tr>\n",
       "      <th>...</th>\n",
       "      <td>...</td>\n",
       "    </tr>\n",
       "    <tr>\n",
       "      <th>3807</th>\n",
       "      <td>yes</td>\n",
       "    </tr>\n",
       "    <tr>\n",
       "      <th>3808</th>\n",
       "      <td>Very skeptical that you will soon be without a...</td>\n",
       "    </tr>\n",
       "    <tr>\n",
       "      <th>3809</th>\n",
       "      <td>Doctor Malfese is easily accessible, staff is ...</td>\n",
       "    </tr>\n",
       "    <tr>\n",
       "      <th>3810</th>\n",
       "      <td>Friendly Staff that can be reached at any time</td>\n",
       "    </tr>\n",
       "    <tr>\n",
       "      <th>3811</th>\n",
       "      <td>This was without a doubt the worst example of ...</td>\n",
       "    </tr>\n",
       "  </tbody>\n",
       "</table>\n",
       "<p>3812 rows × 1 columns</p>\n",
       "</div>"
      ],
      "text/plain": [
       "                                      REASONNPSSCORE__C\n",
       "0     I showed up for my appointment, but they had m...\n",
       "1              Staff was polite, courteous, and on time\n",
       "2     Overall care is great!  It's wonderful to be a...\n",
       "3     Like the doctor and staff at this location. Ea...\n",
       "4                       The convenience and the doctors\n",
       "...                                                 ...\n",
       "3807                                                yes\n",
       "3808  Very skeptical that you will soon be without a...\n",
       "3809  Doctor Malfese is easily accessible, staff is ...\n",
       "3810     Friendly Staff that can be reached at any time\n",
       "3811  This was without a doubt the worst example of ...\n",
       "\n",
       "[3812 rows x 1 columns]"
      ]
     },
     "execution_count": 12,
     "metadata": {},
     "output_type": "execute_result"
    }
   ],
   "source": [
    "data"
   ]
  },
  {
   "cell_type": "code",
   "execution_count": 13,
   "id": "4b4959de",
   "metadata": {},
   "outputs": [],
   "source": [
    "from nltk.corpus import stopwords \n",
    "from nltk.stem.porter import PorterStemmer\n",
    "ps= PorterStemmer()\n",
    "corpus = []\n",
    "for i in range(len(data['REASONNPSSCORE__C'])):\n",
    "    review=re.sub('[^a-z-A-Z]', ' ',data['REASONNPSSCORE__C'][i])\n",
    "    review=review.lower()\n",
    "    review=review.split()\n",
    "    \n",
    "    review=[ps.stem(word) for word in review if not word in stopwords.words('english')]\n",
    "    review= ' '.join(review)\n",
    "    corpus.append(review)"
   ]
  },
  {
   "cell_type": "code",
   "execution_count": 14,
   "id": "daaab526",
   "metadata": {},
   "outputs": [],
   "source": [
    "def clean_text(text):\n",
    "    tokenized_text = word_tokenize(text.lower())\n",
    "    cleaned_text = [t for t in tokenized_text if t not in STOPWORDS and re.match('[a-zA-Z\\-][a-zA-Z\\-]{2,}', t)]\n",
    "    return cleaned_text"
   ]
  },
  {
   "cell_type": "code",
   "execution_count": 15,
   "id": "c10f5066",
   "metadata": {},
   "outputs": [
    {
     "name": "stdout",
     "output_type": "stream",
     "text": [
      "[(119, 1), (120, 1), (121, 1), (122, 1), (123, 1), (124, 1)]\n"
     ]
    }
   ],
   "source": [
    "import re\n",
    "from gensim import models, corpora\n",
    "from nltk import word_tokenize\n",
    "from nltk.corpus import stopwords\n",
    "STOPWORDS = stopwords.words('english')\n",
    "NUM_TOPICS = 10\n",
    "# For gensim we need to tokenize the data and filter out stopwords\n",
    "tokenized_data = []\n",
    "for text in data['REASONNPSSCORE__C']:\n",
    "    tokenized_data.append(clean_text(text))\n",
    " \n",
    " \n",
    "# Build a Dictionary - association word to numeric id\n",
    "dictionary = corpora.Dictionary(tokenized_data)\n",
    " \n",
    "# Transform the collection of texts to a numerical form\n",
    "corpus = [dictionary.doc2bow(text) for text in tokenized_data]\n",
    " \n",
    "# Have a look at how the 20th document looks like: [(word_id, count), ...]\n",
    "print(corpus[20])\n",
    "# [(12, 3), (14, 1), (21, 1), (25, 5), (30, 2), (31, 5), (33, 1), (42, 1), (43, 2),  ...\n",
    " \n",
    "# Build the LDA model\n",
    "lda_model = models.LdaModel(corpus=corpus, num_topics=NUM_TOPICS, id2word=dictionary)\n",
    " \n",
    "# Build the LSI model\n",
    "lsi_model = models.LsiModel(corpus=corpus, num_topics=NUM_TOPICS, id2word=dictionary)"
   ]
  },
  {
   "cell_type": "code",
   "execution_count": 16,
   "id": "a1be38ff",
   "metadata": {},
   "outputs": [
    {
     "name": "stdout",
     "output_type": "stream",
     "text": [
      "LDA Model:\n",
      "Topic #0: 0.049*\"service\" + 0.037*\"good\" + 0.022*\"like\" + 0.018*\"great\" + 0.017*\"doctor\" + 0.016*\"convenient\" + 0.014*\"convenience\" + 0.014*\"time\" + 0.012*\"xyz\" + 0.012*\"doctors\"\n",
      "Topic #1: 0.021*\"doctor\" + 0.016*\"convenient\" + 0.016*\"time\" + 0.013*\"care\" + 0.012*\"get\" + 0.011*\"appointment\" + 0.010*\"recommend\" + 0.009*\"xyz\" + 0.008*\"great\" + 0.007*\"really\"\n",
      "Topic #2: 0.053*\"time\" + 0.031*\"doctor\" + 0.017*\"like\" + 0.017*\"knowledgeable\" + 0.014*\"great\" + 0.013*\"patient\" + 0.012*\"felt\" + 0.012*\"take\" + 0.012*\"care\" + 0.011*\"staff\"\n",
      "Topic #3: 0.035*\"appointment\" + 0.029*\"friendly\" + 0.021*\"quick\" + 0.018*\"staff\" + 0.017*\"care\" + 0.016*\"service\" + 0.016*\"easy\" + 0.016*\"get\" + 0.014*\"thorough\" + 0.013*\"visit\"\n",
      "Topic #4: 0.029*\"doctor\" + 0.027*\"staff\" + 0.020*\"friendly\" + 0.020*\"time\" + 0.017*\"appointment\" + 0.013*\"call\" + 0.011*\"get\" + 0.011*\"office\" + 0.011*\"wait\" + 0.009*\"xyz\"\n",
      "Topic #5: 0.032*\"easy\" + 0.021*\"doctor\" + 0.021*\"get\" + 0.020*\"time\" + 0.017*\"nurse\" + 0.012*\"appointment\" + 0.011*\"see\" + 0.010*\"office\" + 0.010*\"work\" + 0.009*\"convenient\"\n",
      "Topic #6: 0.015*\"doctor\" + 0.015*\"told\" + 0.012*\"xyz\" + 0.011*\"get\" + 0.011*\"visit\" + 0.011*\"time\" + 0.011*\"care\" + 0.008*\"would\" + 0.008*\"appointment\" + 0.008*\"health\"\n",
      "Topic #7: 0.027*\"service\" + 0.021*\"doctor\" + 0.021*\"get\" + 0.017*\"staff\" + 0.016*\"easy\" + 0.015*\"great\" + 0.014*\"care\" + 0.013*\"office\" + 0.012*\"appointment\" + 0.012*\"like\"\n",
      "Topic #8: 0.034*\"doctor\" + 0.016*\"feel\" + 0.016*\"one\" + 0.015*\"time\" + 0.013*\"appointment\" + 0.013*\"care\" + 0.012*\"health\" + 0.011*\"really\" + 0.011*\"great\" + 0.011*\"get\"\n",
      "Topic #9: 0.030*\"like\" + 0.029*\"friendly\" + 0.026*\"staff\" + 0.019*\"nice\" + 0.014*\"people\" + 0.013*\"doctor\" + 0.011*\"convenient\" + 0.010*\"good\" + 0.010*\"blood\" + 0.010*\"get\"\n",
      "====================\n",
      "LSI Model:\n",
      "Topic #0: 0.451*\"doctor\" + 0.282*\"time\" + 0.267*\"get\" + 0.249*\"appointment\" + 0.192*\"would\" + 0.183*\"like\" + 0.164*\"office\" + 0.160*\"xyz\" + 0.155*\"back\" + 0.140*\"told\"\n",
      "Topic #1: 0.655*\"doctor\" + -0.264*\"would\" + -0.239*\"told\" + -0.230*\"call\" + 0.220*\"time\" + -0.184*\"back\" + -0.170*\"called\" + -0.165*\"get\" + -0.142*\"day\" + -0.130*\"xyz\"\n",
      "Topic #2: -0.478*\"doctor\" + 0.428*\"staff\" + 0.381*\"friendly\" + 0.327*\"time\" + 0.232*\"service\" + 0.178*\"good\" + 0.164*\"easy\" + 0.146*\"appointment\" + 0.121*\"great\" + -0.114*\"back\"\n",
      "Topic #3: -0.392*\"time\" + -0.367*\"appointment\" + -0.331*\"get\" + 0.297*\"xyz\" + 0.242*\"would\" + 0.225*\"staff\" + 0.192*\"service\" + 0.176*\"office\" + 0.172*\"friendly\" + 0.158*\"good\"\n",
      "Topic #4: 0.668*\"time\" + -0.393*\"get\" + -0.333*\"appointment\" + -0.180*\"easy\" + -0.176*\"friendly\" + -0.160*\"doctor\" + -0.146*\"staff\" + 0.124*\"would\" + -0.102*\"service\" + 0.095*\"like\"\n",
      "Topic #5: 0.461*\"appointment\" + 0.415*\"xyz\" + -0.262*\"friendly\" + -0.261*\"staff\" + -0.261*\"back\" + -0.175*\"like\" + -0.166*\"call\" + -0.140*\"told\" + 0.137*\"care\" + 0.124*\"would\"\n",
      "Topic #6: 0.446*\"like\" + 0.360*\"care\" + 0.308*\"get\" + -0.283*\"appointment\" + -0.253*\"office\" + -0.215*\"staff\" + -0.206*\"friendly\" + 0.177*\"xyz\" + -0.158*\"would\" + -0.157*\"called\"\n",
      "Topic #7: -0.580*\"service\" + -0.520*\"good\" + 0.330*\"staff\" + 0.294*\"like\" + -0.199*\"great\" + 0.178*\"friendly\" + 0.101*\"xyz\" + 0.099*\"feel\" + 0.085*\"get\" + 0.073*\"office\"\n",
      "Topic #8: -0.602*\"like\" + -0.337*\"appointment\" + 0.302*\"care\" + 0.237*\"xyz\" + -0.199*\"feel\" + -0.175*\"office\" + 0.169*\"get\" + 0.146*\"time\" + 0.143*\"staff\" + -0.133*\"service\"\n",
      "Topic #9: 0.484*\"get\" + -0.479*\"care\" + -0.239*\"appointment\" + 0.192*\"good\" + -0.165*\"told\" + 0.163*\"current\" + 0.138*\"curtis\" + 0.127*\"office\" + 0.126*\"blood\" + 0.122*\"nice\"\n",
      "====================\n"
     ]
    }
   ],
   "source": [
    "print(\"LDA Model:\")\n",
    " \n",
    "for idx in range(NUM_TOPICS):\n",
    "    # Print the first 10 most representative topics\n",
    "    print(\"Topic #%s:\" % idx, lda_model.print_topic(idx, 10))\n",
    " \n",
    "print(\"=\" * 20)\n",
    " \n",
    "print(\"LSI Model:\")\n",
    " \n",
    "for idx in range(NUM_TOPICS):\n",
    "    # Print the first 10 most representative topics\n",
    "    print(\"Topic #%s:\" % idx, lsi_model.print_topic(idx, 10))\n",
    " \n",
    "print(\"=\" * 20)"
   ]
  },
  {
   "cell_type": "code",
   "execution_count": 17,
   "id": "e1fe299e",
   "metadata": {},
   "outputs": [],
   "source": [
    "text = \"very friendly staff\"\n",
    "bow = dictionary.doc2bow(clean_text(text))"
   ]
  },
  {
   "cell_type": "code",
   "execution_count": 18,
   "id": "9c9ca5fc",
   "metadata": {},
   "outputs": [
    {
     "name": "stdout",
     "output_type": "stream",
     "text": [
      "[(0, 0.1753811616481526), (1, 0.196723408305234), (2, 0.809425730794846), (3, 0.3971437907201182), (4, -0.32229746263794345), (5, -0.5232440919058722), (6, -0.42113470001695125), (7, 0.5079716521675984), (8, 0.2418566606838021), (9, -0.1672235036649301)]\n",
      "[(0, 0.033336245), (1, 0.033336535), (2, 0.033337314), (3, 0.033343922), (4, 0.033344388), (5, 0.03333435), (6, 0.033334147), (7, 0.033339266), (8, 0.03333478), (9, 0.69995904)]\n"
     ]
    }
   ],
   "source": [
    "print(lsi_model[bow])\n",
    "print(lda_model[bow])"
   ]
  },
  {
   "cell_type": "code",
   "execution_count": 19,
   "id": "51e0a6ca",
   "metadata": {},
   "outputs": [
    {
     "name": "stdout",
     "output_type": "stream",
     "text": [
      "[(106, 1.0), (223, 1.0), (469, 1.0), (523, 1.0), (662, 1.0), (700, 1.0), (710, 1.0), (760, 1.0), (778, 1.0), (1018, 1.0)]\n",
      "[106]\n"
     ]
    }
   ],
   "source": [
    "from gensim import similarities\n",
    " \n",
    "lda_index = similarities.MatrixSimilarity(lda_model[corpus])\n",
    " \n",
    "# Let's perform some queries\n",
    "similarities = lda_index[lda_model[bow]]\n",
    "# Sort the similarities\n",
    "similarities = sorted(enumerate(similarities), key=lambda item: -item[1])\n",
    " \n",
    "# Top most similar documents:\n",
    "print(similarities[:10])\n",
    "# Let's see what's the most similar document\n",
    "document_id, similarity = similarities[0]\n",
    "print([document_id][:1000])"
   ]
  },
  {
   "cell_type": "code",
   "execution_count": 20,
   "id": "6abc6b21",
   "metadata": {},
   "outputs": [
    {
     "name": "stdout",
     "output_type": "stream",
     "text": [
      "(3812, 10)\n",
      "(3812, 10)\n",
      "(3812, 10)\n",
      "[0.07346626 0.00666725 0.11486915 0.00666676 0.0768489  0.69481206\n",
      " 0.0066673  0.00666697 0.00666699 0.00666836]\n",
      "[0.24601192 0.03145724 0.31331224 0.         0.17955076 0.\n",
      " 0.01871882 0.         0.         0.01151915]\n",
      "[ 2.06303275  0.48396848 -1.30098383 -0.61124799  0.85166588  0.80107123\n",
      " -0.17609617  0.31362672  0.14046222  0.4824404 ]\n"
     ]
    },
    {
     "name": "stderr",
     "output_type": "stream",
     "text": [
      "C:\\Users\\HP\\anaconda3\\lib\\site-packages\\sklearn\\decomposition\\_nmf.py:289: FutureWarning: The 'init' value, when 'init=None' and n_components is less than n_samples and n_features, will be changed from 'nndsvd' to 'nndsvda' in 1.1 (renaming of 0.26).\n",
      "  warnings.warn(\n"
     ]
    }
   ],
   "source": [
    "from sklearn.decomposition import NMF, LatentDirichletAllocation, TruncatedSVD\n",
    "from sklearn.feature_extraction.text import CountVectorizer\n",
    " \n",
    "NUM_TOPICS = 10\n",
    " \n",
    "vectorizer = CountVectorizer(min_df=5, max_df=0.9, \n",
    "                             stop_words='english', lowercase=True, \n",
    "                             token_pattern='[a-zA-Z\\-][a-zA-Z\\-]{2,}')\n",
    "data_vectorized = vectorizer.fit_transform(data['REASONNPSSCORE__C'])\n",
    " \n",
    "# Build a Latent Dirichlet Allocation Model\n",
    "lda_model = LatentDirichletAllocation(max_iter=10, learning_method='online')\n",
    "lda_Z = lda_model.fit_transform(data_vectorized)\n",
    "print(lda_Z.shape)  # (NO_DOCUMENTS, NO_TOPICS)\n",
    " \n",
    "# Build a Non-Negative Matrix Factorization Model\n",
    "nmf_model = NMF(n_components=NUM_TOPICS)\n",
    "nmf_Z = nmf_model.fit_transform(data_vectorized)\n",
    "print(nmf_Z.shape)  # (NO_DOCUMENTS, NO_TOPICS)\n",
    " \n",
    "# Build a Latent Semantic Indexing Model\n",
    "lsi_model = TruncatedSVD(n_components=NUM_TOPICS)\n",
    "lsi_Z = lsi_model.fit_transform(data_vectorized)\n",
    "print(lsi_Z.shape)  # (NO_DOCUMENTS, NO_TOPICS)\n",
    " \n",
    " \n",
    "# Let's see how the first document in the corpus looks like in different topic spaces\n",
    "print(lda_Z[0])\n",
    "print(nmf_Z[0])\n",
    "print(lsi_Z[0])"
   ]
  },
  {
   "cell_type": "code",
   "execution_count": 21,
   "id": "6e48a57e",
   "metadata": {},
   "outputs": [
    {
     "name": "stdout",
     "output_type": "stream",
     "text": [
      "LDA Model:\n",
      "Topic 0:\n",
      "[('quick', 151.7469246549508), ('wait', 150.52120826621388), ('long', 95.09726692235542), ('convenience', 69.19933129825102), ('needs', 59.446755751148494), ('waiting', 56.21815888099711), ('lot', 55.260642580166085), ('need', 49.50076505619195), ('good', 48.92519765035426), ('cost', 46.4821361543179)]\n",
      "Topic 1:\n",
      "[('time', 488.943309057142), ('doctor', 277.5732934041581), ('like', 256.92070563140345), ('feel', 227.55811760419184), ('don', 163.01104860602652), ('health', 153.3040093401519), ('took', 94.90819583871337), ('questions', 89.23303790595284), ('know', 89.19358608676733), ('care', 86.13709888463434)]\n",
      "Topic 2:\n",
      "[('friendly', 435.0086358654053), ('staff', 362.07712325561704), ('professional', 128.58703319288523), ('helpful', 121.39697556665477), ('recommend', 102.95715161082708), ('fast', 79.22152641575941), ('service', 73.77151952893794), ('doctor', 68.6211118604052), ('primary', 56.00592682682405), ('comfortable', 55.351193056829956)]\n",
      "Topic 3:\n",
      "[('knowledgeable', 86.41337661043458), ('clinic', 65.8566335407175), ('better', 49.60462433230221), ('health', 48.12644114167265), ('liked', 43.387098916075665), ('employees', 43.085246337051295), ('attentive', 41.54411844778877), ('money', 21.219909307091687), ('interested', 20.571346594000524), ('town', 19.098075412914696)]\n",
      "Topic 4:\n",
      "[('appointment', 239.97349614208434), ('easy', 210.1798868608036), ('thorough', 137.11018578962057), ('schedule', 84.12484067387153), ('issues', 75.23473329305301), ('time', 74.69735375128838), ('ease', 57.53029517019381), ('efficient', 54.65889532777091), ('quickly', 47.39406167376674), ('getting', 40.08516628908183)]\n",
      "Topic 5:\n",
      "[('doctor', 180.71625454823868), ('doctors', 170.9653753222018), ('nice', 148.34857244057253), ('visit', 130.9536618003741), ('good', 130.73364126300123), ('office', 106.19976064935426), ('really', 97.84820534204006), ('experience', 92.82211701776184), ('new', 92.50007566136205), ('staff', 82.81617036232747)]\n",
      "Topic 6:\n",
      "[('people', 95.26007273964505), ('physician', 81.5717715667856), ('love', 75.76461235727676), ('felt', 64.32978876301576), ('know', 46.74675375500936), ('wasn', 40.1057171248061), ('like', 38.370437651977866), ('care', 32.67759088215236), ('covid', 30.7847761234488), ('didn', 28.304886208422744)]\n",
      "Topic 7:\n",
      "[('service', 308.23625315135934), ('convenient', 292.7730927887354), ('good', 228.8609630729952), ('great', 143.43374117562243), ('location', 118.06837501084678), ('care', 115.95427677710919), ('appointments', 109.71725571020914), ('personal', 87.1967939831993), ('doctor', 83.31097980585207), ('access', 79.3215438192635)]\n",
      "Topic 8:\n",
      "[('xyz', 189.37905690536007), ('blood', 119.63176798835744), ('nurse', 93.62325948981255), ('experience', 74.54711163220145), ('did', 73.55567553363142), ('provider', 71.85281913857456), ('office', 67.86414817288612), ('work', 67.75351847015521), ('care', 63.39890947789108), ('received', 61.65350394252612)]\n",
      "Topic 9:\n",
      "[('appointment', 200.51984403389213), ('told', 142.55133180524857), ('doctor', 137.74634571551738), ('day', 134.64683417692126), ('called', 97.59813914159287), ('able', 97.23258159134153), ('just', 93.98332653623065), ('phone', 84.13675543682504), ('did', 81.93848535306883), ('didn', 80.55528879434863)]\n",
      "====================\n",
      "NMF Model:\n",
      "Topic 0:\n",
      "[('doctor', 8.023807983078417), ('did', 0.6264445338993118), ('pain', 0.39395873548349075), ('just', 0.31945616542490207), ('office', 0.3103352726124506), ('said', 0.2681692413844786), ('new', 0.2661557639342191), ('room', 0.2647689282769721), ('nurse', 0.24915195941475649), ('going', 0.24260103709960307)]\n",
      "Topic 1:\n",
      "[('told', 3.2045036627607564), ('called', 2.2156905695083826), ('office', 1.9391823658911855), ('day', 1.7266413098204814), ('said', 1.2317956240777523), ('just', 1.1665323109822203), ('need', 1.1042124040389856), ('come', 0.9895106767429088), ('did', 0.9494528629737422), ('visit', 0.9435985310213264)]\n",
      "Topic 2:\n",
      "[('staff', 3.5830905540452003), ('friendly', 3.0118229096086235), ('nice', 0.5282034506870132), ('easy', 0.48047208005415154), ('office', 0.4669724116275925), ('professional', 0.4425870150520264), ('helpful', 0.4034010686942185), ('knowledgeable', 0.33113596554768604), ('convenient', 0.28257377271261536), ('thorough', 0.20743321171718906)]\n",
      "Topic 3:\n",
      "[('time', 4.700034298197915), ('wait', 0.5534152901737117), ('took', 0.49639717184389104), ('don', 0.4530027782944345), ('spent', 0.37382371247801194), ('minutes', 0.28880780810714557), ('waiting', 0.2884278474589343), ('long', 0.24430659415062905), ('spend', 0.20132957414496713), ('listen', 0.19961975924624054)]\n",
      "Topic 4:\n",
      "[('appointment', 4.709585397427681), ('easy', 0.9942139411903786), ('schedule', 0.4823632751555191), ('make', 0.42039639447079136), ('phone', 0.3579358934643383), ('appointments', 0.33215133020256477), ('able', 0.3297966396970755), ('work', 0.322486036905768), ('minutes', 0.2967314517568377), ('clinic', 0.2559821328784695)]\n",
      "Topic 5:\n",
      "[('service', 3.794518337747181), ('great', 2.166585536113454), ('convenient', 0.45067780300360183), ('customer', 0.34604134988163515), ('fast', 0.3407317118490312), ('quick', 0.28662764060318224), ('doctors', 0.22188885457793936), ('excellent', 0.19771140852919342), ('personal', 0.16995984379984483), ('timely', 0.14973971211333267)]\n",
      "Topic 6:\n",
      "[('xyz', 3.845488072950951), ('office', 0.5520538957069433), ('recommend', 0.5423409776846629), ('health', 0.5219272127352724), ('current', 0.4641810990448288), ('experience', 0.4137502100623595), ('visit', 0.3947334715400222), ('pcp', 0.366164727872329), ('provider', 0.34573206468408657), ('work', 0.33382482471069513)]\n",
      "Topic 7:\n",
      "[('like', 4.450706412842854), ('feel', 1.4476955799710924), ('really', 0.7396091234428216), ('don', 0.5937663087826863), ('felt', 0.5011763451897581), ('doctors', 0.3395037787502468), ('know', 0.3031083697641202), ('just', 0.25516638493374877), ('having', 0.22900520735840119), ('rushed', 0.22191863064706627)]\n",
      "Topic 8:\n",
      "[('care', 4.073444283494047), ('health', 0.7514021503748056), ('primary', 0.44799600882937274), ('just', 0.29757037106519457), ('great', 0.24730351052770513), ('physician', 0.23332772313089992), ('days', 0.23181340938746625), ('didn', 0.23013044978951477), ('clinic', 0.22780268446025465), ('patient', 0.22112487681848098)]\n",
      "Topic 9:\n",
      "[('good', 4.407986213782181), ('experience', 0.854903352393856), ('visit', 0.2940423776368935), ('far', 0.27931663469414847), ('nice', 0.23940392652037157), ('service', 0.2185789292380768), ('really', 0.20813120378821454), ('doctors', 0.19002451432436326), ('people', 0.15555424446294355), ('patient', 0.1519127645104302)]\n",
      "====================\n",
      "LSI Model:\n",
      "Topic 0:\n",
      "[('doctor', 0.5380875977706006), ('time', 0.3321192026338794), ('appointment', 0.2716648917887191), ('like', 0.20613157002449964), ('office', 0.1758519969706562), ('xyz', 0.17328743835418), ('care', 0.13658542339111057), ('told', 0.13175513417533075), ('staff', 0.13165485751853429), ('just', 0.1212361525383276)]\n",
      "Topic 1:\n",
      "[('doctor', 0.7176743009121289), ('pain', 0.044085126020864326), ('said', 0.02254293758420035), ('receptionist', 0.022520747397974997), ('did', 0.02085754188454693), ('room', 0.017576936083309076), ('minutes', 0.014714643516702295), ('went', 0.014492402145797773), ('primary', 0.014162022082934489), ('away', 0.013582252040003533)]\n",
      "Topic 2:\n",
      "[('told', 0.27544944656720177), ('xyz', 0.2565492871529997), ('called', 0.15152535106160497), ('like', 0.1482394270411815), ('day', 0.13683554704460216), ('care', 0.1340456933930991), ('just', 0.13278731522119644), ('feel', 0.09831216464609302), ('said', 0.08310231035714083), ('need', 0.07961560663316587)]\n",
      "Topic 3:\n",
      "[('time', 0.7216155569728694), ('appointment', 0.2674048267436338), ('wait', 0.0957564588472966), ('minutes', 0.07828983198017729), ('took', 0.07729083277152464), ('spent', 0.05883875290623555), ('don', 0.039884393837233), ('long', 0.03721251989773393), ('waiting', 0.03517167134758519), ('make', 0.035167640169987684)]\n",
      "Topic 4:\n",
      "[('appointment', 0.7512697947520134), ('easy', 0.16042488757733306), ('schedule', 0.08491125341993776), ('called', 0.07094147296866589), ('day', 0.06486075090467615), ('friendly', 0.06377828891761521), ('phone', 0.062115651550879177), ('clinic', 0.055300865394035656), ('scheduled', 0.045699992547289556), ('minutes', 0.044419282164526175)]\n",
      "Topic 5:\n",
      "[('staff', 0.41176051558584065), ('friendly', 0.27436960168790026), ('like', 0.21263321177873248), ('office', 0.1565080322990073), ('feel', 0.12579103130697253), ('told', 0.10186652344418912), ('called', 0.09868446544310419), ('day', 0.060589733553579384), ('did', 0.04980019381281021), ('blood', 0.048952368239300194)]\n",
      "Topic 6:\n",
      "[('like', 0.3849814077344659), ('good', 0.30178044224186146), ('service', 0.29305365554454205), ('feel', 0.17195317763291226), ('told', 0.14933272008640408), ('called', 0.11584310724977054), ('appointment', 0.08276157746101305), ('day', 0.07642261704050159), ('come', 0.07158005091609063), ('need', 0.06636741523416047)]\n",
      "Topic 7:\n",
      "[('office', 0.28544749542945014), ('told', 0.21009803805775892), ('called', 0.19617863996663695), ('good', 0.12998567407100184), ('service', 0.12923846861693597), ('said', 0.11590943691778804), ('time', 0.09466855751341996), ('day', 0.0940426735712603), ('did', 0.0930804630789326), ('blood', 0.09026040727526974)]\n",
      "Topic 8:\n",
      "[('office', 0.3958741395959072), ('xyz', 0.35251748375122416), ('like', 0.24099663619447728), ('current', 0.11823489357208931), ('convenient', 0.08794416570118106), ('service', 0.08575789527427206), ('pcp', 0.08327085934045027), ('appointment', 0.08208156463789278), ('doctors', 0.07385989126110354), ('nice', 0.05742875558250135)]\n",
      "Topic 9:\n",
      "[('good', 0.5197798893318124), ('staff', 0.23311676200271242), ('office', 0.20241251700848706), ('care', 0.16402189639200365), ('experience', 0.1591932649840048), ('nice', 0.14646258768707315), ('visit', 0.10776411512373191), ('appointment', 0.10705556409068635), ('current', 0.10039825286421104), ('medical', 0.08406262472153322)]\n",
      "====================\n"
     ]
    },
    {
     "name": "stderr",
     "output_type": "stream",
     "text": [
      "C:\\Users\\HP\\anaconda3\\lib\\site-packages\\sklearn\\utils\\deprecation.py:87: FutureWarning: Function get_feature_names is deprecated; get_feature_names is deprecated in 1.0 and will be removed in 1.2. Please use get_feature_names_out instead.\n",
      "  warnings.warn(msg, category=FutureWarning)\n"
     ]
    }
   ],
   "source": [
    "def print_topics(model, vectorizer, top_n=10):\n",
    "    for idx, topic in enumerate(model.components_):\n",
    "        print(\"Topic %d:\" % (idx))\n",
    "        print([(vectorizer.get_feature_names()[i], topic[i])\n",
    "                        for i in topic.argsort()[:-top_n - 1:-1]])\n",
    " \n",
    "print(\"LDA Model:\")\n",
    "print_topics(lda_model, vectorizer)\n",
    "print(\"=\" * 20)\n",
    " \n",
    "print(\"NMF Model:\")\n",
    "print_topics(nmf_model, vectorizer)\n",
    "print(\"=\" * 20)\n",
    " \n",
    "print(\"LSI Model:\")\n",
    "print_topics(lsi_model, vectorizer)\n",
    "print(\"=\" * 20)"
   ]
  },
  {
   "cell_type": "code",
   "execution_count": 22,
   "id": "1663a6d6",
   "metadata": {},
   "outputs": [
    {
     "name": "stdout",
     "output_type": "stream",
     "text": [
      "[0.         0.         0.14701052 0.         0.         0.\n",
      " 0.         0.         0.         0.2087578 ]\n"
     ]
    }
   ],
   "source": [
    "text = \"the staff is good\"\n",
    "x = nmf_model.transform(vectorizer.transform([text]))[0]\n",
    "print(x)"
   ]
  },
  {
   "cell_type": "code",
   "execution_count": 23,
   "id": "3b0dc4f7",
   "metadata": {},
   "outputs": [
    {
     "name": "stdout",
     "output_type": "stream",
     "text": [
      "[1911]\n"
     ]
    }
   ],
   "source": [
    "from sklearn.metrics.pairwise import euclidean_distances\n",
    " \n",
    "def most_similar(x, Z, top_n=5):\n",
    "    dists = euclidean_distances(x.reshape(1, -1), Z)\n",
    "    pairs = enumerate(dists[0])\n",
    "    most_similar = sorted(pairs, key=lambda item: item[1])[:top_n]\n",
    "    return most_similar\n",
    " \n",
    "similarities = most_similar(x, nmf_Z)\n",
    "document_id, similarity = similarities[0]\n",
    "print([document_id][:1000])"
   ]
  },
  {
   "cell_type": "code",
   "execution_count": 24,
   "id": "608bb270",
   "metadata": {},
   "outputs": [
    {
     "data": {
      "text/html": [
       "\n",
       "    <div class=\"bk-root\">\n",
       "        <a href=\"https://bokeh.org\" target=\"_blank\" class=\"bk-logo bk-logo-small bk-logo-notebook\"></a>\n",
       "        <span id=\"1002\">Loading BokehJS ...</span>\n",
       "    </div>"
      ]
     },
     "metadata": {},
     "output_type": "display_data"
    },
    {
     "data": {
      "application/javascript": [
       "\n",
       "(function(root) {\n",
       "  function now() {\n",
       "    return new Date();\n",
       "  }\n",
       "\n",
       "  var force = true;\n",
       "\n",
       "  if (typeof root._bokeh_onload_callbacks === \"undefined\" || force === true) {\n",
       "    root._bokeh_onload_callbacks = [];\n",
       "    root._bokeh_is_loading = undefined;\n",
       "  }\n",
       "\n",
       "  var JS_MIME_TYPE = 'application/javascript';\n",
       "  var HTML_MIME_TYPE = 'text/html';\n",
       "  var EXEC_MIME_TYPE = 'application/vnd.bokehjs_exec.v0+json';\n",
       "  var CLASS_NAME = 'output_bokeh rendered_html';\n",
       "\n",
       "  /**\n",
       "   * Render data to the DOM node\n",
       "   */\n",
       "  function render(props, node) {\n",
       "    var script = document.createElement(\"script\");\n",
       "    node.appendChild(script);\n",
       "  }\n",
       "\n",
       "  /**\n",
       "   * Handle when an output is cleared or removed\n",
       "   */\n",
       "  function handleClearOutput(event, handle) {\n",
       "    var cell = handle.cell;\n",
       "\n",
       "    var id = cell.output_area._bokeh_element_id;\n",
       "    var server_id = cell.output_area._bokeh_server_id;\n",
       "    // Clean up Bokeh references\n",
       "    if (id != null && id in Bokeh.index) {\n",
       "      Bokeh.index[id].model.document.clear();\n",
       "      delete Bokeh.index[id];\n",
       "    }\n",
       "\n",
       "    if (server_id !== undefined) {\n",
       "      // Clean up Bokeh references\n",
       "      var cmd = \"from bokeh.io.state import curstate; print(curstate().uuid_to_server['\" + server_id + \"'].get_sessions()[0].document.roots[0]._id)\";\n",
       "      cell.notebook.kernel.execute(cmd, {\n",
       "        iopub: {\n",
       "          output: function(msg) {\n",
       "            var id = msg.content.text.trim();\n",
       "            if (id in Bokeh.index) {\n",
       "              Bokeh.index[id].model.document.clear();\n",
       "              delete Bokeh.index[id];\n",
       "            }\n",
       "          }\n",
       "        }\n",
       "      });\n",
       "      // Destroy server and session\n",
       "      var cmd = \"import bokeh.io.notebook as ion; ion.destroy_server('\" + server_id + \"')\";\n",
       "      cell.notebook.kernel.execute(cmd);\n",
       "    }\n",
       "  }\n",
       "\n",
       "  /**\n",
       "   * Handle when a new output is added\n",
       "   */\n",
       "  function handleAddOutput(event, handle) {\n",
       "    var output_area = handle.output_area;\n",
       "    var output = handle.output;\n",
       "\n",
       "    // limit handleAddOutput to display_data with EXEC_MIME_TYPE content only\n",
       "    if ((output.output_type != \"display_data\") || (!Object.prototype.hasOwnProperty.call(output.data, EXEC_MIME_TYPE))) {\n",
       "      return\n",
       "    }\n",
       "\n",
       "    var toinsert = output_area.element.find(\".\" + CLASS_NAME.split(' ')[0]);\n",
       "\n",
       "    if (output.metadata[EXEC_MIME_TYPE][\"id\"] !== undefined) {\n",
       "      toinsert[toinsert.length - 1].firstChild.textContent = output.data[JS_MIME_TYPE];\n",
       "      // store reference to embed id on output_area\n",
       "      output_area._bokeh_element_id = output.metadata[EXEC_MIME_TYPE][\"id\"];\n",
       "    }\n",
       "    if (output.metadata[EXEC_MIME_TYPE][\"server_id\"] !== undefined) {\n",
       "      var bk_div = document.createElement(\"div\");\n",
       "      bk_div.innerHTML = output.data[HTML_MIME_TYPE];\n",
       "      var script_attrs = bk_div.children[0].attributes;\n",
       "      for (var i = 0; i < script_attrs.length; i++) {\n",
       "        toinsert[toinsert.length - 1].firstChild.setAttribute(script_attrs[i].name, script_attrs[i].value);\n",
       "        toinsert[toinsert.length - 1].firstChild.textContent = bk_div.children[0].textContent\n",
       "      }\n",
       "      // store reference to server id on output_area\n",
       "      output_area._bokeh_server_id = output.metadata[EXEC_MIME_TYPE][\"server_id\"];\n",
       "    }\n",
       "  }\n",
       "\n",
       "  function register_renderer(events, OutputArea) {\n",
       "\n",
       "    function append_mime(data, metadata, element) {\n",
       "      // create a DOM node to render to\n",
       "      var toinsert = this.create_output_subarea(\n",
       "        metadata,\n",
       "        CLASS_NAME,\n",
       "        EXEC_MIME_TYPE\n",
       "      );\n",
       "      this.keyboard_manager.register_events(toinsert);\n",
       "      // Render to node\n",
       "      var props = {data: data, metadata: metadata[EXEC_MIME_TYPE]};\n",
       "      render(props, toinsert[toinsert.length - 1]);\n",
       "      element.append(toinsert);\n",
       "      return toinsert\n",
       "    }\n",
       "\n",
       "    /* Handle when an output is cleared or removed */\n",
       "    events.on('clear_output.CodeCell', handleClearOutput);\n",
       "    events.on('delete.Cell', handleClearOutput);\n",
       "\n",
       "    /* Handle when a new output is added */\n",
       "    events.on('output_added.OutputArea', handleAddOutput);\n",
       "\n",
       "    /**\n",
       "     * Register the mime type and append_mime function with output_area\n",
       "     */\n",
       "    OutputArea.prototype.register_mime_type(EXEC_MIME_TYPE, append_mime, {\n",
       "      /* Is output safe? */\n",
       "      safe: true,\n",
       "      /* Index of renderer in `output_area.display_order` */\n",
       "      index: 0\n",
       "    });\n",
       "  }\n",
       "\n",
       "  // register the mime type if in Jupyter Notebook environment and previously unregistered\n",
       "  if (root.Jupyter !== undefined) {\n",
       "    var events = require('base/js/events');\n",
       "    var OutputArea = require('notebook/js/outputarea').OutputArea;\n",
       "\n",
       "    if (OutputArea.prototype.mime_types().indexOf(EXEC_MIME_TYPE) == -1) {\n",
       "      register_renderer(events, OutputArea);\n",
       "    }\n",
       "  }\n",
       "\n",
       "  \n",
       "  if (typeof (root._bokeh_timeout) === \"undefined\" || force === true) {\n",
       "    root._bokeh_timeout = Date.now() + 5000;\n",
       "    root._bokeh_failed_load = false;\n",
       "  }\n",
       "\n",
       "  var NB_LOAD_WARNING = {'data': {'text/html':\n",
       "     \"<div style='background-color: #fdd'>\\n\"+\n",
       "     \"<p>\\n\"+\n",
       "     \"BokehJS does not appear to have successfully loaded. If loading BokehJS from CDN, this \\n\"+\n",
       "     \"may be due to a slow or bad network connection. Possible fixes:\\n\"+\n",
       "     \"</p>\\n\"+\n",
       "     \"<ul>\\n\"+\n",
       "     \"<li>re-rerun `output_notebook()` to attempt to load from CDN again, or</li>\\n\"+\n",
       "     \"<li>use INLINE resources instead, as so:</li>\\n\"+\n",
       "     \"</ul>\\n\"+\n",
       "     \"<code>\\n\"+\n",
       "     \"from bokeh.resources import INLINE\\n\"+\n",
       "     \"output_notebook(resources=INLINE)\\n\"+\n",
       "     \"</code>\\n\"+\n",
       "     \"</div>\"}};\n",
       "\n",
       "  function display_loaded() {\n",
       "    var el = document.getElementById(\"1002\");\n",
       "    if (el != null) {\n",
       "      el.textContent = \"BokehJS is loading...\";\n",
       "    }\n",
       "    if (root.Bokeh !== undefined) {\n",
       "      if (el != null) {\n",
       "        el.textContent = \"BokehJS \" + root.Bokeh.version + \" successfully loaded.\";\n",
       "      }\n",
       "    } else if (Date.now() < root._bokeh_timeout) {\n",
       "      setTimeout(display_loaded, 100)\n",
       "    }\n",
       "  }\n",
       "\n",
       "\n",
       "  function run_callbacks() {\n",
       "    try {\n",
       "      root._bokeh_onload_callbacks.forEach(function(callback) {\n",
       "        if (callback != null)\n",
       "          callback();\n",
       "      });\n",
       "    } finally {\n",
       "      delete root._bokeh_onload_callbacks\n",
       "    }\n",
       "    console.debug(\"Bokeh: all callbacks have finished\");\n",
       "  }\n",
       "\n",
       "  function load_libs(css_urls, js_urls, callback) {\n",
       "    if (css_urls == null) css_urls = [];\n",
       "    if (js_urls == null) js_urls = [];\n",
       "\n",
       "    root._bokeh_onload_callbacks.push(callback);\n",
       "    if (root._bokeh_is_loading > 0) {\n",
       "      console.debug(\"Bokeh: BokehJS is being loaded, scheduling callback at\", now());\n",
       "      return null;\n",
       "    }\n",
       "    if (js_urls == null || js_urls.length === 0) {\n",
       "      run_callbacks();\n",
       "      return null;\n",
       "    }\n",
       "    console.debug(\"Bokeh: BokehJS not loaded, scheduling load and callback at\", now());\n",
       "    root._bokeh_is_loading = css_urls.length + js_urls.length;\n",
       "\n",
       "    function on_load() {\n",
       "      root._bokeh_is_loading--;\n",
       "      if (root._bokeh_is_loading === 0) {\n",
       "        console.debug(\"Bokeh: all BokehJS libraries/stylesheets loaded\");\n",
       "        run_callbacks()\n",
       "      }\n",
       "    }\n",
       "\n",
       "    function on_error(url) {\n",
       "      console.error(\"failed to load \" + url);\n",
       "    }\n",
       "\n",
       "    for (let i = 0; i < css_urls.length; i++) {\n",
       "      const url = css_urls[i];\n",
       "      const element = document.createElement(\"link\");\n",
       "      element.onload = on_load;\n",
       "      element.onerror = on_error.bind(null, url);\n",
       "      element.rel = \"stylesheet\";\n",
       "      element.type = \"text/css\";\n",
       "      element.href = url;\n",
       "      console.debug(\"Bokeh: injecting link tag for BokehJS stylesheet: \", url);\n",
       "      document.body.appendChild(element);\n",
       "    }\n",
       "\n",
       "    const hashes = {\"https://cdn.bokeh.org/bokeh/release/bokeh-2.3.2.min.js\": \"XypntL49z55iwGVUW4qsEu83zKL3XEcz0MjuGOQ9SlaaQ68X/g+k1FcioZi7oQAc\", \"https://cdn.bokeh.org/bokeh/release/bokeh-tables-2.3.2.min.js\": \"bEsM86IHGDTLCS0Zod8a8WM6Y4+lafAL/eSiyQcuPzinmWNgNO2/olUF0Z2Dkn5i\", \"https://cdn.bokeh.org/bokeh/release/bokeh-widgets-2.3.2.min.js\": \"TX0gSQTdXTTeScqxj6PVQxTiRW8DOoGVwinyi1D3kxv7wuxQ02XkOxv0xwiypcAH\"};\n",
       "\n",
       "    for (let i = 0; i < js_urls.length; i++) {\n",
       "      const url = js_urls[i];\n",
       "      const element = document.createElement('script');\n",
       "      element.onload = on_load;\n",
       "      element.onerror = on_error.bind(null, url);\n",
       "      element.async = false;\n",
       "      element.src = url;\n",
       "      if (url in hashes) {\n",
       "        element.crossOrigin = \"anonymous\";\n",
       "        element.integrity = \"sha384-\" + hashes[url];\n",
       "      }\n",
       "      console.debug(\"Bokeh: injecting script tag for BokehJS library: \", url);\n",
       "      document.head.appendChild(element);\n",
       "    }\n",
       "  };\n",
       "\n",
       "  function inject_raw_css(css) {\n",
       "    const element = document.createElement(\"style\");\n",
       "    element.appendChild(document.createTextNode(css));\n",
       "    document.body.appendChild(element);\n",
       "  }\n",
       "\n",
       "  \n",
       "  var js_urls = [\"https://cdn.bokeh.org/bokeh/release/bokeh-2.3.2.min.js\", \"https://cdn.bokeh.org/bokeh/release/bokeh-widgets-2.3.2.min.js\", \"https://cdn.bokeh.org/bokeh/release/bokeh-tables-2.3.2.min.js\"];\n",
       "  var css_urls = [];\n",
       "  \n",
       "\n",
       "  var inline_js = [\n",
       "    function(Bokeh) {\n",
       "      Bokeh.set_log_level(\"info\");\n",
       "    },\n",
       "    function(Bokeh) {\n",
       "    \n",
       "    \n",
       "    }\n",
       "  ];\n",
       "\n",
       "  function run_inline_js() {\n",
       "    \n",
       "    if (root.Bokeh !== undefined || force === true) {\n",
       "      \n",
       "    for (var i = 0; i < inline_js.length; i++) {\n",
       "      inline_js[i].call(root, root.Bokeh);\n",
       "    }\n",
       "    if (force === true) {\n",
       "        display_loaded();\n",
       "      }} else if (Date.now() < root._bokeh_timeout) {\n",
       "      setTimeout(run_inline_js, 100);\n",
       "    } else if (!root._bokeh_failed_load) {\n",
       "      console.log(\"Bokeh: BokehJS failed to load within specified timeout.\");\n",
       "      root._bokeh_failed_load = true;\n",
       "    } else if (force !== true) {\n",
       "      var cell = $(document.getElementById(\"1002\")).parents('.cell').data().cell;\n",
       "      cell.output_area.append_execute_result(NB_LOAD_WARNING)\n",
       "    }\n",
       "\n",
       "  }\n",
       "\n",
       "  if (root._bokeh_is_loading === 0) {\n",
       "    console.debug(\"Bokeh: BokehJS loaded, going straight to plotting\");\n",
       "    run_inline_js();\n",
       "  } else {\n",
       "    load_libs(css_urls, js_urls, function() {\n",
       "      console.debug(\"Bokeh: BokehJS plotting callback run at\", now());\n",
       "      run_inline_js();\n",
       "    });\n",
       "  }\n",
       "}(window));"
      ],
      "application/vnd.bokehjs_load.v0+json": "\n(function(root) {\n  function now() {\n    return new Date();\n  }\n\n  var force = true;\n\n  if (typeof root._bokeh_onload_callbacks === \"undefined\" || force === true) {\n    root._bokeh_onload_callbacks = [];\n    root._bokeh_is_loading = undefined;\n  }\n\n  \n\n  \n  if (typeof (root._bokeh_timeout) === \"undefined\" || force === true) {\n    root._bokeh_timeout = Date.now() + 5000;\n    root._bokeh_failed_load = false;\n  }\n\n  var NB_LOAD_WARNING = {'data': {'text/html':\n     \"<div style='background-color: #fdd'>\\n\"+\n     \"<p>\\n\"+\n     \"BokehJS does not appear to have successfully loaded. If loading BokehJS from CDN, this \\n\"+\n     \"may be due to a slow or bad network connection. Possible fixes:\\n\"+\n     \"</p>\\n\"+\n     \"<ul>\\n\"+\n     \"<li>re-rerun `output_notebook()` to attempt to load from CDN again, or</li>\\n\"+\n     \"<li>use INLINE resources instead, as so:</li>\\n\"+\n     \"</ul>\\n\"+\n     \"<code>\\n\"+\n     \"from bokeh.resources import INLINE\\n\"+\n     \"output_notebook(resources=INLINE)\\n\"+\n     \"</code>\\n\"+\n     \"</div>\"}};\n\n  function display_loaded() {\n    var el = document.getElementById(\"1002\");\n    if (el != null) {\n      el.textContent = \"BokehJS is loading...\";\n    }\n    if (root.Bokeh !== undefined) {\n      if (el != null) {\n        el.textContent = \"BokehJS \" + root.Bokeh.version + \" successfully loaded.\";\n      }\n    } else if (Date.now() < root._bokeh_timeout) {\n      setTimeout(display_loaded, 100)\n    }\n  }\n\n\n  function run_callbacks() {\n    try {\n      root._bokeh_onload_callbacks.forEach(function(callback) {\n        if (callback != null)\n          callback();\n      });\n    } finally {\n      delete root._bokeh_onload_callbacks\n    }\n    console.debug(\"Bokeh: all callbacks have finished\");\n  }\n\n  function load_libs(css_urls, js_urls, callback) {\n    if (css_urls == null) css_urls = [];\n    if (js_urls == null) js_urls = [];\n\n    root._bokeh_onload_callbacks.push(callback);\n    if (root._bokeh_is_loading > 0) {\n      console.debug(\"Bokeh: BokehJS is being loaded, scheduling callback at\", now());\n      return null;\n    }\n    if (js_urls == null || js_urls.length === 0) {\n      run_callbacks();\n      return null;\n    }\n    console.debug(\"Bokeh: BokehJS not loaded, scheduling load and callback at\", now());\n    root._bokeh_is_loading = css_urls.length + js_urls.length;\n\n    function on_load() {\n      root._bokeh_is_loading--;\n      if (root._bokeh_is_loading === 0) {\n        console.debug(\"Bokeh: all BokehJS libraries/stylesheets loaded\");\n        run_callbacks()\n      }\n    }\n\n    function on_error(url) {\n      console.error(\"failed to load \" + url);\n    }\n\n    for (let i = 0; i < css_urls.length; i++) {\n      const url = css_urls[i];\n      const element = document.createElement(\"link\");\n      element.onload = on_load;\n      element.onerror = on_error.bind(null, url);\n      element.rel = \"stylesheet\";\n      element.type = \"text/css\";\n      element.href = url;\n      console.debug(\"Bokeh: injecting link tag for BokehJS stylesheet: \", url);\n      document.body.appendChild(element);\n    }\n\n    const hashes = {\"https://cdn.bokeh.org/bokeh/release/bokeh-2.3.2.min.js\": \"XypntL49z55iwGVUW4qsEu83zKL3XEcz0MjuGOQ9SlaaQ68X/g+k1FcioZi7oQAc\", \"https://cdn.bokeh.org/bokeh/release/bokeh-tables-2.3.2.min.js\": \"bEsM86IHGDTLCS0Zod8a8WM6Y4+lafAL/eSiyQcuPzinmWNgNO2/olUF0Z2Dkn5i\", \"https://cdn.bokeh.org/bokeh/release/bokeh-widgets-2.3.2.min.js\": \"TX0gSQTdXTTeScqxj6PVQxTiRW8DOoGVwinyi1D3kxv7wuxQ02XkOxv0xwiypcAH\"};\n\n    for (let i = 0; i < js_urls.length; i++) {\n      const url = js_urls[i];\n      const element = document.createElement('script');\n      element.onload = on_load;\n      element.onerror = on_error.bind(null, url);\n      element.async = false;\n      element.src = url;\n      if (url in hashes) {\n        element.crossOrigin = \"anonymous\";\n        element.integrity = \"sha384-\" + hashes[url];\n      }\n      console.debug(\"Bokeh: injecting script tag for BokehJS library: \", url);\n      document.head.appendChild(element);\n    }\n  };\n\n  function inject_raw_css(css) {\n    const element = document.createElement(\"style\");\n    element.appendChild(document.createTextNode(css));\n    document.body.appendChild(element);\n  }\n\n  \n  var js_urls = [\"https://cdn.bokeh.org/bokeh/release/bokeh-2.3.2.min.js\", \"https://cdn.bokeh.org/bokeh/release/bokeh-widgets-2.3.2.min.js\", \"https://cdn.bokeh.org/bokeh/release/bokeh-tables-2.3.2.min.js\"];\n  var css_urls = [];\n  \n\n  var inline_js = [\n    function(Bokeh) {\n      Bokeh.set_log_level(\"info\");\n    },\n    function(Bokeh) {\n    \n    \n    }\n  ];\n\n  function run_inline_js() {\n    \n    if (root.Bokeh !== undefined || force === true) {\n      \n    for (var i = 0; i < inline_js.length; i++) {\n      inline_js[i].call(root, root.Bokeh);\n    }\n    if (force === true) {\n        display_loaded();\n      }} else if (Date.now() < root._bokeh_timeout) {\n      setTimeout(run_inline_js, 100);\n    } else if (!root._bokeh_failed_load) {\n      console.log(\"Bokeh: BokehJS failed to load within specified timeout.\");\n      root._bokeh_failed_load = true;\n    } else if (force !== true) {\n      var cell = $(document.getElementById(\"1002\")).parents('.cell').data().cell;\n      cell.output_area.append_execute_result(NB_LOAD_WARNING)\n    }\n\n  }\n\n  if (root._bokeh_is_loading === 0) {\n    console.debug(\"Bokeh: BokehJS loaded, going straight to plotting\");\n    run_inline_js();\n  } else {\n    load_libs(css_urls, js_urls, function() {\n      console.debug(\"Bokeh: BokehJS plotting callback run at\", now());\n      run_inline_js();\n    });\n  }\n}(window));"
     },
     "metadata": {},
     "output_type": "display_data"
    }
   ],
   "source": [
    "import pandas as pd\n",
    "from bokeh.io import push_notebook, show, output_notebook\n",
    "from bokeh.plotting import figure\n",
    "from bokeh.models import ColumnDataSource, LabelSet\n",
    "output_notebook()"
   ]
  },
  {
   "cell_type": "code",
   "execution_count": 25,
   "id": "a8573c9a",
   "metadata": {},
   "outputs": [
    {
     "data": {
      "text/html": [
       "\n",
       "\n",
       "\n",
       "\n",
       "\n",
       "\n",
       "  <div class=\"bk-root\" id=\"e7ad2747-dc0f-4b50-ab74-b1b1962947e7\" data-root-id=\"1006\"></div>\n"
      ]
     },
     "metadata": {},
     "output_type": "display_data"
    },
    {
     "data": {
      "application/javascript": [
       "(function(root) {\n",
       "  function embed_document(root) {\n",
       "    \n",
       "  var docs_json = {\"f650ccea-75f5-4bfb-8864-9f141810dc25\":{\"defs\":[],\"roots\":{\"references\":[{\"attributes\":{\"below\":[{\"id\":\"1015\"}],\"center\":[{\"id\":\"1018\"},{\"id\":\"1022\"},{\"id\":\"1004\"}],\"left\":[{\"id\":\"1019\"}],\"renderers\":[{\"id\":\"1040\"}],\"title\":{\"id\":\"1042\"},\"toolbar\":{\"id\":\"1030\"},\"x_range\":{\"id\":\"1007\"},\"x_scale\":{\"id\":\"1011\"},\"y_range\":{\"id\":\"1009\"},\"y_scale\":{\"id\":\"1013\"}},\"id\":\"1006\",\"subtype\":\"Figure\",\"type\":\"Plot\"},{\"attributes\":{\"data\":{\"document\":{\"__ndarray__\":\"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\",\"dtype\":\"int32\",\"order\":\"little\",\"shape\":[3812]},\"index\":[0,1,2,3,4,5,6,7,8,9,10,11,12,13,14,15,16,17,18,19,20,21,22,23,24,25,26,27,28,29,30,31,32,33,34,35,36,37,38,39,40,41,42,43,44,45,46,47,48,49,50,51,52,53,54,55,56,57,58,59,60,61,62,63,64,65,66,67,68,69,70,71,72,73,74,75,76,77,78,79,80,81,82,83,84,85,86,87,88,89,90,91,92,93,94,95,96,97,98,99,100,101,102,103,104,105,106,107,108,109,110,111,112,113,114,115,116,117,118,119,120,121,122,123,124,125,126,127,128,129,130,131,132,133,134,135,136,137,138,139,140,141,142,143,144,145,146,147,148,149,150,151,152,153,154,155,156,157,158,159,160,161,162,163,164,165,166,167,168,169,170,171,172,173,174,175,176,177,178,179,180,181,182,183,184,185,186,187,188,189,190,191,192,193,194,195,196,197,198,199,200,201,202,203,204,205,206,207,208,209,210,211,212,213,214,215,216,217,218,219,220,221,222,223,224,225,226,227,228,229,230,231,232,233,234,235,236,237,238,239,240,241,242,243,244,245,246,247,248,249,250,251,252,253,254,255,256,257,258,259,260,261,262,263,264,265,266,267,268,269,270,271,272,273,274,275,276,277,278,279,280,281,282,283,284,285,286,287,288,289,290,291,292,293,294,295,296,297,298,299,300,301,302,303,304,305,306,307,308,309,310,311,312,313,314,315,316,317,318,319,320,321,322,323,324,325,326,327,328,329,330,331,332,333,334,335,336,337,338,339,340,341,342,343,344,345,346,347,348,349,350,351,352,353,354,355,356,357,358,359,360,361,362,363,364,365,366,367,368,369,370,371,372,373,374,375,376,377,378,379,380,381,382,383,384,385,386,387,388,389,390,391,392,393,394,395,396,397,398,399,400,401,402,403,404,405,406,407,408,409,410,411,412,413,414,415,416,417,418,419,420,421,422,423,424,425,426,427,428,429,430,431,432,433,434,435,436,437,438,439,440,441,442,443,444,445,446,447,448,449,450,451,452,453,454,455,456,457,458,459,460,461,462,463,464,465,466,467,468,469,470,471,472,473,474,475,476,477,478,479,480,481,482,483,484,485,486,487,488,489,490,491,492,493,494,495,496,497,498,499,500,501,502,503,504,505,506,507,508,509,510,511,512,513,514,515,516,517,518,519,520,521,522,523,524,525,526,527,528,529,530,531,532,533,534,535,536,537,538,539,540,541,542,543,544,545,546,547,548,549,550,551,552,553,554,555,556,557,558,559,560,561,562,563,564,565,566,567,568,569,570,571,572,573,574,575,576,577,578,579,580,581,582,583,584,585,586,587,588,589,590,591,592,593,594,595,596,597,598,599,600,601,602,603,604,605,606,607,608,609,610,611,612,613,614,615,616,617,618,619,620,621,622,623,624,625,626,627,628,629,630,631,632,633,634,635,636,637,638,639,640,641,642,643,644,645,646,647,648,649,650,651,652,653,654,655,656,657,658,659,660,661,662,663,664,665,666,667,668,669,670,671,672,673,674,675,676,677,678,679,680,681,682,683,684,685,686,687,688,689,690,691,692,693,694,695,696,697,698,699,700,701,702,703,704,705,706,707,708,709,710,711,712,713,714,715,716,717,718,719,720,721,722,723,724,725,726,727,728,729,730,731,732,733,734,735,736,737,738,739,740,741,742,743,744,745,746,747,748,749,750,751,752,753,754,755,756,757,758,759,760,761,762,763,764,765,766,767,768,769,770,771,772,773,774,775,776,777,778,779,780,781,782,783,784,785,786,787,788,789,790,791,792,793,794,795,796,797,798,799,800,801,802,803,804,805,806,807,808,809,810,811,812,813,814,815,816,817,818,819,820,821,822,823,824,825,826,827,828,829,830,831,832,833,834,835,836,837,838,839,840,841,842,843,844,845,846,847,848,849,850,851,852,853,854,855,856,857,858,859,860,861,862,863,864,865,866,867,868,869,870,871,872,873,874,875,876,877,878,879,880,881,882,883,884,885,886,887,888,889,890,891,892,893,894,895,896,897,898,899,900,901,902,903,904,905,906,907,908,909,910,911,912,913,914,915,916,917,918,919,920,921,922,923,924,925,926,927,928,929,930,931,932,933,934,935,936,937,938,939,940,941,942,943,944,945,946,947,948,949,950,951,952,953,954,955,956,957,958,959,960,961,962,963,964,965,966,967,968,969,970,971,972,973,974,975,976,977,978,979,980,981,982,983,984,985,986,987,988,989,990,991,992,993,994,995,996,997,998,999,1000,1001,1002,1003,1004,1005,1006,1007,1008,1009,1010,1011,1012,1013,1014,1015,1016,1017,1018,1019,1020,1021,1022,1023,1024,1025,1026,1027,1028,1029,1030,1031,1032,1033,1034,1035,1036,1037,1038,1039,1040,1041,1042,1043,1044,1045,1046,1047,1048,1049,1050,1051,1052,1053,1054,1055,1056,1057,1058,1059,1060,1061,1062,1063,1064,1065,1066,1067,1068,1069,1070,1071,1072,1073,1074,1075,1076,1077,1078,1079,1080,1081,1082,1083,1084,1085,1086,1087,1088,1089,1090,1091,1092,1093,1094,1095,1096,1097,1098,1099,1100,1101,1102,1103,1104,1105,1106,1107,1108,1109,1110,1111,1112,1113,1114,1115,1116,1117,1118,1119,1120,1121,1122,1123,1124,1125,1126,1127,1128,1129,1130,1131,1132,1133,1134,1135,1136,1137,1138,1139,1140,1141,1142,1143,1144,1145,1146,1147,1148,1149,1150,1151,1152,1153,1154,1155,1156,1157,1158,1159,1160,1161,1162,1163,1164,1165,1166,1167,1168,1169,1170,1171,1172,1173,1174,1175,1176,1177,1178,1179,1180,1181,1182,1183,1184,1185,1186,1187,1188,1189,1190,1191,1192,1193,1194,1195,1196,1197,1198,1199,1200,1201,1202,1203,1204,1205,1206,1207,1208,1209,1210,1211,1212,1213,1214,1215,1216,1217,1218,1219,1220,1221,1222,1223,1224,1225,1226,1227,1228,1229,1230,1231,1232,1233,1234,1235,1236,1237,1238,1239,1240,1241,1242,1243,1244,1245,1246,1247,1248,1249,1250,1251,1252,1253,1254,1255,1256,1257,1258,1259,1260,1261,1262,1263,1264,1265,1266,1267,1268,1269,1270,1271,1272,1273,1274,1275,1276,1277,1278,1279,1280,1281,1282,1283,1284,1285,1286,1287,1288,1289,1290,1291,1292,1293,1294,1295,1296,1297,1298,1299,1300,1301,1302,1303,1304,1305,1306,1307,1308,1309,1310,1311,1312,1313,1314,1315,1316,1317,1318,1319,1320,1321,1322,1323,1324,1325,1326,1327,1328,1329,1330,1331,1332,1333,1334,1335,1336,1337,1338,1339,1340,1341,1342,1343,1344,1345,1346,1347,1348,1349,1350,1351,1352,1353,1354,1355,1356,1357,1358,1359,1360,1361,1362,1363,1364,1365,1366,1367,1368,1369,1370,1371,1372,1373,1374,1375,1376,1377,1378,1379,1380,1381,1382,1383,1384,1385,1386,1387,1388,1389,1390,1391,1392,1393,1394,1395,1396,1397,1398,1399,1400,1401,1402,1403,1404,1405,1406,1407,1408,1409,1410,1411,1412,1413,1414,1415,1416,1417,1418,1419,1420,1421,1422,1423,1424,1425,1426,1427,1428,1429,1430,1431,1432,1433,1434,1435,1436,1437,1438,1439,1440,1441,1442,1443,1444,1445,1446,1447,1448,1449,1450,1451,1452,1453,1454,1455,1456,1457,1458,1459,1460,1461,1462,1463,1464,1465,1466,1467,1468,1469,1470,1471,1472,1473,1474,1475,1476,1477,1478,1479,1480,1481,1482,1483,1484,1485,1486,1487,1488,1489,1490,1491,1492,1493,1494,1495,1496,1497,1498,1499,1500,1501,1502,1503,1504,1505,1506,1507,1508,1509,1510,1511,1512,1513,1514,1515,1516,1517,1518,1519,1520,1521,1522,1523,1524,1525,1526,1527,1528,1529,1530,1531,1532,1533,1534,1535,1536,1537,1538,1539,1540,1541,1542,1543,1544,1545,1546,1547,1548,1549,1550,1551,1552,1553,1554,1555,1556,1557,1558,1559,1560,1561,1562,1563,1564,1565,1566,1567,1568,1569,1570,1571,1572,1573,1574,1575,1576,1577,1578,1579,1580,1581,1582,1583,1584,1585,1586,1587,1588,1589,1590,1591,1592,1593,1594,1595,1596,1597,1598,1599,1600,1601,1602,1603,1604,1605,1606,1607,1608,1609,1610,1611,1612,1613,1614,1615,1616,1617,1618,1619,1620,1621,1622,1623,1624,1625,1626,1627,1628,1629,1630,1631,1632,1633,1634,1635,1636,1637,1638,1639,1640,1641,1642,1643,1644,1645,1646,1647,1648,1649,1650,1651,1652,1653,1654,1655,1656,1657,1658,1659,1660,1661,1662,1663,1664,1665,1666,1667,1668,1669,1670,1671,1672,1673,1674,1675,1676,1677,1678,1679,1680,1681,1682,1683,1684,1685,1686,1687,1688,1689,1690,1691,1692,1693,1694,1695,1696,1697,1698,1699,1700,1701,1702,1703,1704,1705,1706,1707,1708,1709,1710,1711,1712,1713,1714,1715,1716,1717,1718,1719,1720,1721,1722,1723,1724,1725,1726,1727,1728,1729,1730,1731,1732,1733,1734,1735,1736,1737,1738,1739,1740,1741,1742,1743,1744,1745,1746,1747,1748,1749,1750,1751,1752,1753,1754,1755,1756,1757,1758,1759,1760,1761,1762,1763,1764,1765,1766,1767,1768,1769,1770,1771,1772,1773,1774,1775,1776,1777,1778,1779,1780,1781,1782,1783,1784,1785,1786,1787,1788,1789,1790,1791,1792,1793,1794,1795,1796,1797,1798,1799,1800,1801,1802,1803,1804,1805,1806,1807,1808,1809,1810,1811,1812,1813,1814,1815,1816,1817,1818,1819,1820,1821,1822,1823,1824,1825,1826,1827,1828,1829,1830,1831,1832,1833,1834,1835,1836,1837,1838,1839,1840,1841,1842,1843,1844,1845,1846,1847,1848,1849,1850,1851,1852,1853,1854,1855,1856,1857,1858,1859,1860,1861,1862,1863,1864,1865,1866,1867,1868,1869,1870,1871,1872,1873,1874,1875,1876,1877,1878,1879,1880,1881,1882,1883,1884,1885,1886,1887,1888,1889,1890,1891,1892,1893,1894,1895,1896,1897,1898,1899,1900,1901,1902,1903,1904,1905,1906,1907,1908,1909,1910,1911,1912,1913,1914,1915,1916,1917,1918,1919,1920,1921,1922,1923,1924,1925,1926,1927,1928,1929,1930,1931,1932,1933,1934,1935,1936,1937,1938,1939,1940,1941,1942,1943,1944,1945,1946,1947,1948,1949,1950,1951,1952,1953,1954,1955,1956,1957,1958,1959,1960,1961,1962,1963,1964,1965,1966,1967,1968,1969,1970,1971,1972,1973,1974,1975,1976,1977,1978,1979,1980,1981,1982,1983,1984,1985,1986,1987,1988,1989,1990,1991,1992,1993,1994,1995,1996,1997,1998,1999,2000,2001,2002,2003,2004,2005,2006,2007,2008,2009,2010,2011,2012,2013,2014,2015,2016,2017,2018,2019,2020,2021,2022,2023,2024,2025,2026,2027,2028,2029,2030,2031,2032,2033,2034,2035,2036,2037,2038,2039,2040,2041,2042,2043,2044,2045,2046,2047,2048,2049,2050,2051,2052,2053,2054,2055,2056,2057,2058,2059,2060,2061,2062,2063,2064,2065,2066,2067,2068,2069,2070,2071,2072,2073,2074,2075,2076,2077,2078,2079,2080,2081,2082,2083,2084,2085,2086,2087,2088,2089,2090,2091,2092,2093,2094,2095,2096,2097,2098,2099,2100,2101,2102,2103,2104,2105,2106,2107,2108,2109,2110,2111,2112,2113,2114,2115,2116,2117,2118,2119,2120,2121,2122,2123,2124,2125,2126,2127,2128,2129,2130,2131,2132,2133,2134,2135,2136,2137,2138,2139,2140,2141,2142,2143,2144,2145,2146,2147,2148,2149,2150,2151,2152,2153,2154,2155,2156,2157,2158,2159,2160,2161,2162,2163,2164,2165,2166,2167,2168,2169,2170,2171,2172,2173,2174,2175,2176,2177,2178,2179,2180,2181,2182,2183,2184,2185,2186,2187,2188,2189,2190,2191,2192,2193,2194,2195,2196,2197,2198,2199,2200,2201,2202,2203,2204,2205,2206,2207,2208,2209,2210,2211,2212,2213,2214,2215,2216,2217,2218,2219,2220,2221,2222,2223,2224,2225,2226,2227,2228,2229,2230,2231,2232,2233,2234,2235,2236,2237,2238,2239,2240,2241,2242,2243,2244,2245,2246,2247,2248,2249,2250,2251,2252,2253,2254,2255,2256,2257,2258,2259,2260,2261,2262,2263,2264,2265,2266,2267,2268,2269,2270,2271,2272,2273,2274,2275,2276,2277,2278,2279,2280,2281,2282,2283,2284,2285,2286,2287,2288,2289,2290,2291,2292,2293,2294,2295,2296,2297,2298,2299,2300,2301,2302,2303,2304,2305,2306,2307,2308,2309,2310,2311,2312,2313,2314,2315,2316,2317,2318,2319,2320,2321,2322,2323,2324,2325,2326,2327,2328,2329,2330,2331,2332,2333,2334,2335,2336,2337,2338,2339,2340,2341,2342,2343,2344,2345,2346,2347,2348,2349,2350,2351,2352,2353,2354,2355,2356,2357,2358,2359,2360,2361,2362,2363,2364,2365,2366,2367,2368,2369,2370,2371,2372,2373,2374,2375,2376,2377,2378,2379,2380,2381,2382,2383,2384,2385,2386,2387,2388,2389,2390,2391,2392,2393,2394,2395,2396,2397,2398,2399,2400,2401,2402,2403,2404,2405,2406,2407,2408,2409,2410,2411,2412,2413,2414,2415,2416,2417,2418,2419,2420,2421,2422,2423,2424,2425,2426,2427,2428,2429,2430,2431,2432,2433,2434,2435,2436,2437,2438,2439,2440,2441,2442,2443,2444,2445,2446,2447,2448,2449,2450,2451,2452,2453,2454,2455,2456,2457,2458,2459,2460,2461,2462,2463,2464,2465,2466,2467,2468,2469,2470,2471,2472,2473,2474,2475,2476,2477,2478,2479,2480,2481,2482,2483,2484,2485,2486,2487,2488,2489,2490,2491,2492,2493,2494,2495,2496,2497,2498,2499,2500,2501,2502,2503,2504,2505,2506,2507,2508,2509,2510,2511,2512,2513,2514,2515,2516,2517,2518,2519,2520,2521,2522,2523,2524,2525,2526,2527,2528,2529,2530,2531,2532,2533,2534,2535,2536,2537,2538,2539,2540,2541,2542,2543,2544,2545,2546,2547,2548,2549,2550,2551,2552,2553,2554,2555,2556,2557,2558,2559,2560,2561,2562,2563,2564,2565,2566,2567,2568,2569,2570,2571,2572,2573,2574,2575,2576,2577,2578,2579,2580,2581,2582,2583,2584,2585,2586,2587,2588,2589,2590,2591,2592,2593,2594,2595,2596,2597,2598,2599,2600,2601,2602,2603,2604,2605,2606,2607,2608,2609,2610,2611,2612,2613,2614,2615,2616,2617,2618,2619,2620,2621,2622,2623,2624,2625,2626,2627,2628,2629,2630,2631,2632,2633,2634,2635,2636,2637,2638,2639,2640,2641,2642,2643,2644,2645,2646,2647,2648,2649,2650,2651,2652,2653,2654,2655,2656,2657,2658,2659,2660,2661,2662,2663,2664,2665,2666,2667,2668,2669,2670,2671,2672,2673,2674,2675,2676,2677,2678,2679,2680,2681,2682,2683,2684,2685,2686,2687,2688,2689,2690,2691,2692,2693,2694,2695,2696,2697,2698,2699,2700,2701,2702,2703,2704,2705,2706,2707,2708,2709,2710,2711,2712,2713,2714,2715,2716,2717,2718,2719,2720,2721,2722,2723,2724,2725,2726,2727,2728,2729,2730,2731,2732,2733,2734,2735,2736,2737,2738,2739,2740,2741,2742,2743,2744,2745,2746,2747,2748,2749,2750,2751,2752,2753,2754,2755,2756,2757,2758,2759,2760,2761,2762,2763,2764,2765,2766,2767,2768,2769,2770,2771,2772,2773,2774,2775,2776,2777,2778,2779,2780,2781,2782,2783,2784,2785,2786,2787,2788,2789,2790,2791,2792,2793,2794,2795,2796,2797,2798,2799,2800,2801,2802,2803,2804,2805,2806,2807,2808,2809,2810,2811,2812,2813,2814,2815,2816,2817,2818,2819,2820,2821,2822,2823,2824,2825,2826,2827,2828,2829,2830,2831,2832,2833,2834,2835,2836,2837,2838,2839,2840,2841,2842,2843,2844,2845,2846,2847,2848,2849,2850,2851,2852,2853,2854,2855,2856,2857,2858,2859,2860,2861,2862,2863,2864,2865,2866,2867,2868,2869,2870,2871,2872,2873,2874,2875,2876,2877,2878,2879,2880,2881,2882,2883,2884,2885,2886,2887,2888,2889,2890,2891,2892,2893,2894,2895,2896,2897,2898,2899,2900,2901,2902,2903,2904,2905,2906,2907,2908,2909,2910,2911,2912,2913,2914,2915,2916,2917,2918,2919,2920,2921,2922,2923,2924,2925,2926,2927,2928,2929,2930,2931,2932,2933,2934,2935,2936,2937,2938,2939,2940,2941,2942,2943,2944,2945,2946,2947,2948,2949,2950,2951,2952,2953,2954,2955,2956,2957,2958,2959,2960,2961,2962,2963,2964,2965,2966,2967,2968,2969,2970,2971,2972,2973,2974,2975,2976,2977,2978,2979,2980,2981,2982,2983,2984,2985,2986,2987,2988,2989,2990,2991,2992,2993,2994,2995,2996,2997,2998,2999,3000,3001,3002,3003,3004,3005,3006,3007,3008,3009,3010,3011,3012,3013,3014,3015,3016,3017,3018,3019,3020,3021,3022,3023,3024,3025,3026,3027,3028,3029,3030,3031,3032,3033,3034,3035,3036,3037,3038,3039,3040,3041,3042,3043,3044,3045,3046,3047,3048,3049,3050,3051,3052,3053,3054,3055,3056,3057,3058,3059,3060,3061,3062,3063,3064,3065,3066,3067,3068,3069,3070,3071,3072,3073,3074,3075,3076,3077,3078,3079,3080,3081,3082,3083,3084,3085,3086,3087,3088,3089,3090,3091,3092,3093,3094,3095,3096,3097,3098,3099,3100,3101,3102,3103,3104,3105,3106,3107,3108,3109,3110,3111,3112,3113,3114,3115,3116,3117,3118,3119,3120,3121,3122,3123,3124,3125,3126,3127,3128,3129,3130,3131,3132,3133,3134,3135,3136,3137,3138,3139,3140,3141,3142,3143,3144,3145,3146,3147,3148,3149,3150,3151,3152,3153,3154,3155,3156,3157,3158,3159,3160,3161,3162,3163,3164,3165,3166,3167,3168,3169,3170,3171,3172,3173,3174,3175,3176,3177,3178,3179,3180,3181,3182,3183,3184,3185,3186,3187,3188,3189,3190,3191,3192,3193,3194,3195,3196,3197,3198,3199,3200,3201,3202,3203,3204,3205,3206,3207,3208,3209,3210,3211,3212,3213,3214,3215,3216,3217,3218,3219,3220,3221,3222,3223,3224,3225,3226,3227,3228,3229,3230,3231,3232,3233,3234,3235,3236,3237,3238,3239,3240,3241,3242,3243,3244,3245,3246,3247,3248,3249,3250,3251,3252,3253,3254,3255,3256,3257,3258,3259,3260,3261,3262,3263,3264,3265,3266,3267,3268,3269,3270,3271,3272,3273,3274,3275,3276,3277,3278,3279,3280,3281,3282,3283,3284,3285,3286,3287,3288,3289,3290,3291,3292,3293,3294,3295,3296,3297,3298,3299,3300,3301,3302,3303,3304,3305,3306,3307,3308,3309,3310,3311,3312,3313,3314,3315,3316,3317,3318,3319,3320,3321,3322,3323,3324,3325,3326,3327,3328,3329,3330,3331,3332,3333,3334,3335,3336,3337,3338,3339,3340,3341,3342,3343,3344,3345,3346,3347,3348,3349,3350,3351,3352,3353,3354,3355,3356,3357,3358,3359,3360,3361,3362,3363,3364,3365,3366,3367,3368,3369,3370,3371,3372,3373,3374,3375,3376,3377,3378,3379,3380,3381,3382,3383,3384,3385,3386,3387,3388,3389,3390,3391,3392,3393,3394,3395,3396,3397,3398,3399,3400,3401,3402,3403,3404,3405,3406,3407,3408,3409,3410,3411,3412,3413,3414,3415,3416,3417,3418,3419,3420,3421,3422,3423,3424,3425,3426,3427,3428,3429,3430,3431,3432,3433,3434,3435,3436,3437,3438,3439,3440,3441,3442,3443,3444,3445,3446,3447,3448,3449,3450,3451,3452,3453,3454,3455,3456,3457,3458,3459,3460,3461,3462,3463,3464,3465,3466,3467,3468,3469,3470,3471,3472,3473,3474,3475,3476,3477,3478,3479,3480,3481,3482,3483,3484,3485,3486,3487,3488,3489,3490,3491,3492,3493,3494,3495,3496,3497,3498,3499,3500,3501,3502,3503,3504,3505,3506,3507,3508,3509,3510,3511,3512,3513,3514,3515,3516,3517,3518,3519,3520,3521,3522,3523,3524,3525,3526,3527,3528,3529,3530,3531,3532,3533,3534,3535,3536,3537,3538,3539,3540,3541,3542,3543,3544,3545,3546,3547,3548,3549,3550,3551,3552,3553,3554,3555,3556,3557,3558,3559,3560,3561,3562,3563,3564,3565,3566,3567,3568,3569,3570,3571,3572,3573,3574,3575,3576,3577,3578,3579,3580,3581,3582,3583,3584,3585,3586,3587,3588,3589,3590,3591,3592,3593,3594,3595,3596,3597,3598,3599,3600,3601,3602,3603,3604,3605,3606,3607,3608,3609,3610,3611,3612,3613,3614,3615,3616,3617,3618,3619,3620,3621,3622,3623,3624,3625,3626,3627,3628,3629,3630,3631,3632,3633,3634,3635,3636,3637,3638,3639,3640,3641,3642,3643,3644,3645,3646,3647,3648,3649,3650,3651,3652,3653,3654,3655,3656,3657,3658,3659,3660,3661,3662,3663,3664,3665,3666,3667,3668,3669,3670,3671,3672,3673,3674,3675,3676,3677,3678,3679,3680,3681,3682,3683,3684,3685,3686,3687,3688,3689,3690,3691,3692,3693,3694,3695,3696,3697,3698,3699,3700,3701,3702,3703,3704,3705,3706,3707,3708,3709,3710,3711,3712,3713,3714,3715,3716,3717,3718,3719,3720,3721,3722,3723,3724,3725,3726,3727,3728,3729,3730,3731,3732,3733,3734,3735,3736,3737,3738,3739,3740,3741,3742,3743,3744,3745,3746,3747,3748,3749,3750,3751,3752,3753,3754,3755,3756,3757,3758,3759,3760,3761,3762,3763,3764,3765,3766,3767,3768,3769,3770,3771,3772,3773,3774,3775,3776,3777,3778,3779,3780,3781,3782,3783,3784,3785,3786,3787,3788,3789,3790,3791,3792,3793,3794,3795,3796,3797,3798,3799,3800,3801,3802,3803,3804,3805,3806,3807,3808,3809,3810,3811],\"x\":{\"__ndarray__\":\"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\",\"dtype\":\"float64\",\"order\":\"little\",\"shape\":[3812]},\"y\":{\"__ndarray__\":\"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\",\"dtype\":\"float64\",\"order\":\"little\",\"shape\":[3812]}},\"selected\":{\"id\":\"1052\"},\"selection_policy\":{\"id\":\"1051\"}},\"id\":\"1003\",\"type\":\"ColumnDataSource\"},{\"attributes\":{},\"id\":\"1027\",\"type\":\"ResetTool\"},{\"attributes\":{},\"id\":\"1042\",\"type\":\"Title\"},{\"attributes\":{},\"id\":\"1048\",\"type\":\"AllLabels\"},{\"attributes\":{},\"id\":\"1049\",\"type\":\"BasicTickFormatter\"},{\"attributes\":{},\"id\":\"1028\",\"type\":\"HelpTool\"},{\"attributes\":{\"bottom_units\":\"screen\",\"fill_alpha\":0.5,\"fill_color\":\"lightgrey\",\"left_units\":\"screen\",\"level\":\"overlay\",\"line_alpha\":1.0,\"line_color\":\"black\",\"line_dash\":[4,4],\"line_width\":2,\"right_units\":\"screen\",\"syncable\":false,\"top_units\":\"screen\"},\"id\":\"1029\",\"type\":\"BoxAnnotation\"},{\"attributes\":{\"data_source\":{\"id\":\"1003\"},\"glyph\":{\"id\":\"1038\"},\"hover_glyph\":null,\"muted_glyph\":null,\"nonselection_glyph\":{\"id\":\"1039\"},\"view\":{\"id\":\"1041\"}},\"id\":\"1040\",\"type\":\"GlyphRenderer\"},{\"attributes\":{},\"id\":\"1009\",\"type\":\"DataRange1d\"},{\"attributes\":{\"formatter\":{\"id\":\"1049\"},\"major_label_policy\":{\"id\":\"1048\"},\"ticker\":{\"id\":\"1016\"}},\"id\":\"1015\",\"type\":\"LinearAxis\"},{\"attributes\":{},\"id\":\"1013\",\"type\":\"LinearScale\"},{\"attributes\":{},\"id\":\"1011\",\"type\":\"LinearScale\"},{\"attributes\":{},\"id\":\"1007\",\"type\":\"DataRange1d\"},{\"attributes\":{\"formatter\":{\"id\":\"1046\"},\"major_label_policy\":{\"id\":\"1045\"},\"ticker\":{\"id\":\"1020\"}},\"id\":\"1019\",\"type\":\"LinearAxis\"},{\"attributes\":{\"source\":{\"id\":\"1003\"}},\"id\":\"1041\",\"type\":\"CDSView\"},{\"attributes\":{\"fill_alpha\":{\"value\":0.8},\"fill_color\":{\"value\":\"#1f77b4\"},\"size\":{\"value\":12},\"x\":{\"field\":\"x\"},\"y\":{\"field\":\"y\"}},\"id\":\"1038\",\"type\":\"Circle\"},{\"attributes\":{\"axis\":{\"id\":\"1019\"},\"dimension\":1,\"ticker\":null},\"id\":\"1022\",\"type\":\"Grid\"},{\"attributes\":{},\"id\":\"1045\",\"type\":\"AllLabels\"},{\"attributes\":{\"fill_alpha\":{\"value\":0.1},\"fill_color\":{\"value\":\"#1f77b4\"},\"line_alpha\":{\"value\":0.1},\"size\":{\"value\":12},\"x\":{\"field\":\"x\"},\"y\":{\"field\":\"y\"}},\"id\":\"1039\",\"type\":\"Circle\"},{\"attributes\":{},\"id\":\"1020\",\"type\":\"BasicTicker\"},{\"attributes\":{},\"id\":\"1046\",\"type\":\"BasicTickFormatter\"},{\"attributes\":{},\"id\":\"1016\",\"type\":\"BasicTicker\"},{\"attributes\":{},\"id\":\"1051\",\"type\":\"UnionRenderers\"},{\"attributes\":{\"axis\":{\"id\":\"1015\"},\"ticker\":null},\"id\":\"1018\",\"type\":\"Grid\"},{\"attributes\":{},\"id\":\"1052\",\"type\":\"Selection\"},{\"attributes\":{\"source\":{\"id\":\"1003\"},\"text\":{\"field\":\"document\"},\"text_align\":{\"value\":\"center\"},\"text_color\":{\"value\":\"#555555\"},\"text_font_size\":{\"value\":\"8pt\"},\"x\":{\"field\":\"x\"},\"y\":{\"field\":\"y\"},\"y_offset\":{\"value\":8}},\"id\":\"1004\",\"type\":\"LabelSet\"},{\"attributes\":{},\"id\":\"1024\",\"type\":\"WheelZoomTool\"},{\"attributes\":{\"active_multi\":null,\"tools\":[{\"id\":\"1023\"},{\"id\":\"1024\"},{\"id\":\"1025\"},{\"id\":\"1026\"},{\"id\":\"1027\"},{\"id\":\"1028\"}]},\"id\":\"1030\",\"type\":\"Toolbar\"},{\"attributes\":{},\"id\":\"1023\",\"type\":\"PanTool\"},{\"attributes\":{\"overlay\":{\"id\":\"1029\"}},\"id\":\"1025\",\"type\":\"BoxZoomTool\"},{\"attributes\":{},\"id\":\"1026\",\"type\":\"SaveTool\"}],\"root_ids\":[\"1006\"]},\"title\":\"Bokeh Application\",\"version\":\"2.3.2\"}};\n",
       "  var render_items = [{\"docid\":\"f650ccea-75f5-4bfb-8864-9f141810dc25\",\"notebook_comms_target\":\"1053\",\"root_ids\":[\"1006\"],\"roots\":{\"1006\":\"e7ad2747-dc0f-4b50-ab74-b1b1962947e7\"}}];\n",
       "  root.Bokeh.embed.embed_items_notebook(docs_json, render_items);\n",
       "\n",
       "  }\n",
       "  if (root.Bokeh !== undefined) {\n",
       "    embed_document(root);\n",
       "  } else {\n",
       "    var attempts = 0;\n",
       "    var timer = setInterval(function(root) {\n",
       "      if (root.Bokeh !== undefined) {\n",
       "        clearInterval(timer);\n",
       "        embed_document(root);\n",
       "      } else {\n",
       "        attempts++;\n",
       "        if (attempts > 100) {\n",
       "          clearInterval(timer);\n",
       "          console.log(\"Bokeh: ERROR: Unable to run BokehJS code because BokehJS library is missing\");\n",
       "        }\n",
       "      }\n",
       "    }, 10, root)\n",
       "  }\n",
       "})(window);"
      ],
      "application/vnd.bokehjs_exec.v0+json": ""
     },
     "metadata": {
      "application/vnd.bokehjs_exec.v0+json": {
       "id": "1006"
      }
     },
     "output_type": "display_data"
    },
    {
     "data": {
      "text/html": [
       "<p><code>&lt;Bokeh Notebook handle for <strong>In[23]</strong>&gt;</code></p>"
      ],
      "text/plain": [
       "<bokeh.io.notebook.CommsHandle at 0x24cb752a7c0>"
      ]
     },
     "execution_count": 25,
     "metadata": {},
     "output_type": "execute_result"
    }
   ],
   "source": [
    "svd = TruncatedSVD(n_components=2)\n",
    "documents_2d = svd.fit_transform(data_vectorized)\n",
    " \n",
    "df = pd.DataFrame(columns=['x', 'y', 'document'])\n",
    "df['x'], df['y'], df['document'] = documents_2d[:,0], documents_2d[:,1], range(len(data))\n",
    " \n",
    "source = ColumnDataSource(ColumnDataSource.from_df(df))\n",
    "labels = LabelSet(x=\"x\", y=\"y\", text=\"document\", y_offset=8,\n",
    "                  text_font_size=\"8pt\", text_color=\"#555555\",\n",
    "                  source=source, text_align='center')\n",
    " \n",
    "plot = figure(plot_width=600, plot_height=600)\n",
    "plot.circle(\"x\", \"y\", size=12, source=source, line_color=\"black\", fill_alpha=0.8)\n",
    "plot.add_layout(labels)\n",
    "show(plot, notebook_handle=True)"
   ]
  },
  {
   "cell_type": "code",
   "execution_count": 26,
   "id": "64c93cfd",
   "metadata": {},
   "outputs": [
    {
     "name": "stderr",
     "output_type": "stream",
     "text": [
      "C:\\Users\\HP\\anaconda3\\lib\\site-packages\\sklearn\\utils\\deprecation.py:87: FutureWarning: Function get_feature_names is deprecated; get_feature_names is deprecated in 1.0 and will be removed in 1.2. Please use get_feature_names_out instead.\n",
      "  warnings.warn(msg, category=FutureWarning)\n"
     ]
    },
    {
     "data": {
      "text/html": [
       "\n",
       "\n",
       "\n",
       "\n",
       "\n",
       "\n",
       "  <div class=\"bk-root\" id=\"b2333f90-efd0-488a-97be-7d74a92b3686\" data-root-id=\"1112\"></div>\n"
      ]
     },
     "metadata": {},
     "output_type": "display_data"
    },
    {
     "data": {
      "application/javascript": [
       "(function(root) {\n",
       "  function embed_document(root) {\n",
       "    \n",
       "  var docs_json = {\"aa46e750-3671-44ee-a304-b982477a8d21\":{\"defs\":[],\"roots\":{\"references\":[{\"attributes\":{\"below\":[{\"id\":\"1121\"}],\"center\":[{\"id\":\"1124\"},{\"id\":\"1128\"},{\"id\":\"1110\"}],\"left\":[{\"id\":\"1125\"}],\"renderers\":[{\"id\":\"1146\"}],\"title\":{\"id\":\"1159\"},\"toolbar\":{\"id\":\"1136\"},\"x_range\":{\"id\":\"1113\"},\"x_scale\":{\"id\":\"1117\"},\"y_range\":{\"id\":\"1115\"},\"y_scale\":{\"id\":\"1119\"}},\"id\":\"1112\",\"subtype\":\"Figure\",\"type\":\"Plot\"},{\"attributes\":{},\"id\":\"1165\",\"type\":\"AllLabels\"},{\"attributes\":{},\"id\":\"1166\",\"type\":\"BasicTickFormatter\"},{\"attributes\":{\"bottom_units\":\"screen\",\"fill_alpha\":0.5,\"fill_color\":\"lightgrey\",\"left_units\":\"screen\",\"level\":\"overlay\",\"line_alpha\":1.0,\"line_color\":\"black\",\"line_dash\":[4,4],\"line_width\":2,\"right_units\":\"screen\",\"syncable\":false,\"top_units\":\"screen\"},\"id\":\"1135\",\"type\":\"BoxAnnotation\"},{\"attributes\":{\"axis\":{\"id\":\"1125\"},\"dimension\":1,\"ticker\":null},\"id\":\"1128\",\"type\":\"Grid\"},{\"attributes\":{},\"id\":\"1115\",\"type\":\"DataRange1d\"},{\"attributes\":{},\"id\":\"1113\",\"type\":\"DataRange1d\"},{\"attributes\":{\"data\":{\"index\":[0,1,2,3,4,5,6,7,8,9,10,11,12,13,14,15,16,17,18,19,20,21,22,23,24,25,26,27,28,29,30,31,32,33,34,35,36,37,38,39,40,41,42,43,44,45,46,47,48,49,50,51,52,53,54,55,56,57,58,59,60,61,62,63,64,65,66,67,68,69,70,71,72,73,74,75,76,77,78,79,80,81,82,83,84,85,86,87,88,89,90,91,92,93,94,95,96,97,98,99,100,101,102,103,104,105,106,107,108,109,110,111,112,113,114,115,116,117,118,119,120,121,122,123,124,125,126,127,128,129,130,131,132,133,134,135,136,137,138,139,140,141,142,143,144,145,146,147,148,149,150,151,152,153,154,155,156,157,158,159,160,161,162,163,164,165,166,167,168,169,170,171,172,173,174,175,176,177,178,179,180,181,182,183,184,185,186,187,188,189,190,191,192,193,194,195,196,197,198,199,200,201,202,203,204,205,206,207,208,209,210,211,212,213,214,215,216,217,218,219,220,221,222,223,224,225,226,227,228,229,230,231,232,233,234,235,236,237,238,239,240,241,242,243,244,245,246,247,248,249,250,251,252,253,254,255,256,257,258,259,260,261,262,263,264,265,266,267,268,269,270,271,272,273,274,275,276,277,278,279,280,281,282,283,284,285,286,287,288,289,290,291,292,293,294,295,296,297,298,299,300,301,302,303,304,305,306,307,308,309,310,311,312,313,314,315,316,317,318,319,320,321,322,323,324,325,326,327,328,329,330,331,332,333,334,335,336,337,338,339,340,341,342,343,344,345,346,347,348,349,350,351,352,353,354,355,356,357,358,359,360,361,362,363,364,365,366,367,368,369,370,371,372,373,374,375,376,377,378,379,380,381,382,383,384,385,386,387,388,389,390,391,392,393,394,395,396,397,398,399,400,401,402,403,404,405,406,407,408,409,410,411,412,413,414,415,416,417,418,419,420,421,422,423,424,425,426,427,428,429,430,431,432,433,434,435,436,437,438,439,440,441,442,443,444,445,446,447,448,449,450,451,452,453,454,455,456,457,458,459,460,461,462,463,464,465,466,467,468,469,470,471,472,473,474,475,476,477,478,479,480,481,482,483,484,485,486,487,488,489,490,491,492,493,494,495,496,497,498,499,500,501,502,503,504,505,506,507,508,509,510,511,512,513,514,515,516,517,518,519,520,521,522,523,524,525,526,527,528,529,530,531,532,533,534,535,536,537,538,539,540,541,542,543,544,545,546,547,548,549,550,551,552,553,554,555,556,557,558,559,560,561,562,563,564,565,566,567,568,569,570,571,572,573,574,575,576,577,578,579,580,581,582,583,584,585,586,587,588,589,590,591,592,593,594,595,596,597,598,599,600,601,602,603,604,605,606,607,608,609,610,611,612,613,614,615,616,617,618,619,620,621,622,623,624,625,626,627,628,629,630,631,632,633,634,635,636,637,638,639,640,641,642,643,644,645,646,647,648,649,650,651,652,653,654,655,656,657,658,659,660,661,662,663,664,665,666,667,668,669,670,671,672,673,674,675,676,677,678,679,680,681,682,683,684,685,686,687,688,689,690,691,692,693,694,695,696,697,698,699,700,701,702,703,704,705,706,707,708,709,710,711,712,713,714,715,716,717,718,719,720,721,722,723,724,725,726,727,728,729,730,731,732,733,734,735,736,737,738,739,740,741,742,743,744,745,746,747,748,749,750,751,752,753,754,755,756,757,758,759,760,761,762,763,764,765,766,767,768,769,770,771,772,773,774,775,776,777,778,779,780,781,782,783,784,785,786,787,788,789,790,791,792,793,794,795,796,797,798,799,800,801,802,803,804,805,806,807,808,809,810,811,812,813,814,815,816,817,818,819,820,821,822,823,824,825,826,827,828,829,830,831,832,833,834,835,836,837,838,839,840,841,842,843,844,845,846,847,848,849,850,851,852,853,854,855,856,857,858,859,860,861,862,863,864,865,866,867,868,869,870,871,872,873,874,875,876,877,878,879,880,881,882,883,884,885,886,887,888,889,890,891,892,893,894,895,896,897,898,899,900,901,902,903,904,905,906,907,908,909,910,911,912,913,914,915,916,917,918,919],\"word\":[\"ability\",\"able\",\"access\",\"accessibility\",\"accessible\",\"accommodating\",\"accurate\",\"actual\",\"actually\",\"addition\",\"additional\",\"address\",\"addressed\",\"addressing\",\"adequate\",\"advantage\",\"advice\",\"affordable\",\"afternoon\",\"age\",\"ago\",\"allergy\",\"amazing\",\"annual\",\"answer\",\"answered\",\"answering\",\"answers\",\"antibiotic\",\"antibiotics\",\"app\",\"apparently\",\"appointment\",\"appointments\",\"appreciate\",\"appreciated\",\"approach\",\"approachable\",\"appropriate\",\"appt\",\"appts\",\"apt\",\"area\",\"aren\",\"arrived\",\"arriving\",\"arvada\",\"ask\",\"asked\",\"asking\",\"asks\",\"assessment\",\"assistance\",\"assistant\",\"assistants\",\"atmosphere\",\"attention\",\"attentive\",\"attitude\",\"availability\",\"available\",\"average\",\"aware\",\"away\",\"awesome\",\"bad\",\"based\",\"basic\",\"bedside\",\"believe\",\"bemis\",\"benefit\",\"benefits\",\"bernardy\",\"best\",\"better\",\"big\",\"biometric\",\"bit\",\"blood\",\"bloodwork\",\"body\",\"breast\",\"brone\",\"brought\",\"build\",\"building\",\"business\",\"busy\",\"called\",\"calling\",\"calls\",\"came\",\"cameron\",\"care\",\"cared\",\"cares\",\"caring\",\"carter\",\"case\",\"cause\",\"center\",\"certain\",\"chance\",\"change\",\"changed\",\"changes\",\"charge\",\"chart\",\"cheap\",\"check\",\"check-in\",\"checked\",\"checking\",\"children\",\"choice\",\"choices\",\"choose\",\"chronic\",\"cigna\",\"city\",\"clean\",\"clear\",\"clearly\",\"clinic\",\"clinics\",\"close\",\"closed\",\"closest\",\"co-pay\",\"co-workers\",\"cold\",\"colleagues\",\"come\",\"comes\",\"comfortable\",\"coming\",\"common\",\"communicate\",\"communication\",\"company\",\"compassionate\",\"competent\",\"complaint\",\"complete\",\"completed\",\"completely\",\"comprehensive\",\"computer\",\"concentra\",\"concept\",\"concern\",\"concerned\",\"concerns\",\"concierge\",\"condescending\",\"condition\",\"conditions\",\"confidence\",\"confident\",\"confirmation\",\"confirmed\",\"confused\",\"confusion\",\"consider\",\"consistent\",\"consultation\",\"consults\",\"contact\",\"continue\",\"continued\",\"convenience\",\"convenient\",\"conveniently\",\"conversation\",\"convience\",\"cook\",\"copay\",\"copays\",\"correct\",\"correctly\",\"cost\",\"costs\",\"cough\",\"couldn\",\"counter\",\"county\",\"couple\",\"courteous\",\"coverage\",\"covered\",\"covid\",\"coworkers\",\"current\",\"customer\",\"date\",\"daughter\",\"davidson\",\"davita\",\"day\",\"days\",\"deal\",\"decision\",\"deductible\",\"definitely\",\"depends\",\"desk\",\"detailed\",\"diagnosed\",\"diagnosis\",\"did\",\"didn\",\"didnt\",\"different\",\"difficult\",\"direct\",\"directly\",\"disappointed\",\"disappointing\",\"discuss\",\"discussing\",\"discussion\",\"disorganized\",\"doc\",\"docs\",\"doctor\",\"doctors\",\"does\",\"doesn\",\"doing\",\"don\",\"dont\",\"door\",\"downtown\",\"draw\",\"drawn\",\"drive\",\"dropped\",\"drs\",\"drug\",\"drugs\",\"ear\",\"earlier\",\"early\",\"ears\",\"ease\",\"easier\",\"easily\",\"easy\",\"effective\",\"efficient\",\"effort\",\"email\",\"emails\",\"emergency\",\"employee\",\"employees\",\"employer\",\"end\",\"ended\",\"engaged\",\"enjoy\",\"enjoyed\",\"entire\",\"environment\",\"especially\",\"establish\",\"everett\",\"exam\",\"examination\",\"exams\",\"excellent\",\"expectations\",\"expected\",\"expensive\",\"experience\",\"experienced\",\"experiences\",\"explain\",\"explained\",\"explaining\",\"explains\",\"extra\",\"extremely\",\"eye\",\"face\",\"facilities\",\"facility\",\"fact\",\"fair\",\"fairly\",\"family\",\"fantastic\",\"far\",\"fast\",\"federal\",\"fee\",\"feedback\",\"feel\",\"feeling\",\"feels\",\"felt\",\"female\",\"figure\",\"filled\",\"finally\",\"fine\",\"fit\",\"flexibility\",\"flexible\",\"flu\",\"focused\",\"folks\",\"follow\",\"follow-up\",\"following\",\"forced\",\"forgot\",\"form\",\"forth\",\"forward\",\"free\",\"friday\",\"friend\",\"friendliness\",\"friendly\",\"friends\",\"frustrating\",\"fully\",\"future\",\"gave\",\"general\",\"generally\",\"genuine\",\"genuinely\",\"gets\",\"getting\",\"giles\",\"girl\",\"given\",\"gives\",\"giving\",\"glaser\",\"goes\",\"going\",\"gone\",\"good\",\"gorman\",\"got\",\"gotten\",\"great\",\"group\",\"half\",\"hand\",\"hands\",\"happen\",\"happy\",\"hard\",\"haven\",\"having\",\"head\",\"health\",\"healthcare\",\"hear\",\"heard\",\"height\",\"help\",\"helped\",\"helpful\",\"helping\",\"hernandez\",\"hesitant\",\"hester\",\"high\",\"higher\",\"highly\",\"history\",\"hold\",\"holistic\",\"home\",\"hope\",\"hopefully\",\"hour\",\"hours\",\"humana\",\"hurry\",\"husband\",\"idea\",\"ill\",\"illness\",\"immediate\",\"immediately\",\"important\",\"impossible\",\"impressed\",\"impression\",\"improve\",\"improvement\",\"in-person\",\"including\",\"inconsistent\",\"incredibly\",\"indicated\",\"individual\",\"infection\",\"info\",\"information\",\"informative\",\"informed\",\"initial\",\"initially\",\"inside\",\"instead\",\"insurance\",\"interaction\",\"interactions\",\"interested\",\"inviting\",\"isn\",\"issue\",\"issues\",\"job\",\"join\",\"just\",\"kaiser\",\"keeping\",\"kept\",\"kim\",\"kind\",\"king\",\"knee\",\"knew\",\"know\",\"knowledgable\",\"knowledge\",\"knowledgeable\",\"knows\",\"lab\",\"labs\",\"lack\",\"lady\",\"late\",\"lately\",\"later\",\"learn\",\"leave\",\"leaving\",\"lee\",\"left\",\"let\",\"level\",\"levels\",\"like\",\"liked\",\"likely\",\"limited\",\"line\",\"listen\",\"listened\",\"listener\",\"listening\",\"listens\",\"little\",\"live\",\"local\",\"located\",\"location\",\"locations\",\"long\",\"longer\",\"look\",\"looked\",\"looking\",\"lost\",\"lot\",\"lots\",\"love\",\"loved\",\"low\",\"mail\",\"make\",\"makes\",\"making\",\"malfese\",\"mammogram\",\"manage\",\"management\",\"manner\",\"martin\",\"masterson\",\"matter\",\"maybe\",\"mccay\",\"means\",\"med\",\"medical\",\"medication\",\"medications\",\"medicine\",\"meds\",\"meet\",\"meeting\",\"megan\",\"member\",\"members\",\"mention\",\"message\",\"messages\",\"met\",\"miller\",\"min\",\"mind\",\"minimal\",\"minor\",\"mins\",\"minute\",\"minutes\",\"miss\",\"missing\",\"model\",\"monday\",\"money\",\"month\",\"months\",\"morgan\",\"morning\",\"moved\",\"multiple\",\"muse\",\"nature\",\"near\",\"need\",\"needed\",\"needs\",\"negative\",\"network\",\"new\",\"nice\",\"night\",\"normal\",\"normally\",\"note\",\"notice\",\"notified\",\"number\",\"nurse\",\"nurses\",\"nursing\",\"odd\",\"offer\",\"offered\",\"offering\",\"offers\",\"office\",\"offices\",\"okay\",\"old\",\"on-site\",\"ones\",\"online\",\"onsite\",\"open\",\"opened\",\"operation\",\"opinion\",\"option\",\"options\",\"order\",\"ordered\",\"organized\",\"outside\",\"overall\",\"paid\",\"pain\",\"paper\",\"paperwork\",\"parking\",\"past\",\"patient\",\"patients\",\"pay\",\"pcp\",\"people\",\"person\",\"personable\",\"personal\",\"personalized\",\"personally\",\"personnel\",\"peterson\",\"pharmacy\",\"phone\",\"physical\",\"physician\",\"physicians\",\"pick\",\"place\",\"places\",\"plan\",\"plans\",\"pleasant\",\"pleased\",\"plenty\",\"plus\",\"pocket\",\"point\",\"polite\",\"poor\",\"portal\",\"positive\",\"possible\",\"practice\",\"practices\",\"practitioner\",\"prefer\",\"prescribe\",\"prescribed\",\"prescribing\",\"prescription\",\"prescriptions\",\"pressure\",\"pretty\",\"preventative\",\"previous\",\"previously\",\"price\",\"primary\",\"prior\",\"private\",\"probably\",\"problem\",\"problems\",\"procedure\",\"process\",\"professional\",\"professionalism\",\"professionals\",\"program\",\"promised\",\"prompt\",\"promptly\",\"provide\",\"provided\",\"provider\",\"providers\",\"provides\",\"providing\",\"public\",\"push\",\"puyallup\",\"quality\",\"question\",\"questions\",\"quick\",\"quicker\",\"quickly\",\"quiet\",\"quite\",\"rate\",\"reach\",\"read\",\"real\",\"really\",\"reason\",\"receive\",\"received\",\"receiving\",\"recent\",\"reception\",\"receptionist\",\"recommend\",\"recommendation\",\"recommendations\",\"recommended\",\"recommending\",\"records\",\"refer\",\"referral\",\"referrals\",\"referred\",\"regarding\",\"regular\",\"relationship\",\"relatively\",\"relaxed\",\"request\",\"requested\",\"required\",\"reschedule\",\"respect\",\"respectful\",\"respond\",\"response\",\"responsive\",\"rest\",\"results\",\"retired\",\"return\",\"returning\",\"review\",\"right\",\"ritter\",\"roberts\",\"room\",\"routine\",\"rude\",\"run\",\"running\",\"rush\",\"rushed\",\"said\",\"sat\",\"satisfied\",\"saves\",\"saw\",\"say\",\"saying\",\"says\",\"schedule\",\"scheduled\",\"scheduling\",\"school\",\"screening\",\"second\",\"seeing\",\"seen\",\"self\",\"send\",\"sense\",\"sent\",\"seriously\",\"service\",\"services\",\"set\",\"setting\",\"shop\",\"short\",\"shot\",\"showed\",\"shuherk\",\"sick\",\"sign\",\"simple\",\"sinus\",\"sit\",\"site\",\"situation\",\"skills\",\"slow\",\"small\",\"smooth\",\"snyder\",\"solution\",\"somewhat\",\"son\",\"song\",\"soon\",\"sore\",\"sort\",\"speak\",\"specialist\",\"specialists\",\"spend\",\"spends\",\"spent\",\"spoke\",\"staff\",\"staffing\",\"staffs\",\"standard\",\"start\",\"started\",\"state\",\"stated\",\"status\",\"stay\",\"stop\",\"street\",\"strep\",\"strong\",\"stuck\",\"stuff\",\"suggest\",\"suggestions\",\"super\",\"support\",\"supposed\",\"sure\",\"surprised\",\"switched\",\"symptoms\",\"tacoma\",\"taken\",\"takes\",\"taking\",\"talk\",\"talked\",\"talking\",\"team\",\"telehealth\",\"tell\",\"telling\",\"terms\",\"terrible\",\"test\",\"testing\",\"tests\",\"thing\",\"things\",\"think\",\"thinking\",\"thomas\",\"thorough\",\"thoroughly\",\"thought\",\"throat\",\"thursday\",\"till\",\"time\",\"timely\",\"times\",\"today\",\"told\",\"took\",\"totally\",\"touch\",\"town\",\"training\",\"treat\",\"treated\",\"treating\",\"treatment\",\"treatments\",\"tried\",\"true\",\"truly\",\"trust\",\"try\",\"trying\",\"turned\",\"turnover\",\"twice\",\"type\",\"typical\",\"typically\",\"unable\",\"uncomfortable\",\"understand\",\"understanding\",\"unfortunately\",\"unhappy\",\"union\",\"united\",\"unless\",\"unorganized\",\"unprofessional\",\"unsure\",\"upset\",\"urgent\",\"use\",\"used\",\"using\",\"usual\",\"usually\",\"vaccine\",\"value\",\"vein\",\"versus\",\"video\",\"virtual\",\"visit\",\"visited\",\"visits\",\"voice\",\"wait\",\"waited\",\"waiting\",\"walk\",\"walked\",\"want\",\"wanted\",\"warm\",\"wasn\",\"waste\",\"way\",\"web\",\"website\",\"week\",\"weekend\",\"weeks\",\"weird\",\"welcome\",\"welcoming\",\"weld\",\"well-being\",\"wellness\",\"went\",\"weren\",\"wife\",\"willing\",\"wish\",\"won\",\"wonder\",\"wonderful\",\"work\",\"worked\",\"working\",\"workplace\",\"works\",\"worse\",\"worst\",\"wouldn\",\"written\",\"wrong\",\"x-ray\",\"xyz\",\"year\",\"years\",\"yes\",\"yesterday\"],\"x\":{\"__ndarray__\":\"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\",\"dtype\":\"float64\",\"order\":\"little\",\"shape\":[920]},\"y\":{\"__ndarray__\":\"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\",\"dtype\":\"float64\",\"order\":\"little\",\"shape\":[920]}},\"selected\":{\"id\":\"1169\"},\"selection_policy\":{\"id\":\"1168\"}},\"id\":\"1109\",\"type\":\"ColumnDataSource\"},{\"attributes\":{},\"id\":\"1133\",\"type\":\"ResetTool\"},{\"attributes\":{},\"id\":\"1134\",\"type\":\"HelpTool\"},{\"attributes\":{\"fill_alpha\":{\"value\":0.8},\"fill_color\":{\"value\":\"#1f77b4\"},\"size\":{\"value\":12},\"x\":{\"field\":\"x\"},\"y\":{\"field\":\"y\"}},\"id\":\"1144\",\"type\":\"Circle\"},{\"attributes\":{},\"id\":\"1122\",\"type\":\"BasicTicker\"},{\"attributes\":{\"formatter\":{\"id\":\"1163\"},\"major_label_policy\":{\"id\":\"1162\"},\"ticker\":{\"id\":\"1126\"}},\"id\":\"1125\",\"type\":\"LinearAxis\"},{\"attributes\":{\"overlay\":{\"id\":\"1135\"}},\"id\":\"1131\",\"type\":\"BoxZoomTool\"},{\"attributes\":{},\"id\":\"1162\",\"type\":\"AllLabels\"},{\"attributes\":{\"active_multi\":null,\"tools\":[{\"id\":\"1129\"},{\"id\":\"1130\"},{\"id\":\"1131\"},{\"id\":\"1132\"},{\"id\":\"1133\"},{\"id\":\"1134\"}]},\"id\":\"1136\",\"type\":\"Toolbar\"},{\"attributes\":{},\"id\":\"1163\",\"type\":\"BasicTickFormatter\"},{\"attributes\":{},\"id\":\"1126\",\"type\":\"BasicTicker\"},{\"attributes\":{},\"id\":\"1168\",\"type\":\"UnionRenderers\"},{\"attributes\":{},\"id\":\"1129\",\"type\":\"PanTool\"},{\"attributes\":{\"source\":{\"id\":\"1109\"},\"text\":{\"field\":\"word\"},\"text_align\":{\"value\":\"center\"},\"text_color\":{\"value\":\"#555555\"},\"text_font_size\":{\"value\":\"8pt\"},\"x\":{\"field\":\"x\"},\"y\":{\"field\":\"y\"},\"y_offset\":{\"value\":8}},\"id\":\"1110\",\"type\":\"LabelSet\"},{\"attributes\":{},\"id\":\"1130\",\"type\":\"WheelZoomTool\"},{\"attributes\":{},\"id\":\"1169\",\"type\":\"Selection\"},{\"attributes\":{},\"id\":\"1117\",\"type\":\"LinearScale\"},{\"attributes\":{\"formatter\":{\"id\":\"1166\"},\"major_label_policy\":{\"id\":\"1165\"},\"ticker\":{\"id\":\"1122\"}},\"id\":\"1121\",\"type\":\"LinearAxis\"},{\"attributes\":{\"axis\":{\"id\":\"1121\"},\"ticker\":null},\"id\":\"1124\",\"type\":\"Grid\"},{\"attributes\":{},\"id\":\"1132\",\"type\":\"SaveTool\"},{\"attributes\":{},\"id\":\"1119\",\"type\":\"LinearScale\"},{\"attributes\":{\"source\":{\"id\":\"1109\"}},\"id\":\"1147\",\"type\":\"CDSView\"},{\"attributes\":{\"fill_alpha\":{\"value\":0.1},\"fill_color\":{\"value\":\"#1f77b4\"},\"line_alpha\":{\"value\":0.1},\"size\":{\"value\":12},\"x\":{\"field\":\"x\"},\"y\":{\"field\":\"y\"}},\"id\":\"1145\",\"type\":\"Circle\"},{\"attributes\":{\"data_source\":{\"id\":\"1109\"},\"glyph\":{\"id\":\"1144\"},\"hover_glyph\":null,\"muted_glyph\":null,\"nonselection_glyph\":{\"id\":\"1145\"},\"view\":{\"id\":\"1147\"}},\"id\":\"1146\",\"type\":\"GlyphRenderer\"},{\"attributes\":{},\"id\":\"1159\",\"type\":\"Title\"}],\"root_ids\":[\"1112\"]},\"title\":\"Bokeh Application\",\"version\":\"2.3.2\"}};\n",
       "  var render_items = [{\"docid\":\"aa46e750-3671-44ee-a304-b982477a8d21\",\"notebook_comms_target\":\"1170\",\"root_ids\":[\"1112\"],\"roots\":{\"1112\":\"b2333f90-efd0-488a-97be-7d74a92b3686\"}}];\n",
       "  root.Bokeh.embed.embed_items_notebook(docs_json, render_items);\n",
       "\n",
       "  }\n",
       "  if (root.Bokeh !== undefined) {\n",
       "    embed_document(root);\n",
       "  } else {\n",
       "    var attempts = 0;\n",
       "    var timer = setInterval(function(root) {\n",
       "      if (root.Bokeh !== undefined) {\n",
       "        clearInterval(timer);\n",
       "        embed_document(root);\n",
       "      } else {\n",
       "        attempts++;\n",
       "        if (attempts > 100) {\n",
       "          clearInterval(timer);\n",
       "          console.log(\"Bokeh: ERROR: Unable to run BokehJS code because BokehJS library is missing\");\n",
       "        }\n",
       "      }\n",
       "    }, 10, root)\n",
       "  }\n",
       "})(window);"
      ],
      "application/vnd.bokehjs_exec.v0+json": ""
     },
     "metadata": {
      "application/vnd.bokehjs_exec.v0+json": {
       "id": "1112"
      }
     },
     "output_type": "display_data"
    },
    {
     "data": {
      "text/html": [
       "<p><code>&lt;Bokeh Notebook handle for <strong>In[23]</strong>&gt;</code></p>"
      ],
      "text/plain": [
       "<bokeh.io.notebook.CommsHandle at 0x24cb7509490>"
      ]
     },
     "execution_count": 26,
     "metadata": {},
     "output_type": "execute_result"
    }
   ],
   "source": [
    "svd = TruncatedSVD(n_components=2)\n",
    "words_2d = svd.fit_transform(data_vectorized.T)\n",
    " \n",
    "df = pd.DataFrame(columns=['x', 'y', 'word'])\n",
    "df['x'], df['y'], df['word'] = words_2d[:,0], words_2d[:,1], vectorizer.get_feature_names()\n",
    " \n",
    "source = ColumnDataSource(ColumnDataSource.from_df(df))\n",
    "labels = LabelSet(x=\"x\", y=\"y\", text=\"word\", y_offset=8,\n",
    "                  text_font_size=\"8pt\", text_color=\"#555555\",\n",
    "                  source=source, text_align='center')\n",
    " \n",
    "plot = figure(plot_width=600, plot_height=600)\n",
    "plot.circle(\"x\", \"y\", size=12, source=source, line_color=\"black\", fill_alpha=0.8)\n",
    "plot.add_layout(labels)\n",
    "show(plot, notebook_handle=True)"
   ]
  },
  {
   "cell_type": "code",
   "execution_count": 32,
   "id": "5ff856f8",
   "metadata": {},
   "outputs": [
    {
     "name": "stderr",
     "output_type": "stream",
     "text": [
      "C:\\Users\\HP\\anaconda3\\lib\\site-packages\\ipykernel\\ipkernel.py:287: DeprecationWarning: `should_run_async` will not call `transform_cell` automatically in the future. Please pass the result to `transformed_cell` argument and any exception that happen during thetransform in `preprocessing_exc_tuple` in IPython 7.17 and above.\n",
      "  and should_run_async(code)\n",
      "<>:8: DeprecationWarning: invalid escape sequence \\-\n",
      "<>:8: DeprecationWarning: invalid escape sequence \\-\n",
      "<ipython-input-32-7e2f9081b1b1>:8: DeprecationWarning: invalid escape sequence \\-\n",
      "  token_pattern='[a-zA-Z\\-][a-zA-Z\\-]{2,}')\n"
     ]
    },
    {
     "name": "stdout",
     "output_type": "stream",
     "text": [
      "[0.03333333 0.03333625 0.03333333 0.03333333 0.03333334 0.03333333\n",
      " 0.36668547 0.36664495 0.03333333 0.03333333] 1.0\n"
     ]
    }
   ],
   "source": [
    "from sklearn.decomposition import LatentDirichletAllocation\n",
    "from sklearn.feature_extraction.text import CountVectorizer\n",
    " \n",
    "NUM_TOPICS = 10\n",
    " \n",
    "vectorizer = CountVectorizer(min_df=5, max_df=0.9, \n",
    "                             stop_words='english', lowercase=True, \n",
    "                             token_pattern='[a-zA-Z\\-][a-zA-Z\\-]{2,}')\n",
    "data_vectorized = vectorizer.fit_transform(data['REASONNPSSCORE__C'])\n",
    " \n",
    "# Build a Latent Dirichlet Allocation Model\n",
    "lda_model = LatentDirichletAllocation(max_iter=10, learning_method='online')\n",
    "lda_Z = lda_model.fit_transform(data_vectorized)\n",
    " \n",
    "text = \"The economy is working better than ever\"\n",
    "x = lda_model.transform(vectorizer.transform([text]))[0]\n",
    "print(x, x.sum())"
   ]
  },
  {
   "cell_type": "code",
   "execution_count": 33,
   "id": "2817945c",
   "metadata": {},
   "outputs": [
    {
     "name": "stderr",
     "output_type": "stream",
     "text": [
      "C:\\Users\\HP\\anaconda3\\lib\\site-packages\\ipykernel\\ipkernel.py:287: DeprecationWarning: `should_run_async` will not call `transform_cell` automatically in the future. Please pass the result to `transformed_cell` argument and any exception that happen during thetransform in `preprocessing_exc_tuple` in IPython 7.17 and above.\n",
      "  and should_run_async(code)\n",
      "C:\\Users\\HP\\anaconda3\\lib\\site-packages\\sklearn\\utils\\deprecation.py:87: FutureWarning: Function get_feature_names is deprecated; get_feature_names is deprecated in 1.0 and will be removed in 1.2. Please use get_feature_names_out instead.\n",
      "  warnings.warn(msg, category=FutureWarning)\n",
      "C:\\Users\\HP\\anaconda3\\lib\\site-packages\\sklearn\\manifold\\_t_sne.py:780: FutureWarning: The default initialization in TSNE will change from 'random' to 'pca' in 1.2.\n",
      "  warnings.warn(\n",
      "C:\\Users\\HP\\anaconda3\\lib\\site-packages\\sklearn\\manifold\\_t_sne.py:790: FutureWarning: The default learning rate in TSNE will change from 200.0 to 'auto' in 1.2.\n",
      "  warnings.warn(\n",
      "C:\\Users\\HP\\anaconda3\\lib\\site-packages\\sklearn\\manifold\\_t_sne.py:819: FutureWarning: 'square_distances' has been introduced in 0.24 to help phase out legacy squaring behavior. The 'legacy' setting will be removed in 1.1 (renaming of 0.26), and the default setting will be changed to True. In 1.3, 'square_distances' will be removed altogether, and distances will be squared by default. Set 'square_distances'=True to silence this warning.\n",
      "  warnings.warn(\n"
     ]
    },
    {
     "data": {
      "text/html": [
       "\n",
       "<link rel=\"stylesheet\" type=\"text/css\" href=\"https://cdn.jsdelivr.net/gh/bmabey/pyLDAvis@3.3.1/pyLDAvis/js/ldavis.v1.0.0.css\">\n",
       "\n",
       "\n",
       "<div id=\"ldavis_el298425284871636008228928856\"></div>\n",
       "<script type=\"text/javascript\">\n",
       "\n",
       "var ldavis_el298425284871636008228928856_data = {\"mdsDat\": {\"x\": [32.42095184326172, 0.648955225944519, 71.01968383789062, 3.7859814167022705, -42.666500091552734, -3.6216893196105957, -3.632401704788208, -36.58440017700195, 44.391380310058594, 40.235809326171875], \"y\": [8.115229606628418, 71.70709991455078, 9.971006393432617, 33.18513488769531, -9.22206974029541, -43.52651596069336, -4.171707630157471, 35.804412841796875, 50.61538314819336, -31.591665267944336], \"topics\": [1, 2, 3, 4, 5, 6, 7, 8, 9, 10], \"cluster\": [1, 1, 1, 1, 1, 1, 1, 1, 1, 1], \"Freq\": [14.528445185913617, 13.446485687174928, 13.116025440104192, 12.863391567061052, 11.68126347817471, 9.078413703407522, 7.756406560739619, 7.282278346227285, 5.228603448261236, 5.018686582935842]}, \"tinfo\": {\"Term\": [\"friendly\", \"staff\", \"office\", \"like\", \"easy\", \"doctors\", \"great\", \"service\", \"health\", \"convenient\", \"xyz\", \"know\", \"time\", \"visit\", \"experience\", \"convenience\", \"really\", \"care\", \"feel\", \"told\", \"quick\", \"did\", \"appointment\", \"good\", \"location\", \"physician\", \"don\", \"nice\", \"access\", \"doctor\", \"thorough\", \"felt\", \"questions\", \"personal\", \"issues\", \"attention\", \"love\", \"hour\", \"customer\", \"answered\", \"communication\", \"close\", \"provided\", \"informative\", \"relationship\", \"great\", \"super\", \"assistant\", \"records\", \"worked\", \"spends\", \"awesome\", \"clinics\", \"martin\", \"waste\", \"quality\", \"plenty\", \"half\", \"minimal\", \"cared\", \"wait\", \"concerns\", \"service\", \"little\", \"time\", \"took\", \"good\", \"long\", \"listen\", \"listened\", \"care\", \"rushed\", \"quickly\", \"doctor\", \"needed\", \"talk\", \"like\", \"patient\", \"medical\", \"appointment\", \"feel\", \"people\", \"going\", \"cost\", \"minutes\", \"primary\", \"extremely\", \"free\", \"saw\", \"providers\", \"different\", \"prescription\", \"covid\", \"pharmacy\", \"change\", \"company\", \"year\", \"deal\", \"high\", \"state\", \"early\", \"employee\", \"pay\", \"low\", \"rude\", \"husband\", \"friend\", \"willing\", \"question\", \"urgent\", \"quite\", \"regular\", \"recommend\", \"insurance\", \"day\", \"able\", \"works\", \"given\", \"care\", \"reason\", \"years\", \"appointment\", \"need\", \"xyz\", \"don\", \"didn\", \"doctor\", \"visit\", \"provider\", \"work\", \"days\", \"convenient\", \"experience\", \"quick\", \"having\", \"spent\", \"lot\", \"usually\", \"online\", \"bit\", \"spend\", \"locations\", \"experiences\", \"positive\", \"level\", \"complete\", \"prescriptions\", \"options\", \"computer\", \"appreciated\", \"knowledge\", \"far\", \"rush\", \"basic\", \"mccay\", \"physicians\", \"easier\", \"deductible\", \"immediately\", \"brone\", \"member\", \"correct\", \"appointments\", \"lack\", \"visit\", \"waiting\", \"just\", \"make\", \"don\", \"follow\", \"pleasant\", \"time\", \"overall\", \"liked\", \"good\", \"doctor\", \"personable\", \"like\", \"feel\", \"office\", \"really\", \"able\", \"new\", \"xyz\", \"did\", \"told\", \"blood\", \"results\", \"asked\", \"person\", \"left\", \"test\", \"labs\", \"draw\", \"used\", \"doing\", \"check\", \"called\", \"referral\", \"working\", \"tried\", \"specialist\", \"email\", \"let\", \"closed\", \"daughter\", \"soon\", \"drawn\", \"entire\", \"talked\", \"terrible\", \"stated\", \"door\", \"send\", \"testing\", \"said\", \"lab\", \"did\", \"came\", \"sent\", \"later\", \"phone\", \"desk\", \"message\", \"weeks\", \"look\", \"come\", \"appt\", \"medication\", \"hours\", \"problem\", \"just\", \"times\", \"received\", \"instead\", \"took\", \"doctor\", \"getting\", \"friendly\", \"easy\", \"knowledgeable\", \"schedule\", \"fast\", \"excellent\", \"efficient\", \"prompt\", \"initial\", \"personalized\", \"environment\", \"interested\", \"understanding\", \"affordable\", \"located\", \"helpful\", \"competent\", \"responsive\", \"staff\", \"feedback\", \"well-being\", \"conveniently\", \"shuherk\", \"accessibility\", \"near\", \"compassionate\", \"personnel\", \"adequate\", \"local\", \"staffs\", \"convenient\", \"professional\", \"caring\", \"nice\", \"clean\", \"building\", \"timely\", \"appointment\", \"service\", \"attentive\", \"manner\", \"seen\", \"comfortable\", \"good\", \"care\", \"doctor\", \"scheduling\", \"time\", \"doctors\", \"think\", \"receptionist\", \"nurses\", \"cares\", \"amazing\", \"general\", \"opinion\", \"turnover\", \"unorganized\", \"line\", \"informed\", \"trust\", \"normal\", \"team\", \"confidence\", \"girl\", \"support\", \"carter\", \"truly\", \"kept\", \"ago\", \"muse\", \"virtual\", \"professionalism\", \"wonder\", \"feels\", \"solution\", \"fit\", \"lately\", \"really\", \"place\", \"nurse\", \"like\", \"needs\", \"feel\", \"job\", \"family\", \"fact\", \"new\", \"listens\", \"things\", \"room\", \"doctor\", \"patients\", \"help\", \"feeling\", \"good\", \"nice\", \"say\", \"rushed\", \"staff\", \"listen\", \"time\", \"got\", \"takes\", \"history\", \"away\", \"medicine\", \"wanted\", \"infection\", \"treated\", \"sinus\", \"experienced\", \"wasn\", \"ear\", \"center\", \"clear\", \"program\", \"medications\", \"drive\", \"prescribed\", \"following\", \"flu\", \"addressed\", \"stay\", \"antibiotics\", \"cough\", \"union\", \"diagnosed\", \"throat\", \"members\", \"thoroughly\", \"detailed\", \"month\", \"health\", \"way\", \"better\", \"went\", \"clinic\", \"days\", \"try\", \"current\", \"symptoms\", \"didn\", \"week\", \"taking\", \"sick\", \"day\", \"work\", \"appointment\", \"doctor\", \"new\", \"ease\", \"services\", \"pain\", \"kind\", \"employees\", \"courteous\", \"longer\", \"limited\", \"explain\", \"welcoming\", \"believe\", \"employer\", \"real\", \"polite\", \"town\", \"offered\", \"option\", \"accommodating\", \"city\", \"cook\", \"website\", \"completely\", \"meeting\", \"calling\", \"practice\", \"slow\", \"price\", \"touch\", \"individual\", \"hold\", \"portal\", \"location\", \"best\", \"patient\", \"use\", \"availability\", \"people\", \"scheduling\", \"getting\", \"work\", \"plan\", \"xyz\", \"appreciate\", \"hours\", \"time\", \"available\", \"professional\", \"know\", \"physician\", \"friends\", \"atmosphere\", \"healthcare\", \"poor\", \"haven\", \"money\", \"small\", \"area\", \"leaving\", \"looking\", \"approach\", \"diagnosis\", \"prefer\", \"attitude\", \"type\", \"enjoy\", \"pocket\", \"outside\", \"speak\", \"accessible\", \"humana\", \"higher\", \"unsure\", \"staffing\", \"loved\", \"network\", \"live\", \"retired\", \"tell\", \"concerned\", \"available\", \"glaser\", \"xyz\", \"long\", \"times\", \"clinic\", \"waiting\", \"work\", \"recommend\", \"convenience\", \"access\", \"exam\", \"visits\", \"happy\", \"scheduled\", \"sure\", \"concept\", \"pleased\", \"previous\", \"copay\", \"satisfied\", \"arvada\", \"coworkers\", \"breast\", \"happen\", \"maybe\", \"routine\", \"looked\", \"exams\", \"wellness\", \"hester\", \"cause\", \"confirmation\", \"forward\", \"mammogram\", \"previously\", \"mins\", \"giving\", \"likely\", \"physical\", \"office\", \"situation\", \"site\", \"arrived\", \"benefit\", \"want\", \"listening\", \"appointment\", \"idea\"], \"Freq\": [403.0, 439.0, 289.0, 418.0, 259.0, 208.0, 289.0, 389.0, 213.0, 266.0, 330.0, 143.0, 581.0, 241.0, 165.0, 108.0, 182.0, 361.0, 217.0, 141.0, 143.0, 184.0, 428.0, 379.0, 117.0, 86.0, 191.0, 186.0, 83.0, 760.0, 125.12987126015035, 93.32427813466786, 81.43674049359873, 79.57846162538227, 69.04788066139447, 61.502749613298896, 70.6419810168544, 38.31310324948129, 35.32713020111755, 26.6148933407511, 26.426838592848796, 25.92060226233624, 21.96451151185502, 19.164249513840566, 18.559708831436478, 275.7035693663362, 17.883979767487933, 14.616445338238606, 14.318777121033502, 13.569216625917065, 13.43767510115163, 13.201742705086193, 12.388590579364145, 12.39262809747658, 11.659191206723165, 37.82647039899864, 10.47066158373887, 10.415917397822591, 9.807250782433117, 9.031013174460284, 125.13152007852813, 50.5016504192702, 250.6514484049707, 41.9608474791065, 266.8378706346899, 70.78602017263033, 167.8762219196162, 55.47650258072311, 39.03236136753965, 29.62018066686868, 138.83209733748868, 44.801866833083416, 30.79990052746472, 170.75163796608356, 44.79183484490804, 34.4566678540636, 77.11895399900028, 47.77072514728984, 39.191883383077425, 57.869510580274174, 44.284081672586034, 35.68634303985888, 69.51306822663898, 60.69649764804931, 54.76147565011818, 53.93580437219516, 46.67879284388615, 39.81018641047913, 39.87581643806916, 35.857949645592434, 35.46416224849047, 34.161644556517004, 32.029562326887095, 30.312137092892645, 33.65624603873794, 28.81982413930187, 24.679823951475967, 23.52760029826126, 24.211553898090397, 20.583890369879615, 19.983690154885114, 19.949832467548617, 19.314398136200666, 19.099956519546605, 18.42637769905375, 17.849762975198413, 16.96609459156623, 16.067349885475178, 16.031588130328863, 15.751909533098315, 15.23753902258621, 15.01145010735617, 84.04766712397075, 42.30498944387949, 95.8531551912927, 73.9693343166297, 24.283628822636487, 31.187529714595833, 167.21787549221628, 24.82531443036786, 32.41809149975947, 146.4586948857872, 55.02910130584502, 112.96764778528336, 76.21462503923173, 62.80424372662698, 131.62666903724417, 59.45474105921699, 35.343538213127935, 49.52853167763621, 34.293353953514256, 39.77715833837397, 164.6823131134603, 142.21955783648852, 75.05243507961528, 61.454925954789154, 51.793600797450445, 32.11945161675713, 31.855976048823788, 28.694895596555064, 27.76733372784903, 26.115224219828693, 22.175808169183465, 20.6697711585011, 18.751466587218314, 18.677147075653743, 17.66883322601127, 16.522637860846, 17.386327107091304, 14.736534365993107, 14.47169735989874, 74.02208150132064, 13.975310236496842, 13.914364527383746, 12.512204785291885, 20.81195026172337, 11.98782634957206, 10.364773851422916, 9.197193806270793, 9.042700441270982, 9.036252433661781, 8.98354730007969, 124.67479722598702, 15.379694974176031, 180.89040038143793, 73.7619629248285, 111.69819102212902, 73.82382297902618, 114.52741157772473, 31.881514068936628, 32.819148210184544, 199.72405335377175, 23.117336083679938, 32.23570583868994, 97.33741132908501, 139.54646849943953, 33.33959773464986, 88.16197431440968, 57.88428360347382, 64.66795074016201, 45.253703748724405, 36.33654127529976, 32.28294796343259, 37.41724737426545, 34.208185974909156, 140.89896147438256, 118.24591405010028, 65.34246550685435, 62.128421220490274, 55.80916132874733, 54.417854712413515, 55.3031349929257, 38.9507283307851, 32.83661666048812, 34.11116411696373, 29.423242937573207, 28.697898696344673, 95.39407818770405, 21.525185898767134, 20.57063928019844, 19.88463569970577, 19.523763502232796, 17.090080382075175, 15.916516478451852, 15.910886526986939, 16.63998908866669, 15.840799622803615, 15.722126909157524, 15.42348601720522, 15.234414258852711, 15.028382560768607, 14.125988064314932, 14.021495045871065, 13.653266617423734, 13.499415208173373, 66.6935589983633, 27.550808854848, 147.726626410509, 42.752097333197085, 20.172006559122792, 36.463143416973075, 75.46092496248394, 28.704866802187812, 19.6792570939242, 29.35916433599016, 21.06481239691361, 34.52980945364783, 47.060157993517514, 30.188125995617206, 39.11154552075961, 27.68658141876222, 61.938173303242586, 37.86792654474944, 32.236687201959725, 27.61909950706855, 37.31409813586565, 48.56118855957822, 29.557807376813567, 402.6409704511718, 257.75372742555174, 77.48206520556764, 75.43421394392813, 70.77221845088258, 50.76548498959116, 49.012287228200584, 36.136457254049965, 22.899129513939496, 20.912598750025932, 19.10909473841371, 18.445948774080648, 17.88678333176337, 15.900135930575852, 12.847465204759448, 102.42295312808156, 11.331872352847295, 10.359398815825802, 397.43235249246055, 7.670151459825198, 7.575178263145617, 7.475356733838507, 7.371666190859656, 7.222881317864793, 7.168146838473875, 6.985676486990199, 6.752806008242751, 6.6967971407266225, 6.528864191221683, 5.009380809939291, 225.74476875082024, 97.66187308781818, 43.74086087922908, 132.6530792192222, 24.81138075259647, 10.69735659925211, 28.67029037715015, 142.83604991317594, 129.52954298009385, 22.77305169746027, 17.09075810452547, 31.900736643273028, 22.256928385618654, 54.2242772824717, 44.90582292327426, 53.71177292482261, 20.522460989246454, 31.258852664599154, 207.96832302358763, 56.36204983582389, 31.150620658995138, 26.723520111772824, 16.41371097818516, 16.087751670959545, 16.094671115696478, 15.571774544824773, 13.996162099513793, 13.761127311669883, 13.771866575013402, 13.574817639552965, 13.22036723125949, 12.955408431283825, 12.107883965713341, 11.636119561058655, 10.017046094829444, 9.837810350933097, 9.673424364797416, 9.574739258156507, 9.406146206562815, 9.226360585635552, 8.942851230333765, 8.709604232851863, 8.567074043466121, 8.091658361171403, 8.05373859027158, 7.807834897575566, 7.722418702401744, 7.487515391416829, 135.01926401689468, 29.18816142099299, 76.52647547701275, 246.74683217172512, 40.892083539203995, 114.70994228127084, 23.825728223863393, 33.14042917019033, 15.067051285860996, 53.92894994233838, 17.154890426291754, 32.20657173291193, 32.65577173059404, 171.85202913811415, 33.49403595507818, 31.082189201053087, 20.895289116029016, 53.39065332121895, 32.89655495576988, 18.231983313670295, 21.573741246056468, 33.72585633591949, 18.40091112859093, 22.9985741603048, 16.509452632734988, 50.25638016357442, 42.320139365224875, 31.57636608649872, 30.496288704708935, 27.809546107619553, 27.588584926796013, 25.419228193062636, 22.666525504297006, 21.38246006039975, 40.5400387216764, 19.97869523406936, 19.422311410429224, 17.864428341691866, 17.106689242615026, 16.841957204339234, 16.09491690294833, 14.354687108229426, 13.908845069526592, 13.657641281954474, 13.531061562870871, 13.44920837840916, 12.292139133876617, 11.966011506663131, 11.01345112899706, 10.933934166560366, 10.862815390787194, 10.79251123879736, 10.04501620158884, 9.958423139088126, 9.1450087474039, 179.2819863930025, 59.458949763761176, 56.8668954766069, 59.18346363026043, 66.98621508455922, 43.58157329818263, 19.482827327404824, 20.01351467783944, 19.774816549530257, 48.835883896587966, 21.881213719904476, 22.033282443711844, 23.784536125133798, 36.33838730343429, 30.014810373125997, 36.087403770153664, 36.75412492305439, 19.177024023919998, 57.02548702913934, 52.61748614479505, 51.112330952429275, 49.185614545316255, 42.70689100011782, 38.18345524056098, 30.122996823687878, 27.175112295237955, 25.750783871053162, 23.410698460249698, 22.993118584902664, 22.783831274983125, 20.421030448768526, 20.28881922757394, 18.92986388505713, 16.43878432179548, 15.536100242966008, 15.06818537524799, 13.81851892956456, 13.601733883480117, 12.924711682518696, 12.71901592641704, 12.582024798786788, 11.928768028573414, 12.420920710150344, 10.707158051802761, 10.675530074863238, 10.657881044197055, 10.204475772605253, 9.72540116662855, 27.441502634332757, 98.16319148794295, 32.960663114867195, 81.29221250832605, 41.40000693844953, 24.976868856702538, 60.393287213957116, 33.9549994763413, 36.51656185585597, 59.65019759100864, 21.192286124010472, 58.38043048958895, 18.886493042190555, 24.53877589991778, 46.855379765419016, 22.440322995977493, 19.597639657003217, 141.80688037166541, 85.42730629271092, 37.0510847887504, 27.19116799550912, 27.229269253229784, 22.77106605786439, 22.446931143348042, 22.22314826756176, 20.795575104199486, 19.44874767559528, 18.68066182700754, 18.57546295350593, 17.726852913316186, 17.276954407842762, 14.877363299128868, 14.83374552828222, 14.546980201542283, 13.616255571340526, 12.918930303240272, 12.857270972434286, 12.241317227931672, 12.07002257767417, 20.827596954397276, 11.333475396593903, 10.087351157002352, 8.604929649415917, 8.174347790107914, 8.009086501828495, 7.95580709407764, 7.60242105731657, 37.09967949316226, 19.357347412350034, 40.77523171000125, 13.745933111464597, 111.30437255309276, 29.26410565545874, 21.598716301033118, 25.051740623843724, 19.435495157353415, 20.499453144299718, 16.52946643788947, 107.83630766278328, 82.66497167853674, 47.96121446508647, 43.07352364339318, 39.99466026864116, 38.28227092487501, 50.10314738924613, 28.086166923668223, 27.123457533117346, 26.300767996410443, 22.429916977438367, 20.92012055173159, 15.379700774142062, 12.96133840167255, 12.507116538935312, 11.626959779784649, 11.24471009260283, 10.798833397832825, 10.326343247004777, 10.127441912517028, 9.855015285916311, 9.31033130917585, 8.985212118785755, 8.739744090264828, 8.103162956412499, 8.07452162623647, 8.056197400952351, 8.00356081664352, 7.731357702653125, 7.6901982066171835, 41.16100847439682, 197.60226387263705, 11.275317765068811, 15.061628917241995, 13.465958413643383, 12.221831089859561, 21.502063072069454, 12.250462396488327, 25.129612520535396, 10.625587433517056], \"Total\": [403.0, 439.0, 289.0, 418.0, 259.0, 208.0, 289.0, 389.0, 213.0, 266.0, 330.0, 143.0, 581.0, 241.0, 165.0, 108.0, 182.0, 361.0, 217.0, 141.0, 143.0, 184.0, 428.0, 379.0, 117.0, 86.0, 191.0, 186.0, 83.0, 760.0, 126.01853523543389, 94.21188836495858, 82.32434430960899, 80.46592927148795, 69.96512142017626, 62.390217171722135, 71.78282985046907, 39.2170314890366, 36.21462086560723, 27.505430971847787, 27.314434073779545, 26.808122412390063, 22.852136715361354, 20.05169882247175, 19.447745155124473, 289.29807867628693, 18.77188745791463, 15.504248452833789, 15.206419112577382, 14.456875678526112, 14.33128848617569, 14.089202377945307, 13.276233866429074, 13.280582752532121, 12.546913446456946, 40.72676713471654, 11.358272812040335, 11.303497863356364, 10.694948387175556, 9.918518290046832, 138.11035085735298, 56.358270088129984, 389.47254578852284, 56.2318849701363, 581.3515448158563, 116.20407203020102, 379.30391440416867, 92.19279196640385, 59.13526087647661, 41.33019664633084, 361.2507268278579, 76.26280309254622, 44.94795372236729, 760.1250633683939, 86.94554540461347, 59.96964555190759, 418.30494812858456, 133.73488501368115, 89.04905867448454, 428.5774748283687, 217.61474125526763, 122.15937227844101, 70.39566722587142, 61.57939249286737, 55.64414549251266, 54.818484076226426, 47.56143398992573, 40.69265499695167, 40.80659013090151, 36.74108545733221, 36.34696892074504, 35.06526054614256, 32.95185714151103, 31.194826247623467, 34.660487561185604, 29.702246200604097, 25.5662813252102, 24.41012116026264, 25.1630896358025, 21.4662705429236, 20.86635067764194, 20.83225190439459, 20.197177208905938, 19.9824238150363, 19.308869226337574, 18.737588810686006, 17.849110413310047, 16.949950761614712, 16.91420905183033, 16.63447211783832, 16.120507935574906, 15.89389566037335, 101.35538145667606, 51.34183695822481, 132.97115667776737, 111.09464430002338, 28.13645836499902, 38.726407351573215, 361.2507268278579, 29.184916217142444, 43.706725529116916, 428.5774748283687, 103.08278771838086, 330.7691141173672, 191.54753778811587, 144.4405684581571, 760.1250633683939, 241.40307127637192, 69.32291276491466, 181.1379349808433, 78.65449592693983, 266.37055537591334, 165.58906171042617, 143.11313853986405, 75.93765606933363, 62.340503673494034, 52.67918742607549, 33.004510128382115, 32.7462846259229, 29.579946550176818, 28.65352464305727, 27.00038814044895, 23.061876688463204, 21.555106555531214, 19.637261625978873, 19.562189491859762, 18.553967866241493, 17.40878893256227, 18.400872107827425, 15.621550870773772, 15.357025675688892, 78.6479200698365, 14.86029993097866, 14.79944655225734, 13.397245352485426, 22.325965585697087, 12.872843098967094, 11.249860858148704, 10.082483241905743, 9.927688257134019, 9.921425729308183, 9.868870703010801, 143.77167574432892, 17.322015796574288, 241.40307127637192, 93.98287272751391, 174.49509428741905, 110.07315129642541, 191.54753778811587, 42.644993170839314, 46.164740984689466, 581.3515448158563, 30.257146824927332, 52.196122689234194, 379.30391440416867, 760.1250633683939, 59.361996547069026, 418.30494812858456, 217.61474125526763, 289.02458921388524, 182.93265757987302, 111.09464430002338, 106.08181893947048, 330.7691141173672, 184.3137383217196, 141.7816442856552, 119.12713620219967, 66.22402851836867, 63.10099249920799, 56.68943302077144, 55.299551311624214, 56.231526455801436, 39.8308891404195, 33.716503210161115, 35.02525054867783, 30.30339063612118, 29.57893638095012, 98.50188999694292, 22.405577813772382, 21.45075124584847, 20.768535161932412, 20.403891683028252, 17.970037486032496, 16.796741319006912, 16.79107499399879, 17.561388323100655, 16.720740031945013, 16.60197360779056, 16.303459834519863, 16.114520107637798, 15.908545775822642, 15.006297549098797, 14.901586422517243, 14.533375066294266, 14.379539832938523, 74.58428298823048, 30.528368811746713, 184.3137383217196, 49.16384544913744, 21.980051231849345, 42.94295835767605, 105.12880541983934, 34.25814759842023, 21.7927929333015, 35.86801560143284, 23.953373059006285, 46.37145741747266, 75.59781569144688, 40.33383714532967, 64.66280238765715, 37.37746580523478, 174.49509428741905, 74.32933655196857, 59.61790349689723, 46.573315342060184, 116.20407203020102, 760.1250633683939, 78.14320812199739, 403.5360417597882, 259.56424100094597, 78.37614701218837, 76.32360660733016, 71.9461286818781, 51.655253994728675, 49.90155695941865, 37.02553615426852, 23.78841549530308, 21.801849020163118, 19.999844643906343, 19.3353152597002, 18.77598972700256, 16.78915118915496, 13.736879722373448, 110.22205828493006, 12.22090778829702, 11.24841524577683, 439.4628184715024, 8.559436717151387, 8.464490723501969, 8.364419909390357, 8.261100786528557, 8.111919052684684, 8.05777708276465, 7.874671129185933, 7.641847272834364, 7.586067250091928, 7.418325985952733, 5.898549192784487, 266.37055537591334, 118.05208955582616, 56.24669609410084, 186.9985066915521, 32.35101014650238, 13.074153450022797, 47.06692872680893, 428.5774748283687, 389.47254578852284, 39.172304842102555, 28.299905805902007, 77.58040423810384, 56.55020690783825, 379.30391440416867, 361.2507268278579, 760.1250633683939, 56.05066413022436, 581.3515448158563, 208.85348454953456, 57.243219687553875, 32.03177022649466, 27.604571233905496, 17.295397436837895, 16.968828173044972, 16.976169316564505, 16.452840203412983, 14.877275775186265, 14.642337515841287, 14.654018831576984, 14.456224650201035, 14.101486326868216, 13.837120749728651, 12.98910597901546, 12.517350961862531, 10.898170861047442, 10.71931706972472, 10.554502400318405, 10.455832128933837, 10.290795731505193, 10.107773433830735, 9.824164958844595, 9.59073203136306, 9.453691807915554, 8.972745320151349, 8.934830435512731, 8.689072155587814, 8.603461922627458, 8.36861054384687, 182.93265757987302, 36.948888203645694, 110.5142829431116, 418.30494812858456, 57.69013268841695, 217.61474125526763, 33.348412378231224, 51.47156120160996, 19.09712936564592, 106.08181893947048, 23.416585952325562, 61.34580365196977, 63.50983256726881, 760.1250633683939, 69.66792334927352, 62.14663032884696, 33.56093871113303, 379.30391440416867, 186.9985066915521, 38.27317487522071, 76.26280309254622, 439.4628184715024, 59.13526087647661, 581.3515448158563, 71.62477792323963, 51.132110587594056, 43.19592668705153, 32.45209242950436, 31.372218822572968, 28.6856121235482, 28.464200387515525, 26.294876289046407, 23.542114278140545, 22.258184116056025, 42.223849973800746, 20.85434008987737, 20.29795693432474, 18.740254305401255, 17.982575711007645, 17.718258439477918, 16.970601807372667, 15.230391480120455, 14.784536323360449, 14.533725240241967, 14.406813528803127, 14.32538935839278, 13.167812544371325, 12.841669431304194, 11.889073162337061, 11.809672669574036, 11.73853488059519, 11.668165940039424, 10.920740333050684, 10.834522077605296, 10.020721685699067, 213.34976438943684, 71.01414512216856, 76.69098981231245, 87.08355045843244, 129.9932553511256, 78.65449592693983, 27.158936246724718, 29.801563286081908, 29.808585582452388, 144.4405684581571, 36.560432929603856, 38.40454354014279, 48.14347295559851, 132.97115667776737, 181.1379349808433, 428.5774748283687, 760.1250633683939, 106.08181893947048, 57.90543131341204, 53.49770208683113, 51.99245396530454, 50.06528097003955, 43.58649259433192, 39.06312059183316, 31.002688151420482, 28.08318783717455, 26.630480689536277, 24.290308830711396, 23.87279554295148, 23.66393391667959, 21.300631148377605, 21.16845046229431, 19.809555673990197, 17.318463501467424, 16.415738471529497, 15.947831113990482, 14.698087773867528, 14.481470235902892, 13.804384936143656, 13.598646524334892, 13.463828271774682, 12.80860791404066, 13.349135755189131, 11.586975688547147, 11.55514320723316, 11.537609076584797, 11.084232864843695, 10.605861486446198, 30.76698809532799, 117.45629858679641, 39.80848477507813, 133.73488501368115, 67.99133008502862, 35.26068508169519, 122.15937227844101, 56.05066413022436, 78.14320812199739, 181.1379349808433, 32.553755887160534, 330.7691141173672, 28.92548373175741, 64.66280238765715, 581.3515448158563, 64.4639323712324, 118.05208955582616, 143.09428020158916, 86.30234534195604, 37.93458819721155, 28.065430189775157, 28.115802573606107, 23.645231303661323, 23.32092670865727, 23.097226494452975, 21.669690713828633, 20.32290244901067, 19.554854461317394, 19.44957535202273, 18.60087110986689, 18.15351721972218, 15.751374392442498, 15.708013418947653, 15.421068174380043, 14.490240624173696, 13.792877154474313, 13.731297048887475, 13.115552281077637, 12.944112488627797, 22.416189076776295, 12.207454392836103, 10.961358431413469, 9.478987796085256, 9.049211437348841, 8.884122833128128, 8.829764482800083, 8.476391817395273, 51.12983350054018, 24.71646747541338, 64.4639323712324, 18.382356780153216, 330.7691141173672, 92.19279196640385, 74.32933655196857, 129.9932553511256, 93.98287272751391, 181.1379349808433, 101.35538145667606, 108.71116731813915, 83.54138678250287, 48.933203779763396, 43.95432322142621, 40.86917598348629, 39.167098706772954, 51.421380231804285, 28.961779257445265, 27.997994908046554, 27.175335588486366, 23.30437416827556, 21.79478281669811, 16.264288188151838, 13.835813215021597, 13.385177235665292, 12.501598516052207, 12.11947112762698, 11.673325354459646, 11.201009193850442, 11.002185856116593, 10.730818025462076, 10.185072034857498, 9.859746497022426, 9.614265431488246, 8.978139387745736, 8.949038731830289, 8.930778885869813, 8.878218466038634, 8.605938286301837, 8.56493315488372, 48.51339125618142, 289.02458921388524, 13.62529973509172, 20.08809846570665, 18.38103323862929, 16.090497453179964, 37.3271085348307, 19.174762343286762, 428.5774748283687, 17.833315194251874], \"Category\": [\"Default\", \"Default\", \"Default\", \"Default\", \"Default\", \"Default\", \"Default\", \"Default\", \"Default\", \"Default\", \"Default\", \"Default\", \"Default\", \"Default\", \"Default\", \"Default\", \"Default\", \"Default\", \"Default\", \"Default\", \"Default\", \"Default\", \"Default\", \"Default\", \"Default\", \"Default\", \"Default\", \"Default\", \"Default\", \"Default\", \"Topic1\", \"Topic1\", \"Topic1\", \"Topic1\", \"Topic1\", \"Topic1\", \"Topic1\", \"Topic1\", \"Topic1\", \"Topic1\", \"Topic1\", \"Topic1\", \"Topic1\", \"Topic1\", \"Topic1\", \"Topic1\", \"Topic1\", \"Topic1\", \"Topic1\", \"Topic1\", \"Topic1\", \"Topic1\", \"Topic1\", \"Topic1\", \"Topic1\", \"Topic1\", \"Topic1\", \"Topic1\", \"Topic1\", \"Topic1\", \"Topic1\", \"Topic1\", \"Topic1\", \"Topic1\", \"Topic1\", \"Topic1\", \"Topic1\", \"Topic1\", \"Topic1\", \"Topic1\", \"Topic1\", \"Topic1\", \"Topic1\", \"Topic1\", \"Topic1\", \"Topic1\", \"Topic1\", \"Topic1\", \"Topic1\", \"Topic1\", \"Topic1\", \"Topic1\", \"Topic2\", \"Topic2\", \"Topic2\", \"Topic2\", \"Topic2\", \"Topic2\", \"Topic2\", \"Topic2\", \"Topic2\", \"Topic2\", \"Topic2\", \"Topic2\", \"Topic2\", \"Topic2\", \"Topic2\", \"Topic2\", \"Topic2\", \"Topic2\", \"Topic2\", \"Topic2\", \"Topic2\", \"Topic2\", \"Topic2\", \"Topic2\", \"Topic2\", \"Topic2\", \"Topic2\", \"Topic2\", \"Topic2\", \"Topic2\", \"Topic2\", \"Topic2\", \"Topic2\", \"Topic2\", \"Topic2\", \"Topic2\", \"Topic2\", \"Topic2\", \"Topic2\", \"Topic2\", \"Topic2\", \"Topic2\", \"Topic2\", \"Topic2\", \"Topic2\", \"Topic2\", \"Topic2\", \"Topic2\", \"Topic2\", \"Topic2\", \"Topic3\", \"Topic3\", \"Topic3\", \"Topic3\", \"Topic3\", \"Topic3\", \"Topic3\", \"Topic3\", \"Topic3\", \"Topic3\", \"Topic3\", \"Topic3\", \"Topic3\", \"Topic3\", \"Topic3\", \"Topic3\", \"Topic3\", \"Topic3\", \"Topic3\", \"Topic3\", \"Topic3\", \"Topic3\", \"Topic3\", \"Topic3\", \"Topic3\", \"Topic3\", \"Topic3\", \"Topic3\", \"Topic3\", \"Topic3\", \"Topic3\", \"Topic3\", \"Topic3\", \"Topic3\", \"Topic3\", \"Topic3\", \"Topic3\", \"Topic3\", \"Topic3\", \"Topic3\", \"Topic3\", \"Topic3\", \"Topic3\", \"Topic3\", \"Topic3\", \"Topic3\", \"Topic3\", \"Topic3\", \"Topic3\", \"Topic3\", \"Topic3\", \"Topic3\", \"Topic3\", \"Topic4\", \"Topic4\", \"Topic4\", \"Topic4\", \"Topic4\", \"Topic4\", \"Topic4\", \"Topic4\", \"Topic4\", \"Topic4\", \"Topic4\", \"Topic4\", \"Topic4\", \"Topic4\", \"Topic4\", \"Topic4\", \"Topic4\", \"Topic4\", \"Topic4\", \"Topic4\", \"Topic4\", \"Topic4\", \"Topic4\", \"Topic4\", \"Topic4\", \"Topic4\", \"Topic4\", \"Topic4\", \"Topic4\", \"Topic4\", \"Topic4\", \"Topic4\", \"Topic4\", \"Topic4\", \"Topic4\", \"Topic4\", \"Topic4\", \"Topic4\", \"Topic4\", \"Topic4\", \"Topic4\", \"Topic4\", \"Topic4\", \"Topic4\", \"Topic4\", \"Topic4\", \"Topic4\", \"Topic4\", \"Topic4\", \"Topic4\", \"Topic4\", \"Topic4\", \"Topic4\", \"Topic5\", \"Topic5\", \"Topic5\", \"Topic5\", \"Topic5\", \"Topic5\", \"Topic5\", \"Topic5\", \"Topic5\", \"Topic5\", \"Topic5\", \"Topic5\", \"Topic5\", \"Topic5\", \"Topic5\", \"Topic5\", \"Topic5\", \"Topic5\", \"Topic5\", \"Topic5\", \"Topic5\", \"Topic5\", \"Topic5\", \"Topic5\", \"Topic5\", \"Topic5\", \"Topic5\", \"Topic5\", \"Topic5\", \"Topic5\", \"Topic5\", \"Topic5\", \"Topic5\", \"Topic5\", \"Topic5\", \"Topic5\", \"Topic5\", \"Topic5\", \"Topic5\", \"Topic5\", \"Topic5\", \"Topic5\", \"Topic5\", \"Topic5\", \"Topic5\", \"Topic5\", \"Topic5\", \"Topic5\", \"Topic6\", \"Topic6\", \"Topic6\", \"Topic6\", \"Topic6\", \"Topic6\", \"Topic6\", \"Topic6\", \"Topic6\", \"Topic6\", \"Topic6\", \"Topic6\", \"Topic6\", \"Topic6\", \"Topic6\", \"Topic6\", \"Topic6\", \"Topic6\", \"Topic6\", \"Topic6\", \"Topic6\", \"Topic6\", \"Topic6\", \"Topic6\", \"Topic6\", \"Topic6\", \"Topic6\", \"Topic6\", \"Topic6\", \"Topic6\", \"Topic6\", \"Topic6\", \"Topic6\", \"Topic6\", \"Topic6\", \"Topic6\", \"Topic6\", \"Topic6\", \"Topic6\", \"Topic6\", \"Topic6\", \"Topic6\", \"Topic6\", \"Topic6\", \"Topic6\", \"Topic6\", \"Topic6\", \"Topic6\", \"Topic6\", \"Topic6\", \"Topic6\", \"Topic6\", \"Topic6\", \"Topic6\", \"Topic6\", \"Topic7\", \"Topic7\", \"Topic7\", \"Topic7\", \"Topic7\", \"Topic7\", \"Topic7\", \"Topic7\", \"Topic7\", \"Topic7\", \"Topic7\", \"Topic7\", \"Topic7\", \"Topic7\", \"Topic7\", \"Topic7\", \"Topic7\", \"Topic7\", \"Topic7\", \"Topic7\", \"Topic7\", \"Topic7\", \"Topic7\", \"Topic7\", \"Topic7\", \"Topic7\", \"Topic7\", \"Topic7\", \"Topic7\", \"Topic7\", \"Topic7\", \"Topic7\", \"Topic7\", \"Topic7\", \"Topic7\", \"Topic7\", \"Topic7\", \"Topic7\", \"Topic7\", \"Topic7\", \"Topic7\", \"Topic7\", \"Topic7\", \"Topic7\", \"Topic7\", \"Topic7\", \"Topic7\", \"Topic7\", \"Topic8\", \"Topic8\", \"Topic8\", \"Topic8\", \"Topic8\", \"Topic8\", \"Topic8\", \"Topic8\", \"Topic8\", \"Topic8\", \"Topic8\", \"Topic8\", \"Topic8\", \"Topic8\", \"Topic8\", \"Topic8\", \"Topic8\", \"Topic8\", \"Topic8\", \"Topic8\", \"Topic8\", \"Topic8\", \"Topic8\", \"Topic8\", \"Topic8\", \"Topic8\", \"Topic8\", \"Topic8\", \"Topic8\", \"Topic8\", \"Topic8\", \"Topic8\", \"Topic8\", \"Topic8\", \"Topic8\", \"Topic8\", \"Topic8\", \"Topic8\", \"Topic8\", \"Topic8\", \"Topic8\", \"Topic8\", \"Topic8\", \"Topic8\", \"Topic8\", \"Topic8\", \"Topic8\", \"Topic9\", \"Topic9\", \"Topic9\", \"Topic9\", \"Topic9\", \"Topic9\", \"Topic9\", \"Topic9\", \"Topic9\", \"Topic9\", \"Topic9\", \"Topic9\", \"Topic9\", \"Topic9\", \"Topic9\", \"Topic9\", \"Topic9\", \"Topic9\", \"Topic9\", \"Topic9\", \"Topic9\", \"Topic9\", \"Topic9\", \"Topic9\", \"Topic9\", \"Topic9\", \"Topic9\", \"Topic9\", \"Topic9\", \"Topic9\", \"Topic9\", \"Topic9\", \"Topic9\", \"Topic9\", \"Topic9\", \"Topic9\", \"Topic9\", \"Topic9\", \"Topic9\", \"Topic9\", \"Topic9\", \"Topic10\", \"Topic10\", \"Topic10\", \"Topic10\", \"Topic10\", \"Topic10\", \"Topic10\", \"Topic10\", \"Topic10\", \"Topic10\", \"Topic10\", \"Topic10\", \"Topic10\", \"Topic10\", \"Topic10\", \"Topic10\", \"Topic10\", \"Topic10\", \"Topic10\", \"Topic10\", \"Topic10\", \"Topic10\", \"Topic10\", \"Topic10\", \"Topic10\", \"Topic10\", \"Topic10\", \"Topic10\", \"Topic10\", \"Topic10\", \"Topic10\", \"Topic10\", \"Topic10\", \"Topic10\", \"Topic10\", \"Topic10\", \"Topic10\", \"Topic10\", \"Topic10\", \"Topic10\"], \"logprob\": [30.0, 29.0, 28.0, 27.0, 26.0, 25.0, 24.0, 23.0, 22.0, 21.0, 20.0, 19.0, 18.0, 17.0, 16.0, 15.0, 14.0, 13.0, 12.0, 11.0, 10.0, 9.0, 8.0, 7.0, 6.0, 5.0, 4.0, 3.0, 2.0, 1.0, -3.458, -3.7513, -3.8875, -3.9106, -4.0526, -4.1683, -4.0297, -4.6416, -4.7227, -5.0059, -5.013, -5.0323, -5.1979, -5.3343, -5.3664, -2.668, -5.4035, -5.6052, -5.6258, -5.6796, -5.6893, -5.707, -5.7706, -5.7703, -5.8313, -4.6544, -5.9388, -5.944, -6.0043, -6.0867, -3.458, -4.3654, -2.7633, -4.5506, -2.7007, -4.0277, -3.1641, -4.2714, -4.623, -4.8989, -3.3541, -4.4851, -4.8599, -3.1472, -4.4853, -4.7477, -3.942, -4.421, -4.6189, -4.2292, -4.4967, -4.7126, -3.9685, -4.1041, -4.207, -4.2222, -4.3667, -4.5259, -4.5242, -4.6304, -4.6415, -4.6789, -4.7433, -4.7984, -4.6938, -4.8489, -5.004, -5.0518, -5.0232, -5.1855, -5.2151, -5.2168, -5.2491, -5.2603, -5.2962, -5.328, -5.3788, -5.4332, -5.4354, -5.453, -5.4862, -5.5012, -3.7786, -4.4651, -3.6472, -3.9063, -5.0202, -4.77, -3.0907, -4.9981, -4.7313, -3.2232, -4.2021, -3.4829, -3.8764, -4.07, -3.33, -4.1248, -4.6449, -4.3074, -4.675, -4.5267, -3.0811, -3.2277, -3.8669, -4.0668, -4.2378, -4.7156, -4.7239, -4.8284, -4.8612, -4.9226, -5.0861, -5.1564, -5.2538, -5.2578, -5.3133, -5.3804, -5.3294, -5.4948, -5.5129, -3.8807, -5.5478, -5.5522, -5.6584, -5.1496, -5.7012, -5.8467, -5.9662, -5.9831, -5.9839, -5.9897, -3.3594, -5.4521, -2.9872, -3.8843, -3.4693, -3.8834, -3.4443, -4.7231, -4.6941, -2.8882, -5.0445, -4.712, -3.6069, -3.2467, -4.6784, -3.7059, -4.1267, -4.0158, -4.3728, -4.5923, -4.7106, -4.563, -4.6526, -3.2176, -3.3929, -3.986, -4.0364, -4.1437, -4.169, -4.1528, -4.5034, -4.6741, -4.636, -4.7839, -4.8088, -3.6076, -5.0964, -5.1418, -5.1757, -5.194, -5.3272, -5.3983, -5.3986, -5.3538, -5.4031, -5.4106, -5.4298, -5.4421, -5.4557, -5.5176, -5.5251, -5.5517, -5.563, -3.9655, -4.8496, -3.1703, -4.4102, -5.1614, -4.5693, -3.842, -4.8086, -5.1861, -4.786, -5.118, -4.6238, -4.3142, -4.7582, -4.4992, -4.8447, -4.0395, -4.5315, -4.6925, -4.8471, -4.5463, -4.2828, -4.7793, -2.0712, -2.5172, -3.7192, -3.746, -3.8098, -4.142, -4.1772, -4.4819, -4.9382, -5.0289, -5.1191, -5.1544, -5.1852, -5.3029, -5.5161, -3.4401, -5.6416, -5.7314, -2.0842, -6.0319, -6.0444, -6.0576, -6.0716, -6.092, -6.0996, -6.1254, -6.1593, -6.1676, -6.193, -6.4579, -2.6498, -3.4877, -4.291, -3.1815, -4.8579, -5.6993, -4.7134, -3.1076, -3.2053, -4.9437, -5.2307, -4.6066, -4.9666, -4.0761, -4.2647, -4.0856, -5.0477, -4.6269, -2.4798, -3.7854, -4.3783, -4.5316, -5.019, -5.0391, -5.0387, -5.0717, -5.1784, -5.1953, -5.1945, -5.2089, -5.2354, -5.2557, -5.3233, -5.3631, -5.5129, -5.5309, -5.5478, -5.558, -5.5758, -5.5951, -5.6263, -5.6527, -5.6692, -5.7263, -5.731, -5.762, -5.773, -5.8039, -2.9117, -4.4434, -3.4795, -2.3088, -4.1062, -3.0748, -4.6464, -4.3164, -5.1047, -3.8295, -4.9749, -4.345, -4.3311, -2.6705, -4.3058, -4.3805, -4.7776, -3.8395, -4.3238, -4.914, -4.7457, -4.2989, -4.9048, -4.6817, -5.0132, -3.7426, -3.9145, -4.2074, -4.2422, -4.3344, -4.3424, -4.4243, -4.5389, -4.5972, -3.9575, -4.6651, -4.6934, -4.777, -4.8203, -4.8359, -4.8813, -4.9957, -5.0273, -5.0455, -5.0548, -5.0609, -5.1508, -5.1777, -5.2607, -5.2679, -5.2744, -5.2809, -5.3527, -5.3614, -5.4466, -2.4708, -3.5745, -3.6191, -3.5791, -3.4553, -3.8851, -4.6903, -4.6634, -4.6754, -3.7713, -4.5742, -4.5672, -4.4907, -4.0669, -4.2581, -4.0738, -4.0555, -4.7061, -3.5532, -3.6337, -3.6627, -3.7011, -3.8423, -3.9543, -4.1914, -4.2944, -4.3482, -4.4435, -4.4615, -4.4707, -4.5801, -4.5866, -4.656, -4.7971, -4.8535, -4.8841, -4.9707, -4.9865, -5.0376, -5.0536, -5.0644, -5.1178, -5.0773, -5.2258, -5.2288, -5.2304, -5.2739, -5.322, -4.2847, -3.0101, -4.1014, -3.1987, -3.8734, -4.3788, -3.4958, -4.0717, -3.9989, -3.5082, -4.5431, -3.5297, -4.6583, -4.3965, -3.7496, -4.4858, -4.6213, -2.3109, -2.8177, -3.6531, -3.9625, -3.9611, -4.1399, -4.1543, -4.1643, -4.2307, -4.2976, -4.3379, -4.3436, -4.3903, -4.416, -4.5656, -4.5685, -4.588, -4.6541, -4.7067, -4.7115, -4.7606, -4.7747, -4.2291, -4.8376, -4.9541, -5.1131, -5.1644, -5.1848, -5.1915, -5.2369, -3.6518, -4.3023, -3.5573, -4.6447, -2.5531, -3.889, -4.1928, -4.0445, -4.2983, -4.245, -4.4603, -2.5438, -2.8096, -3.354, -3.4615, -3.5357, -3.5794, -3.3103, -3.8892, -3.924, -3.9548, -4.114, -4.1837, -4.4914, -4.6625, -4.6981, -4.7711, -4.8045, -4.845, -4.8897, -4.9092, -4.9365, -4.9933, -5.0289, -5.0566, -5.1322, -5.1357, -5.138, -5.1445, -5.1791, -5.1845, -3.5069, -1.9382, -4.8018, -4.5123, -4.6243, -4.7212, -4.1563, -4.7189, -4.0004, -4.8612], \"loglift\": [30.0, 29.0, 28.0, 27.0, 26.0, 25.0, 24.0, 23.0, 22.0, 21.0, 20.0, 19.0, 18.0, 17.0, 16.0, 15.0, 14.0, 13.0, 12.0, 11.0, 10.0, 9.0, 8.0, 7.0, 6.0, 5.0, 4.0, 3.0, 2.0, 1.0, 1.922, 1.9196, 1.9182, 1.918, 1.9159, 1.9147, 1.913, 1.9057, 1.9043, 1.8961, 1.896, 1.8954, 1.8894, 1.8838, 1.8823, 1.8809, 1.8806, 1.8701, 1.8689, 1.8657, 1.8647, 1.864, 1.8599, 1.8599, 1.8557, 1.8552, 1.8477, 1.8473, 1.8424, 1.8353, 1.8304, 1.8193, 1.4883, 1.6363, 1.1503, 1.4334, 1.114, 1.4211, 1.5136, 1.5959, 0.9728, 1.3971, 1.5511, 0.4358, 1.2658, 1.3749, 0.2382, 0.8996, 1.1083, -0.0732, 0.337, 0.6985, 1.9938, 1.992, 1.9905, 1.9902, 1.9877, 1.9845, 1.9834, 1.9821, 1.9819, 1.9803, 1.9781, 1.9777, 1.9771, 1.9763, 1.9712, 1.9696, 1.9679, 1.9645, 1.9632, 1.9632, 1.9618, 1.9613, 1.9597, 1.9579, 1.9557, 1.953, 1.9529, 1.9519, 1.9501, 1.9493, 1.8192, 1.8129, 1.6791, 1.5997, 1.8592, 1.7899, 1.2362, 1.8447, 1.7077, 0.9327, 1.3788, 0.9321, 1.0849, 1.1736, 0.2529, 0.6052, 1.3328, 0.7097, 1.1763, 0.1049, 2.0258, 2.0251, 2.0196, 2.017, 2.0144, 2.0042, 2.0038, 2.001, 1.9999, 1.998, 1.9922, 1.9894, 1.9852, 1.985, 1.9825, 1.9791, 1.9746, 1.973, 1.972, 1.9707, 1.9699, 1.9697, 1.963, 1.9611, 1.9601, 1.9494, 1.9394, 1.938, 1.9379, 1.9373, 1.8888, 1.9124, 1.7428, 1.7891, 1.5852, 1.6319, 1.517, 1.7405, 1.6901, 0.9629, 1.7622, 1.5494, 0.6712, 0.3363, 1.4544, 0.4743, 0.7071, 0.5341, 0.6345, 0.9138, 0.8417, -0.148, 0.3472, 2.0445, 2.0434, 2.0374, 2.0353, 2.0351, 2.0347, 2.0341, 2.0284, 2.0243, 2.0243, 2.0213, 2.0205, 2.0187, 2.0107, 2.0089, 2.0073, 2.0067, 2.0006, 1.997, 1.9969, 1.9969, 1.9967, 1.9963, 1.9953, 1.9946, 1.9939, 1.9903, 1.9899, 1.9883, 1.9876, 1.939, 1.9482, 1.8295, 1.911, 1.9649, 1.8872, 1.7192, 1.8739, 1.9488, 1.8505, 1.9223, 1.7559, 1.5768, 1.761, 1.548, 1.7507, 1.015, 1.3764, 1.4359, 1.5283, 0.9148, -0.6999, 1.0786, 2.145, 2.1402, 2.1357, 2.1355, 2.1307, 2.1298, 2.1292, 2.1229, 2.1091, 2.1055, 2.1016, 2.1001, 2.0987, 2.0928, 2.0802, 2.0738, 2.0717, 2.0649, 2.0467, 2.0375, 2.0362, 2.0348, 2.0333, 2.0311, 2.0302, 2.0274, 2.0235, 2.0225, 2.0195, 1.9838, 1.9817, 1.9576, 1.8957, 1.8038, 1.8818, 1.9465, 1.6515, 1.0484, 1.0463, 1.6048, 1.6429, 1.2585, 1.2147, 0.202, 0.0622, -0.5027, 1.1424, -0.7759, 2.395, 2.3838, 2.3714, 2.3668, 2.3469, 2.346, 2.3459, 2.3442, 2.3382, 2.3372, 2.3372, 2.3364, 2.3347, 2.3334, 2.329, 2.3263, 2.315, 2.3135, 2.3121, 2.3112, 2.3094, 2.308, 2.3053, 2.3029, 2.3008, 2.2959, 2.2954, 2.2923, 2.2912, 2.288, 2.0956, 2.1635, 2.0318, 1.8714, 2.0551, 1.759, 2.063, 1.959, 2.1622, 1.7227, 2.0881, 1.7549, 1.7341, 0.9124, 1.6669, 1.7064, 1.9254, 0.4386, 0.6615, 1.6577, 1.1366, -0.168, 1.2318, -0.8307, 0.9318, 2.5394, 2.5362, 2.5293, 2.5283, 2.5256, 2.5254, 2.5228, 2.5187, 2.5165, 2.516, 2.5138, 2.5126, 2.5088, 2.5067, 2.5059, 2.5037, 2.4974, 2.4956, 2.4945, 2.4939, 2.4935, 2.4878, 2.486, 2.4801, 2.4796, 2.4791, 2.4786, 2.4731, 2.4723, 2.4652, 2.3827, 2.3791, 2.2576, 2.1704, 1.8937, 1.9662, 2.2245, 2.1585, 2.1463, 1.4722, 2.0433, 2.001, 1.8515, 1.2594, 0.7591, 0.0821, -0.4726, 0.8462, 2.6044, 2.6031, 2.6027, 2.602, 2.5993, 2.5969, 2.5909, 2.5869, 2.5861, 2.5828, 2.5822, 2.5818, 2.5776, 2.5773, 2.5743, 2.5676, 2.5647, 2.563, 2.558, 2.5571, 2.5539, 2.5529, 2.552, 2.5486, 2.5477, 2.5408, 2.5405, 2.5404, 2.537, 2.5331, 2.5053, 2.4403, 2.431, 2.1219, 2.1236, 2.2749, 1.9153, 2.1185, 1.8589, 1.509, 2.1905, 0.8853, 2.1935, 1.6508, 0.1014, 1.5645, 0.824, 2.942, 2.9408, 2.9275, 2.9194, 2.919, 2.9134, 2.9128, 2.9124, 2.9099, 2.9071, 2.9053, 2.905, 2.9029, 2.9015, 2.8939, 2.8938, 2.8927, 2.8888, 2.8856, 2.8853, 2.882, 2.8811, 2.8775, 2.8767, 2.8679, 2.8543, 2.8493, 2.8473, 2.8468, 2.8422, 2.6303, 2.7066, 2.493, 2.6604, 1.8619, 1.8035, 1.7152, 1.3045, 1.375, 0.7722, 1.1375, 2.9839, 2.9815, 2.9719, 2.9718, 2.9704, 2.9692, 2.966, 2.9613, 2.9603, 2.9593, 2.9538, 2.951, 2.9361, 2.9267, 2.9242, 2.9195, 2.9171, 2.9141, 2.9107, 2.9092, 2.9069, 2.9022, 2.8991, 2.8966, 2.8895, 2.8892, 2.8889, 2.8883, 2.8848, 2.8843, 2.8277, 2.6117, 2.8027, 2.704, 2.6808, 2.717, 2.4404, 2.544, 0.1556, 2.4742]}, \"token.table\": {\"Topic\": [2, 3, 10, 5, 9, 8, 7, 5, 5, 6, 6, 1, 7, 1, 2, 3, 5, 7, 10, 2, 3, 5, 8, 3, 9, 1, 2, 4, 5, 9, 4, 10, 10, 4, 1, 9, 1, 3, 5, 6, 9, 6, 8, 1, 8, 9, 7, 1, 3, 8, 4, 10, 6, 8, 3, 7, 3, 4, 10, 3, 1, 5, 4, 7, 8, 3, 4, 10, 1, 2, 3, 5, 1, 6, 1, 5, 6, 10, 7, 2, 4, 8, 1, 5, 7, 4, 5, 7, 8, 9, 1, 1, 4, 2, 4, 6, 1, 5, 9, 1, 2, 5, 5, 3, 8, 3, 10, 4, 9, 1, 7, 6, 10, 10, 2, 5, 5, 8, 10, 3, 2, 7, 8, 2, 10, 4, 7, 1, 4, 2, 7, 2, 7, 2, 3, 4, 6, 7, 7, 9, 2, 3, 4, 6, 1, 2, 7, 2, 1, 2, 3, 4, 5, 6, 7, 8, 6, 4, 2, 3, 4, 4, 4, 7, 7, 2, 8, 3, 3, 5, 5, 4, 2, 8, 8, 9, 4, 5, 10, 10, 5, 3, 7, 3, 8, 2, 3, 6, 6, 7, 3, 7, 5, 5, 1, 3, 6, 1, 6, 6, 1, 6, 7, 3, 4, 7, 10, 2, 2, 5, 9, 6, 1, 4, 5, 8, 6, 2, 3, 10, 6, 9, 2, 1, 2, 3, 5, 6, 1, 2, 4, 6, 1, 2, 6, 1, 10, 10, 9, 3, 1, 7, 9, 2, 3, 6, 2, 5, 10, 2, 9, 7, 8, 1, 4, 8, 5, 9, 2, 3, 10, 3, 8, 7, 1, 6, 5, 1, 4, 8, 2, 3, 5, 1, 6, 7, 8, 3, 4, 6, 8, 9, 3, 5, 4, 8, 4, 3, 9, 6, 2, 4, 9, 4, 4, 3, 1, 2, 3, 6, 1, 2, 3, 8, 10, 8, 6, 1, 2, 6, 1, 3, 6, 2, 10, 1, 6, 1, 6, 9, 5, 5, 2, 8, 3, 1, 7, 9, 8, 1, 4, 10, 9, 3, 1, 9, 2, 2, 3, 6, 10, 1, 2, 5, 1, 10, 3, 1, 2, 3, 5, 9, 2, 4, 7, 7, 7, 8, 3, 7, 2, 4, 1, 10, 2, 9, 7, 6, 5, 2, 3, 4, 1, 4, 7, 5, 6, 9, 3, 6, 7, 2, 3, 5, 6, 6, 2, 4, 6, 6, 8, 1, 2, 3, 10, 3, 6, 8, 3, 9, 3, 7, 8, 1, 7, 8, 3, 6, 9, 2, 1, 2, 8, 4, 1, 3, 1, 5, 5, 2, 2, 4, 5, 4, 10, 9, 3, 4, 2, 6, 3, 8, 2, 3, 10, 1, 9, 8, 9, 7, 8, 3, 8, 9, 7, 2, 3, 10, 10, 8, 2, 2, 4, 6, 5, 8, 6, 7, 5, 1, 2, 3, 5, 10, 2, 1, 3, 2, 1, 3, 1, 2, 7, 2, 8, 1, 3, 6, 7, 2, 3, 1, 4, 6, 2, 9, 1, 4, 2, 1, 5, 4, 9, 3, 4, 6, 10, 2, 3, 1, 5, 6, 2, 4, 10, 2, 2, 4, 6, 5, 10, 5, 7, 8, 2, 4, 5, 7, 4, 4, 7, 1, 2, 5, 10, 8, 5, 2, 7, 7, 5, 10, 2, 10, 8, 9, 6, 4, 9, 4, 3, 1, 3, 3, 4, 5, 6, 9, 5, 2, 4, 7, 1, 6, 2, 10, 2, 7, 7, 1, 4, 7, 8, 1, 4, 7, 4, 6, 6, 9, 4, 4, 4, 3, 6, 7, 6, 1, 7, 7, 1, 2, 3, 5, 6, 7, 8, 1, 5, 3, 4, 9, 4, 1, 2, 4, 8, 8, 7, 4, 6, 6, 3, 7, 6, 9, 5, 7, 6, 9, 2, 2, 4, 8, 4, 3, 6, 2, 3, 10, 1, 5, 3, 9, 7, 10, 7, 7, 10, 1, 3, 7, 8, 4, 7, 4, 8, 8, 5, 10, 4, 7, 2, 6, 1, 2, 5, 7, 8, 9, 1, 4, 2, 5, 2, 3, 4, 8, 9, 2, 2, 6], \"Freq\": [0.6660987166956025, 0.3240480243384012, 0.9935195379996222, 0.8629277430577061, 0.9270624008052111, 0.9405667700381538, 0.9717624214410913, 0.9227442585504595, 0.9529963617419375, 0.8904038123645496, 0.9429054167344355, 0.9816243209435583, 0.9113130946817348, 0.13533142408668844, 0.3406618606320088, 0.04666600830575463, 0.3336619593861456, 0.08399881495035834, 0.05833251038219329, 0.12519851289769787, 0.8694341173451241, 0.31114432116199536, 0.6568602335642124, 0.9602119612888995, 0.9676966145124162, 0.10582316336561981, 0.25133001299334706, 0.6217110847730164, 0.013227895420702476, 0.9349058308807131, 0.21761562302132523, 0.707250774819307, 0.9222659993769144, 0.9825518988592484, 0.9674767561699114, 0.9620376319703335, 0.9937455391339942, 0.15316944009766756, 0.5871495203743923, 0.22975416014650132, 0.9549266097459773, 0.25524177931166037, 0.70900494253239, 0.01551255040169189, 0.3412761088372216, 0.6360145664693675, 0.9860689282058949, 0.922692403109327, 0.9459813210288326, 0.9634397428913944, 0.18644544761461743, 0.7457817904584697, 0.1507216372062537, 0.8289690046343954, 0.24774748697988014, 0.7432424609396404, 0.9803939283935809, 0.9905383757376108, 0.9712235983966672, 0.9065554605356001, 0.15297357550874643, 0.8413546652981054, 0.9644484994445122, 0.02030417893567394, 0.9368699612426833, 0.02034015018281172, 0.8746264578609039, 0.1017007509140586, 0.3847743123468811, 0.4622828069203535, 0.02768160520481159, 0.12456722342165215, 0.9073935981981746, 0.9251016091669108, 0.2133458644384014, 0.7822681696074718, 0.9474629518960859, 0.9128023730344321, 0.9360547990852301, 0.9809440776036501, 0.9804274104554018, 0.952504857461207, 0.21637655109686899, 0.7727733967745322, 0.9604992390531274, 0.07692706804663778, 0.10769789526529289, 0.5154113559124731, 0.10000518846062911, 0.19231767011659442, 0.903870790521684, 0.9698553147453337, 0.9528871740325426, 0.10782494832944395, 0.7547746383061076, 0.12938993799533274, 0.495135235236761, 0.3890348276860265, 0.08841700629227875, 0.9518776749967032, 0.9763571348826199, 0.8889260116598222, 0.9000968005448675, 0.9712614228538323, 0.9559774920788175, 0.9238692546951882, 0.9667914305645424, 0.20229428032034644, 0.7687182652173165, 0.90492486586705, 0.08871812410461274, 0.95866929325232, 0.9361089585194488, 0.9934581944460412, 0.15016674776065364, 0.848442124847693, 0.8368781189645221, 0.9667526688892943, 0.944028783658511, 0.9119584470038983, 0.9905911300938137, 0.9344579428861132, 0.9727845452251087, 0.9711137027141354, 0.9395905970952144, 0.3019975802478533, 0.6711057338841184, 0.9664604837334981, 0.9680328051078859, 0.721961080872895, 0.27073540532733564, 0.4322702675709948, 0.5594085815624639, 0.9831987249235666, 0.8888998829489182, 0.8465139545763793, 0.14595068182351367, 0.9229756447374606, 0.9314398720245614, 0.9364576458787289, 0.005425531537179828, 0.18446807226411416, 0.8029786675026146, 0.005425531537179828, 0.22154440640594725, 0.43616555011170866, 0.33923987230910674, 0.9629413686824306, 0.22496298075245155, 0.17365563426505032, 0.18418021815990185, 0.06446307635596565, 0.07104094129024786, 0.226278553739308, 0.048676200513688345, 0.009209010907995092, 0.9959134770895712, 0.9569886204559711, 0.39676834731265986, 0.6003731571178406, 0.939497285929578, 0.9787491838731016, 0.9637408405764433, 0.9428068716484173, 0.9590329837244737, 0.9584809681852886, 0.984363620253316, 0.932195002125278, 0.0038526108070346854, 0.9939735882149489, 0.9819332899742623, 0.946019172926797, 0.9600498348323532, 0.9865441663363345, 0.971943214555226, 0.9661675304855987, 0.9200501091332771, 0.950007379471771, 0.9809290275788293, 0.908910295715516, 0.9873148625927666, 0.9964426290943282, 0.943473191276712, 0.9539553219016902, 0.9763248475727286, 0.9881956042358888, 0.15709167291900636, 0.7854583645950317, 0.6411307376269715, 0.3497076750692572, 0.9409021870418275, 0.05085957767793662, 0.9868494844794004, 0.9346409424313649, 0.20219218489609064, 0.26652606190848316, 0.5284568468875097, 0.35755853265270227, 0.6257274321422289, 0.8953723361333062, 0.9871365664568366, 0.9298582445003529, 0.9632767765029607, 0.7503811730442868, 0.2344941165763396, 0.9469353447276643, 0.891053218768156, 0.9829783778668766, 0.9524284183554119, 0.9986716384552652, 0.9753631648153689, 0.9424976684456129, 0.11517315728769639, 0.3839105242923213, 0.02559403495282142, 0.4734896466271963, 0.9175851734663374, 0.8004873707640908, 0.1807552127531818, 0.9295906772575495, 0.2175999545563526, 0.7615998409472341, 0.9943793809837489, 0.4429165996451779, 0.015818449987327784, 0.2557316081284658, 0.14236604988595003, 0.13972964155472875, 0.237348030847913, 0.13961648873406649, 0.39092616845538614, 0.237348030847913, 0.95403329763843, 0.0034566423827479347, 0.04147970859297522, 0.8846819029725269, 0.959877249664661, 0.9787327255181877, 0.9433587384772787, 0.9876522911310626, 0.15467558679729138, 0.8389978799004592, 0.960314041518645, 0.4183654023142013, 0.08045488506042332, 0.4988202873746246, 0.06350815897399245, 0.9254046021924615, 0.8836461803312048, 0.953777948072496, 0.9010887647841885, 0.9723139013612128, 0.9428748445168306, 0.9689667615618273, 0.6031288246091284, 0.386621041416108, 0.044610615862266424, 0.936822933107595, 0.9606358737968804, 0.336448940348116, 0.6168230573048794, 0.8926372386708636, 0.9021824173071462, 0.9836917819156752, 0.9475506373907272, 0.9684409545894342, 0.9668571664447869, 0.17177218201546476, 0.6012026370541267, 0.21471522751933098, 0.8180463046963832, 0.15581834375169204, 0.930939049001009, 0.9862056779065641, 0.7196744399042646, 0.20990504497207718, 0.029986434996011023, 0.6418518552476871, 0.3553108484406839, 0.8745679376811035, 0.9787221613581467, 0.9923527327573992, 0.911634863133872, 0.9824417623901012, 0.9171796951439526, 0.06551283536742518, 0.9791395783937865, 0.8659500243018192, 0.05773000162012128, 0.8364590469736749, 0.13972022956651986, 0.8383213773991192, 0.9716257432437053, 0.9764997856076448, 0.9525657207029001, 0.967548345685031, 0.18407623515926147, 0.014343602739682711, 0.2103728401820131, 0.590478312783605, 0.01915851117819249, 0.2299021341383099, 0.6130723577021597, 0.11495106706915495, 0.9340411484050409, 0.9614293133865415, 0.9553693195638809, 0.6595049962063124, 0.016910384518110576, 0.3043869213259903, 0.7258615354946127, 0.12097692258243546, 0.14517230709892257, 0.3129113098030468, 0.6258226196060936, 0.21352386766284506, 0.7259811500536733, 0.7469072043788931, 0.2311855632601336, 0.9060264308955894, 0.9436091125214946, 0.9463575617413843, 0.15324848659945284, 0.8343528714859099, 0.9629491200183792, 0.5965759234197252, 0.07592784479887411, 0.3145582141667642, 0.9676580254420764, 0.08349554758209785, 0.8767032496120274, 0.8927766977898903, 0.9768850813508391, 0.9871071013191198, 0.9890944693584833, 0.8840549317901417, 0.9508356031215268, 0.18169735093837996, 0.6722801984720058, 0.14535788075070397, 0.8939507627277653, 0.2473506466067507, 0.141343226632429, 0.6007087131878232, 0.9035748071907491, 0.9076303647380218, 0.9703487290085547, 0.4379608339551687, 0.2807441243302364, 0.17967623957135126, 0.044919059892837815, 0.05614882486604727, 0.17355155113999718, 0.7437923620285594, 0.07437923620285594, 0.9594622438807208, 0.9562600646663337, 0.9655500454690853, 0.90712768966397, 0.9427359926595998, 0.04588672975788721, 0.9177345951577442, 0.935020875088198, 0.9010816787852163, 0.9884238406967838, 0.9524953138976887, 0.8981389047900835, 0.9161083957468968, 0.8687259436566935, 0.5335517327127239, 0.21342069308508957, 0.24252351486941995, 0.5175653311574054, 0.29903774689094537, 0.1725217770524685, 0.2773437892128906, 0.7106934598580321, 0.9004828220259056, 0.30165395276884316, 0.5090410452974228, 0.1791070344565006, 0.1069527257401544, 0.00534763628700772, 0.7112356261720267, 0.17647199747125475, 0.9395018107545916, 0.2533609163841139, 0.04524302078287748, 0.6967425200563132, 0.9780988725098209, 0.9238694875353285, 0.04151895875931756, 0.05189869844914695, 0.22489435994630344, 0.6850628195287397, 0.9772100977424438, 0.9724764722799019, 0.974674397240762, 0.976518244080859, 0.9467423182031646, 0.7601509862473703, 0.1983002572819227, 0.9809115767844537, 0.358919065845008, 0.029909922153750667, 0.605675923613451, 0.3301375854809348, 0.4736756661248195, 0.1865995048370501, 0.9407255183967964, 0.2946969956422522, 0.20465069141823072, 0.4911616594037537, 0.9878384209537107, 0.4211448646303047, 0.5559112213120022, 0.9942096080203594, 0.96322105435087, 0.9160088850354238, 0.9616979354801024, 0.21877923855548315, 0.7134105605070102, 0.05707284484056082, 0.14429005721400856, 0.8451274779677644, 0.984909502322379, 0.9406088135087625, 0.04479089588136964, 0.18945089663913947, 0.7848680003621492, 0.3379026382740214, 0.6450868548867681, 0.28160019362637495, 0.7148312607438748, 0.964354772142639, 0.8804155495718946, 0.9425154631920208, 0.9448022676777604, 0.9727119901947666, 0.09750710699093598, 0.8775639629184239, 0.9742470975914165, 0.8989345992181786, 0.952297852001854, 0.91921471738094, 0.9696206293764514, 0.9701428896376703, 0.956749914470814, 0.8957785319998817, 0.9519570465482715, 0.9850691953632227, 0.18727861424515405, 0.7491144569806162, 0.05350817549861544, 0.8301420192452956, 0.1694167386214889, 0.9520090333878158, 0.945359567683834, 0.9723019229216403, 0.9627108516820424, 0.5048835746225887, 0.12982720490295138, 0.23080391982746912, 0.12982720490295138, 0.9798295165178819, 0.933047297230912, 0.04910775248583747, 0.9459502333789944, 0.983913090098497, 0.9922219682188439, 0.6896865693036784, 0.2669754461820691, 0.022247953848505756, 0.9304917723403642, 0.938939314083345, 0.005466492496362356, 0.245992162336306, 0.7379764870089179, 0.005466492496362356, 0.856606879183558, 0.13705710066936927, 0.4361106056229091, 0.5367515146128112, 0.9677891599746417, 0.8287670451509815, 0.1677266638996034, 0.9206638260036157, 0.9818983550817832, 0.9437585548895977, 0.9769770144789001, 0.889014121678559, 0.9815168520285782, 0.9437978059936281, 0.4408766149767873, 0.03149118678405624, 0.5196045819369279, 0.9423193191302245, 0.9322140923430018, 0.9421074988409064, 0.5900648569839706, 0.11801297139679413, 0.28847615230327456, 0.09385355358453484, 0.8983125843091192, 0.9635333454165377, 0.9802338267345032, 0.10451184185897598, 0.39191940697115996, 0.4703032883653919, 0.982657965652228, 0.9702020638416311, 0.3746610379354294, 0.017841001806449017, 0.6065940614192666, 0.15467823502402125, 0.33513617588537936, 0.41247529339739003, 0.09022897043067907, 0.9632999861449068, 0.9099159865023323, 0.04549579932511661, 0.6444613432041212, 0.017973025507684655, 0.3337847594284293, 0.005135150145052758, 0.9906967576659027, 0.8473447039182667, 0.4985099438533357, 0.4985099438533357, 0.976972574691649, 0.19912287899367828, 0.7467107962262937, 0.14678576169954155, 0.8073216893474785, 0.9493417692135724, 0.9690955112062921, 0.9206966931279674, 0.9568954465790367, 0.9149443151786226, 0.9802051643234214, 0.9771921726489722, 0.9071061553565205, 0.9784970670029413, 0.00455101072476668, 0.0113775268119167, 0.903375628866186, 0.07736718232103357, 0.9494684657909281, 0.8476660678046638, 0.9782789217162221, 0.932941650276738, 0.9074796973936156, 0.958880668784897, 0.932895252090608, 0.019447163718516774, 0.9723581859258388, 0.3019264357614502, 0.6709476350254447, 0.977859107035008, 0.23434727171259429, 0.07811575723753143, 0.5728488864085638, 0.10415434298337524, 0.5669534926727358, 0.23345143815936178, 0.16675102725668697, 0.9308375241587524, 0.9238511117998877, 0.25425469065653533, 0.7236479657147544, 0.9428894514542351, 0.9780990036475459, 0.9040623101318946, 0.19561240191878534, 0.5216330717834275, 0.2608165358917138, 0.9782818001094341, 0.9919175759856992, 0.9156888356493431, 0.9370845775807974, 0.45927460308817536, 0.008600647997905907, 0.3440259199162362, 0.05332401758701662, 0.039562980790367165, 0.013761036796649449, 0.08084609118031552, 0.38243413128733317, 0.6161438781851479, 0.18835093449558335, 0.5112382507737262, 0.29598003992163097, 0.9944869853245574, 0.6109940792913638, 0.060238852887880945, 0.3184053652645136, 0.9534037708318739, 0.9591330725780418, 0.9507555664148224, 0.9629952157944632, 0.9564040314235308, 0.9218886363227186, 0.2577420535329022, 0.6995855738750203, 0.9410324989303842, 0.972695265359141, 0.9586711678965942, 0.9252193042975358, 0.9561314909490132, 0.9122956851170588, 0.9618579950512567, 0.19120084845733207, 0.19120084845733207, 0.6030180605192781, 0.9707282451198187, 0.9695644587823078, 0.9384059496781598, 0.24440451270171892, 0.7497833355764597, 0.9782882967707484, 0.9050733650594083, 0.0868870430457032, 0.7873775066926229, 0.20216449496161937, 0.4018527174694817, 0.5893839856219065, 0.9760990938385666, 0.9710151969903236, 0.023683297487568866, 0.9564105189064338, 0.15489871744673187, 0.8308203935779255, 0.941729751824179, 0.38292763181871037, 0.6017434214294021, 0.8085197776829762, 0.13939996166947866, 0.9468796860631102, 0.9451247879317425, 0.9318954040849456, 0.31004707384878505, 0.6775102724843821, 0.9439555444747371, 0.8915888855145907, 0.07176851166695064, 0.2760327371805794, 0.044165237948892704, 0.16561964230834764, 0.3312392846166953, 0.11041309487223176, 0.9683973433343731, 0.978986691856039, 0.8529858196316329, 0.10662322745395411, 0.34162802745816245, 0.111860504565947, 0.030232568801607296, 0.17534889904932233, 0.335581513697841, 0.9778504617857035, 0.7321527662529185, 0.228797739454037], \"Term\": [\"able\", \"able\", \"access\", \"accessibility\", \"accessible\", \"accommodating\", \"addressed\", \"adequate\", \"affordable\", \"ago\", \"amazing\", \"answered\", \"antibiotics\", \"appointment\", \"appointment\", \"appointment\", \"appointment\", \"appointment\", \"appointment\", \"appointments\", \"appointments\", \"appreciate\", \"appreciate\", \"appreciated\", \"approach\", \"appt\", \"appt\", \"appt\", \"appt\", \"area\", \"arrived\", \"arrived\", \"arvada\", \"asked\", \"assistant\", \"atmosphere\", \"attention\", \"attentive\", \"attentive\", \"attentive\", \"attitude\", \"availability\", \"availability\", \"available\", \"available\", \"available\", \"away\", \"awesome\", \"basic\", \"believe\", \"benefit\", \"benefit\", \"best\", \"best\", \"better\", \"better\", \"bit\", \"blood\", \"breast\", \"brone\", \"building\", \"building\", \"called\", \"called\", \"calling\", \"came\", \"came\", \"came\", \"care\", \"care\", \"care\", \"care\", \"cared\", \"cares\", \"caring\", \"caring\", \"carter\", \"cause\", \"center\", \"change\", \"check\", \"city\", \"clean\", \"clean\", \"clear\", \"clinic\", \"clinic\", \"clinic\", \"clinic\", \"clinic\", \"clinics\", \"close\", \"closed\", \"come\", \"come\", \"come\", \"comfortable\", \"comfortable\", \"comfortable\", \"communication\", \"company\", \"compassionate\", \"competent\", \"complete\", \"completely\", \"computer\", \"concept\", \"concerned\", \"concerned\", \"concerns\", \"concerns\", \"confidence\", \"confirmation\", \"convenience\", \"convenient\", \"convenient\", \"conveniently\", \"cook\", \"copay\", \"correct\", \"cost\", \"cough\", \"courteous\", \"covid\", \"coworkers\", \"current\", \"current\", \"customer\", \"daughter\", \"day\", \"day\", \"days\", \"days\", \"deal\", \"deductible\", \"desk\", \"desk\", \"detailed\", \"diagnosed\", \"diagnosis\", \"did\", \"did\", \"did\", \"did\", \"didn\", \"didn\", \"didn\", \"different\", \"doctor\", \"doctor\", \"doctor\", \"doctor\", \"doctor\", \"doctor\", \"doctor\", \"doctor\", \"doctors\", \"doing\", \"don\", \"don\", \"door\", \"draw\", \"drawn\", \"drive\", \"ear\", \"early\", \"ease\", \"easier\", \"easy\", \"easy\", \"efficient\", \"email\", \"employee\", \"employees\", \"employer\", \"enjoy\", \"entire\", \"environment\", \"exam\", \"exams\", \"excellent\", \"experience\", \"experienced\", \"experiences\", \"explain\", \"extremely\", \"fact\", \"fact\", \"family\", \"family\", \"far\", \"far\", \"fast\", \"feedback\", \"feel\", \"feel\", \"feel\", \"feeling\", \"feeling\", \"feels\", \"felt\", \"fit\", \"flu\", \"follow\", \"follow\", \"following\", \"forward\", \"free\", \"friend\", \"friendly\", \"friends\", \"general\", \"getting\", \"getting\", \"getting\", \"getting\", \"girl\", \"given\", \"given\", \"giving\", \"glaser\", \"glaser\", \"going\", \"good\", \"good\", \"good\", \"good\", \"good\", \"got\", \"got\", \"got\", \"got\", \"great\", \"great\", \"great\", \"half\", \"happen\", \"happy\", \"haven\", \"having\", \"health\", \"health\", \"healthcare\", \"help\", \"help\", \"help\", \"helpful\", \"helpful\", \"hester\", \"high\", \"higher\", \"history\", \"hold\", \"hour\", \"hours\", \"hours\", \"humana\", \"humana\", \"husband\", \"idea\", \"idea\", \"immediately\", \"individual\", \"infection\", \"informative\", \"informed\", \"initial\", \"instead\", \"instead\", \"instead\", \"insurance\", \"insurance\", \"interested\", \"issues\", \"job\", \"job\", \"job\", \"just\", \"just\", \"kept\", \"kind\", \"know\", \"knowledge\", \"knowledgeable\", \"lab\", \"lab\", \"labs\", \"lack\", \"lack\", \"lately\", \"later\", \"later\", \"leaving\", \"left\", \"let\", \"level\", \"like\", \"like\", \"like\", \"like\", \"liked\", \"liked\", \"liked\", \"liked\", \"likely\", \"limited\", \"line\", \"listen\", \"listen\", \"listen\", \"listened\", \"listened\", \"listened\", \"listening\", \"listening\", \"listens\", \"listens\", \"little\", \"little\", \"live\", \"local\", \"located\", \"location\", \"location\", \"locations\", \"long\", \"long\", \"long\", \"longer\", \"look\", \"look\", \"looked\", \"looking\", \"lot\", \"love\", \"loved\", \"low\", \"make\", \"make\", \"make\", \"mammogram\", \"manner\", \"manner\", \"manner\", \"martin\", \"maybe\", \"mccay\", \"medical\", \"medical\", \"medical\", \"medical\", \"medical\", \"medication\", \"medication\", \"medication\", \"medications\", \"medicine\", \"meeting\", \"member\", \"members\", \"message\", \"message\", \"minimal\", \"mins\", \"minutes\", \"money\", \"month\", \"muse\", \"near\", \"need\", \"need\", \"need\", \"needed\", \"needed\", \"needed\", \"needs\", \"needs\", \"network\", \"new\", \"new\", \"new\", \"nice\", \"nice\", \"nice\", \"nice\", \"normal\", \"nurse\", \"nurse\", \"nurse\", \"nurses\", \"offered\", \"office\", \"office\", \"office\", \"office\", \"online\", \"opinion\", \"option\", \"options\", \"outside\", \"overall\", \"overall\", \"pain\", \"patient\", \"patient\", \"patient\", \"patients\", \"patients\", \"patients\", \"pay\", \"people\", \"people\", \"people\", \"person\", \"personable\", \"personable\", \"personal\", \"personalized\", \"personnel\", \"pharmacy\", \"phone\", \"phone\", \"phone\", \"physical\", \"physical\", \"physician\", \"physicians\", \"physicians\", \"place\", \"place\", \"plan\", \"plan\", \"pleasant\", \"pleasant\", \"pleased\", \"plenty\", \"pocket\", \"polite\", \"poor\", \"portal\", \"portal\", \"positive\", \"practice\", \"prefer\", \"prescribed\", \"prescription\", \"prescriptions\", \"previous\", \"previously\", \"price\", \"primary\", \"problem\", \"problem\", \"problem\", \"professional\", \"professional\", \"professionalism\", \"program\", \"prompt\", \"provided\", \"provider\", \"provider\", \"provider\", \"provider\", \"providers\", \"quality\", \"quality\", \"question\", \"questions\", \"quick\", \"quickly\", \"quickly\", \"quickly\", \"quite\", \"real\", \"really\", \"really\", \"really\", \"really\", \"reason\", \"reason\", \"received\", \"received\", \"receptionist\", \"recommend\", \"recommend\", \"records\", \"referral\", \"regular\", \"relationship\", \"responsive\", \"results\", \"retired\", \"room\", \"room\", \"room\", \"routine\", \"rude\", \"rush\", \"rushed\", \"rushed\", \"rushed\", \"said\", \"said\", \"satisfied\", \"saw\", \"say\", \"say\", \"say\", \"schedule\", \"scheduled\", \"scheduling\", \"scheduling\", \"scheduling\", \"seen\", \"seen\", \"seen\", \"seen\", \"send\", \"sent\", \"sent\", \"service\", \"service\", \"service\", \"service\", \"services\", \"shuherk\", \"sick\", \"sick\", \"sinus\", \"site\", \"site\", \"situation\", \"situation\", \"slow\", \"small\", \"solution\", \"soon\", \"speak\", \"specialist\", \"spend\", \"spends\", \"spent\", \"staff\", \"staff\", \"staff\", \"staff\", \"staffing\", \"staffs\", \"state\", \"stated\", \"stay\", \"super\", \"support\", \"sure\", \"sure\", \"symptoms\", \"symptoms\", \"takes\", \"taking\", \"taking\", \"taking\", \"taking\", \"talk\", \"talk\", \"talk\", \"talked\", \"team\", \"tell\", \"tell\", \"terrible\", \"test\", \"testing\", \"things\", \"things\", \"things\", \"think\", \"thorough\", \"thoroughly\", \"throat\", \"time\", \"time\", \"time\", \"time\", \"time\", \"time\", \"time\", \"timely\", \"timely\", \"times\", \"times\", \"times\", \"told\", \"took\", \"took\", \"took\", \"touch\", \"town\", \"treated\", \"tried\", \"truly\", \"trust\", \"try\", \"try\", \"turnover\", \"type\", \"understanding\", \"union\", \"unorganized\", \"unsure\", \"urgent\", \"use\", \"use\", \"use\", \"used\", \"usually\", \"virtual\", \"visit\", \"visit\", \"visits\", \"wait\", \"wait\", \"waiting\", \"waiting\", \"want\", \"want\", \"wanted\", \"wasn\", \"wasn\", \"waste\", \"way\", \"way\", \"website\", \"week\", \"week\", \"weeks\", \"weeks\", \"welcoming\", \"well-being\", \"wellness\", \"went\", \"went\", \"willing\", \"wonder\", \"work\", \"work\", \"work\", \"work\", \"work\", \"work\", \"worked\", \"working\", \"works\", \"works\", \"xyz\", \"xyz\", \"xyz\", \"xyz\", \"xyz\", \"year\", \"years\", \"years\"]}, \"R\": 30, \"lambda.step\": 0.01, \"plot.opts\": {\"xlab\": \"PC1\", \"ylab\": \"PC2\"}, \"topic.order\": [1, 5, 2, 7, 9, 6, 8, 3, 10, 4]};\n",
       "\n",
       "function LDAvis_load_lib(url, callback){\n",
       "  var s = document.createElement('script');\n",
       "  s.src = url;\n",
       "  s.async = true;\n",
       "  s.onreadystatechange = s.onload = callback;\n",
       "  s.onerror = function(){console.warn(\"failed to load library \" + url);};\n",
       "  document.getElementsByTagName(\"head\")[0].appendChild(s);\n",
       "}\n",
       "\n",
       "if(typeof(LDAvis) !== \"undefined\"){\n",
       "   // already loaded: just create the visualization\n",
       "   !function(LDAvis){\n",
       "       new LDAvis(\"#\" + \"ldavis_el298425284871636008228928856\", ldavis_el298425284871636008228928856_data);\n",
       "   }(LDAvis);\n",
       "}else if(typeof define === \"function\" && define.amd){\n",
       "   // require.js is available: use it to load d3/LDAvis\n",
       "   require.config({paths: {d3: \"https://d3js.org/d3.v5\"}});\n",
       "   require([\"d3\"], function(d3){\n",
       "      window.d3 = d3;\n",
       "      LDAvis_load_lib(\"https://cdn.jsdelivr.net/gh/bmabey/pyLDAvis@3.3.1/pyLDAvis/js/ldavis.v3.0.0.js\", function(){\n",
       "        new LDAvis(\"#\" + \"ldavis_el298425284871636008228928856\", ldavis_el298425284871636008228928856_data);\n",
       "      });\n",
       "    });\n",
       "}else{\n",
       "    // require.js not available: dynamically load d3 & LDAvis\n",
       "    LDAvis_load_lib(\"https://d3js.org/d3.v5.js\", function(){\n",
       "         LDAvis_load_lib(\"https://cdn.jsdelivr.net/gh/bmabey/pyLDAvis@3.3.1/pyLDAvis/js/ldavis.v3.0.0.js\", function(){\n",
       "                 new LDAvis(\"#\" + \"ldavis_el298425284871636008228928856\", ldavis_el298425284871636008228928856_data);\n",
       "            })\n",
       "         });\n",
       "}\n",
       "</script>"
      ],
      "text/plain": [
       "PreparedData(topic_coordinates=               x          y  topics  cluster       Freq\n",
       "topic                                                  \n",
       "0      32.420952   8.115230       1        1  14.528445\n",
       "4       0.648955  71.707100       2        1  13.446486\n",
       "1      71.019684   9.971006       3        1  13.116025\n",
       "6       3.785981  33.185135       4        1  12.863392\n",
       "8     -42.666500  -9.222070       5        1  11.681263\n",
       "5      -3.621689 -43.526516       6        1   9.078414\n",
       "7      -3.632402  -4.171708       7        1   7.756407\n",
       "2     -36.584400  35.804413       8        1   7.282278\n",
       "9      44.391380  50.615383       9        1   5.228603\n",
       "3      40.235809 -31.591665      10        1   5.018687, topic_info=            Term        Freq       Total Category  logprob  loglift\n",
       "325     friendly  403.000000  403.000000  Default  30.0000  30.0000\n",
       "766        staff  439.000000  439.000000  Default  29.0000  29.0000\n",
       "553       office  289.000000  289.000000  Default  28.0000  28.0000\n",
       "452         like  418.000000  418.000000  Default  27.0000  27.0000\n",
       "248         easy  259.000000  259.000000  Default  26.0000  26.0000\n",
       "..           ...         ...         ...      ...      ...      ...\n",
       "71       benefit   12.221831   16.090497  Topic10  -4.7212   2.7170\n",
       "879         want   21.502063   37.327109  Topic10  -4.1563   2.4404\n",
       "460    listening   12.250462   19.174762  Topic10  -4.7189   2.5440\n",
       "32   appointment   25.129613  428.577475  Topic10  -4.0004   0.1556\n",
       "387         idea   10.625587   17.833315  Topic10  -4.8612   2.4742\n",
       "\n",
       "[517 rows x 6 columns], token_table=      Topic      Freq           Term\n",
       "term                                \n",
       "1         2  0.666099           able\n",
       "1         3  0.324048           able\n",
       "2        10  0.993520         access\n",
       "3         5  0.862928  accessibility\n",
       "4         9  0.927062     accessible\n",
       "...     ...       ...            ...\n",
       "915       8  0.175349            xyz\n",
       "915       9  0.335582            xyz\n",
       "916       2  0.977850           year\n",
       "917       2  0.732153          years\n",
       "917       6  0.228798          years\n",
       "\n",
       "[662 rows x 3 columns], R=30, lambda_step=0.01, plot_opts={'xlab': 'PC1', 'ylab': 'PC2'}, topic_order=[1, 5, 2, 7, 9, 6, 8, 3, 10, 4])"
      ]
     },
     "execution_count": 33,
     "metadata": {},
     "output_type": "execute_result"
    }
   ],
   "source": [
    "import pyLDAvis.sklearn\n",
    " \n",
    "pyLDAvis.enable_notebook()\n",
    "panel = pyLDAvis.sklearn.prepare(lda_model, data_vectorized, vectorizer, mds='tsne')\n",
    "panel"
   ]
  },
  {
   "cell_type": "markdown",
   "id": "1d96102d",
   "metadata": {},
   "source": [
    "#### Larger topics are more frequent in the corpus.\n",
    "#### Topics closer together are more similar, topics further apart are less similar.\n",
    "#### When you select a topic, you can see the most representative words for the selected topic. This measure can be a combination of how frequent or how discriminant the word is. \n",
    "#### Hovering over a word will adjust the topic sizes according to how representative the word is for the topic."
   ]
  },
  {
   "cell_type": "code",
   "execution_count": null,
   "id": "6d46d082",
   "metadata": {},
   "outputs": [],
   "source": []
  }
 ],
 "metadata": {
  "kernelspec": {
   "display_name": "Python 3",
   "language": "python",
   "name": "python3"
  },
  "language_info": {
   "codemirror_mode": {
    "name": "ipython",
    "version": 3
   },
   "file_extension": ".py",
   "mimetype": "text/x-python",
   "name": "python",
   "nbconvert_exporter": "python",
   "pygments_lexer": "ipython3",
   "version": "3.8.8"
  }
 },
 "nbformat": 4,
 "nbformat_minor": 5
}
